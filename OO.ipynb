{
 "cells": [
  {
   "cell_type": "markdown",
   "metadata": {},
   "source": [
    "# Object Orientation\n",
    "\n",
    "In Part 3 we will visit the Python Object Model that pervades the whole language, including the mysterious descriptors that lie at the core of Python's object oriented internal implementation. \n",
    "\n",
    "We will also briefly mention modern mechanisms that were recently added to the language such as Named Tuples and Data Classes."
   ]
  },
  {
   "cell_type": "markdown",
   "metadata": {},
   "source": [
    "## Everything is an object"
   ]
  },
  {
   "cell_type": "markdown",
   "metadata": {},
   "source": [
    "Everything in Python are objects, even \"native\" scalar values."
   ]
  },
  {
   "cell_type": "code",
   "execution_count": null,
   "metadata": {
    "ExecuteTime": {
     "end_time": "2018-09-25T19:59:16.141062Z",
     "start_time": "2018-09-25T19:59:16.136956Z"
    }
   },
   "outputs": [],
   "source": [
    "type(3.14)"
   ]
  },
  {
   "cell_type": "code",
   "execution_count": null,
   "metadata": {
    "ExecuteTime": {
     "end_time": "2018-09-25T10:24:51.598087Z",
     "start_time": "2018-09-25T10:24:51.556019Z"
    }
   },
   "outputs": [],
   "source": [
    "id(3.14)"
   ]
  },
  {
   "cell_type": "code",
   "execution_count": null,
   "metadata": {
    "ExecuteTime": {
     "end_time": "2018-09-25T10:24:52.691545Z",
     "start_time": "2018-09-25T10:24:52.686550Z"
    }
   },
   "outputs": [],
   "source": [
    "isinstance(3.14, object)"
   ]
  },
  {
   "cell_type": "markdown",
   "metadata": {},
   "source": [
    "But what is the type of the object class itself?"
   ]
  },
  {
   "cell_type": "code",
   "execution_count": null,
   "metadata": {
    "ExecuteTime": {
     "end_time": "2018-09-25T10:25:30.420657Z",
     "start_time": "2018-09-25T10:25:30.416964Z"
    }
   },
   "outputs": [],
   "source": [
    "type(object)"
   ]
  },
  {
   "cell_type": "markdown",
   "metadata": {},
   "source": [
    "The duality of __type__ and __object__"
   ]
  },
  {
   "cell_type": "code",
   "execution_count": null,
   "metadata": {
    "ExecuteTime": {
     "end_time": "2018-09-25T21:39:41.566760Z",
     "start_time": "2018-09-25T21:39:41.562720Z"
    }
   },
   "outputs": [],
   "source": [
    "isinstance(type, object)"
   ]
  },
  {
   "cell_type": "markdown",
   "metadata": {},
   "source": [
    "Before you ask....type is its own type! (like in Smalltalk)"
   ]
  },
  {
   "cell_type": "code",
   "execution_count": null,
   "metadata": {
    "ExecuteTime": {
     "end_time": "2018-09-25T10:27:57.842286Z",
     "start_time": "2018-09-25T10:27:57.838431Z"
    }
   },
   "outputs": [],
   "source": [
    "type(type)"
   ]
  },
  {
   "cell_type": "markdown",
   "metadata": {},
   "source": [
    "Back to our float instance ..."
   ]
  },
  {
   "cell_type": "code",
   "execution_count": null,
   "metadata": {
    "ExecuteTime": {
     "end_time": "2018-09-25T10:28:00.935455Z",
     "start_time": "2018-09-25T10:28:00.929352Z"
    }
   },
   "outputs": [],
   "source": [
    "dir(3.14)"
   ]
  },
  {
   "cell_type": "markdown",
   "metadata": {},
   "source": [
    "Unary Operators\n",
    "```\n",
    "- \t      object.__neg__(self)\n",
    "+ \t      object.__pos__(self)\n",
    "abs() \t  object.__abs__(self)\n",
    "~ \t      object.__invert__(self)\n",
    "complex()   object.__complex__(self)\n",
    "int() \t  object.__int__(self)\n",
    "long()      object.__long__(self)\n",
    "float()     object.__float__(self)\n",
    "oct() \t  object.__oct__(self)\n",
    "hex() \t  object.__hex__(self \n",
    "```\n",
    "\n",
    "Binary Operators\n",
    "```\n",
    "+ \tobject.__add__(self, other)\n",
    "- \tobject.__sub__(self, other)\n",
    "* \tobject.__mul__(self, other)\n",
    "//    object.__floordiv__(self, other)\n",
    "/ \tobject.__truediv__(self, other)\n",
    "% \tobject.__mod__(self, other)\n",
    "**    object.__pow__(self, other[, modulo])\n",
    "<<    object.__lshift__(self, other)\n",
    ">>    object.__rshift__(self, other)\n",
    "& \tobject.__and__(self, other)\n",
    "^ \tobject.__xor__(self, other)\n",
    "| \tobject.__or__(self, other) \n",
    "```\n",
    "\n",
    "Comparison Operators\n",
    "```\n",
    "< \t object.__lt__(self, other)\n",
    "<= \tobject.__le__(self, other)\n",
    "== \tobject.__eq__(self, other)\n",
    "!= \tobject.__ne__(self, other)\n",
    ">= \tobject.__ge__(self, other)\n",
    "> \t object.__gt__(self, other) \n",
    "```\n",
    "\n",
    "Extended Assignments\n",
    "```\n",
    "+= \tobject.__iadd__(self, other)\n",
    "-= \tobject.__isub__(self, other)\n",
    "*= \tobject.__imul__(self, other)\n",
    "/= \tobject.__idiv__(self, other)\n",
    "//=    object.__ifloordiv__(self, other)\n",
    "%= \tobject.__imod__(self, other)\n",
    "**=    object.__ipow__(self, other[, modulo])\n",
    "<<=    object.__ilshift__(self, other)\n",
    ">>=    object.__irshift__(self, other)\n",
    "&= \tobject.__iand__(self, other)\n",
    "^= \tobject.__ixor__(self, other)\n",
    "|= \tobject.__ior__(self, other) \n",
    "```\n",
    "\n"
   ]
  },
  {
   "cell_type": "code",
   "execution_count": null,
   "metadata": {
    "ExecuteTime": {
     "end_time": "2018-09-25T10:30:30.730091Z",
     "start_time": "2018-09-25T10:30:30.726052Z"
    }
   },
   "outputs": [],
   "source": [
    "1 + 4"
   ]
  },
  {
   "cell_type": "code",
   "execution_count": null,
   "metadata": {
    "ExecuteTime": {
     "end_time": "2018-09-25T10:30:31.752837Z",
     "start_time": "2018-09-25T10:30:31.749375Z"
    }
   },
   "outputs": [],
   "source": [
    "1 .__add__(4)"
   ]
  },
  {
   "cell_type": "code",
   "execution_count": null,
   "metadata": {
    "ExecuteTime": {
     "end_time": "2018-08-26T16:48:12.222340Z",
     "start_time": "2018-08-26T16:48:12.218392Z"
    }
   },
   "outputs": [],
   "source": [
    "3 .__truediv__(2) # 3/2"
   ]
  },
  {
   "cell_type": "code",
   "execution_count": null,
   "metadata": {
    "ExecuteTime": {
     "end_time": "2018-09-26T01:59:07.890548Z",
     "start_time": "2018-09-26T01:59:07.885887Z"
    }
   },
   "outputs": [],
   "source": [
    "1 .__floordiv__(2) # 1//2"
   ]
  },
  {
   "cell_type": "code",
   "execution_count": null,
   "metadata": {
    "ExecuteTime": {
     "end_time": "2018-09-26T01:59:08.369277Z",
     "start_time": "2018-09-26T01:59:08.365589Z"
    }
   },
   "outputs": [],
   "source": [
    "3.14 .hex()"
   ]
  },
  {
   "cell_type": "code",
   "execution_count": null,
   "metadata": {
    "ExecuteTime": {
     "end_time": "2018-09-26T01:59:18.186931Z",
     "start_time": "2018-09-26T01:59:18.184549Z"
    }
   },
   "outputs": [],
   "source": [
    "def add2(a, b):\n",
    "    return a + b"
   ]
  },
  {
   "cell_type": "code",
   "execution_count": null,
   "metadata": {
    "ExecuteTime": {
     "end_time": "2018-09-26T02:00:18.451277Z",
     "start_time": "2018-09-26T02:00:18.447484Z"
    }
   },
   "outputs": [],
   "source": [
    "dir(add2)"
   ]
  },
  {
   "cell_type": "code",
   "execution_count": null,
   "metadata": {
    "ExecuteTime": {
     "end_time": "2018-09-26T02:00:31.288902Z",
     "start_time": "2018-09-26T02:00:31.285145Z"
    }
   },
   "outputs": [],
   "source": [
    "add2.__name__"
   ]
  },
  {
   "cell_type": "code",
   "execution_count": null,
   "metadata": {
    "ExecuteTime": {
     "end_time": "2018-09-26T02:00:43.785969Z",
     "start_time": "2018-09-26T02:00:43.781814Z"
    }
   },
   "outputs": [],
   "source": [
    "add2.__call__(1, 2)"
   ]
  },
  {
   "cell_type": "code",
   "execution_count": null,
   "metadata": {
    "ExecuteTime": {
     "end_time": "2018-09-26T02:01:07.411274Z",
     "start_time": "2018-09-26T02:01:07.408017Z"
    }
   },
   "outputs": [],
   "source": [
    "type(add2)"
   ]
  },
  {
   "cell_type": "code",
   "execution_count": null,
   "metadata": {
    "ExecuteTime": {
     "end_time": "2018-09-26T02:02:29.484860Z",
     "start_time": "2018-09-26T02:02:29.480990Z"
    }
   },
   "outputs": [],
   "source": [
    "add2.__code__"
   ]
  },
  {
   "cell_type": "code",
   "execution_count": null,
   "metadata": {
    "ExecuteTime": {
     "end_time": "2018-09-26T02:03:46.517226Z",
     "start_time": "2018-09-26T02:03:46.513437Z"
    }
   },
   "outputs": [],
   "source": [
    "from dis import disassemble\n",
    "disassemble(add2.__code__)"
   ]
  },
  {
   "cell_type": "markdown",
   "metadata": {},
   "source": [
    "## User defined  types"
   ]
  },
  {
   "cell_type": "code",
   "execution_count": null,
   "metadata": {
    "ExecuteTime": {
     "end_time": "2018-09-25T21:43:37.169056Z",
     "start_time": "2018-09-25T21:43:37.165593Z"
    }
   },
   "outputs": [],
   "source": [
    "class Minimal:\n",
    "    pass"
   ]
  },
  {
   "cell_type": "code",
   "execution_count": null,
   "metadata": {
    "ExecuteTime": {
     "end_time": "2018-09-25T21:43:37.584981Z",
     "start_time": "2018-09-25T21:43:37.582459Z"
    }
   },
   "outputs": [],
   "source": [
    "m = Minimal()"
   ]
  },
  {
   "cell_type": "code",
   "execution_count": null,
   "metadata": {
    "ExecuteTime": {
     "end_time": "2018-09-25T21:43:38.484205Z",
     "start_time": "2018-09-25T21:43:38.481783Z"
    }
   },
   "outputs": [],
   "source": [
    "m.some_attr = 1"
   ]
  },
  {
   "cell_type": "code",
   "execution_count": null,
   "metadata": {
    "ExecuteTime": {
     "end_time": "2018-09-25T21:43:39.250656Z",
     "start_time": "2018-09-25T21:43:39.246739Z"
    }
   },
   "outputs": [],
   "source": [
    "m.some_attr"
   ]
  },
  {
   "cell_type": "code",
   "execution_count": null,
   "metadata": {
    "ExecuteTime": {
     "end_time": "2018-09-25T21:43:40.603200Z",
     "start_time": "2018-09-25T21:43:40.599319Z"
    }
   },
   "outputs": [],
   "source": [
    "dir(m)"
   ]
  },
  {
   "cell_type": "code",
   "execution_count": null,
   "metadata": {
    "ExecuteTime": {
     "end_time": "2018-09-25T21:43:42.399726Z",
     "start_time": "2018-09-25T21:43:42.395709Z"
    }
   },
   "outputs": [],
   "source": [
    "m.__dict__"
   ]
  },
  {
   "cell_type": "code",
   "execution_count": null,
   "metadata": {
    "ExecuteTime": {
     "end_time": "2018-09-25T21:43:46.167023Z",
     "start_time": "2018-09-25T21:43:46.164786Z"
    }
   },
   "outputs": [],
   "source": [
    "del m.some_attr"
   ]
  },
  {
   "cell_type": "code",
   "execution_count": null,
   "metadata": {
    "ExecuteTime": {
     "end_time": "2018-09-25T21:43:58.271223Z",
     "start_time": "2018-09-25T21:43:58.157122Z"
    }
   },
   "outputs": [],
   "source": [
    "m.some_attr"
   ]
  },
  {
   "cell_type": "markdown",
   "metadata": {},
   "source": [
    "## Class Inheritance"
   ]
  },
  {
   "cell_type": "code",
   "execution_count": null,
   "metadata": {
    "ExecuteTime": {
     "end_time": "2018-09-25T21:48:32.489332Z",
     "start_time": "2018-09-25T21:48:32.485230Z"
    }
   },
   "outputs": [],
   "source": [
    "class Person:\n",
    "    def __init__(self, name):\n",
    "        self.name = name"
   ]
  },
  {
   "cell_type": "code",
   "execution_count": null,
   "metadata": {
    "ExecuteTime": {
     "end_time": "2018-09-25T21:48:33.500423Z",
     "start_time": "2018-09-25T21:48:33.496460Z"
    }
   },
   "outputs": [],
   "source": [
    "me = Person('Rod Senra')\n",
    "me.name"
   ]
  },
  {
   "cell_type": "code",
   "execution_count": null,
   "metadata": {
    "ExecuteTime": {
     "end_time": "2018-09-25T21:48:58.093700Z",
     "start_time": "2018-09-25T21:48:58.089483Z"
    }
   },
   "outputs": [],
   "source": [
    "class USCitzen(Person):\n",
    "    def __init__(self, name, ssn):\n",
    "        super().__init__(name)\n",
    "        self.__ssn = ssn"
   ]
  },
  {
   "cell_type": "code",
   "execution_count": null,
   "metadata": {
    "ExecuteTime": {
     "end_time": "2018-09-25T21:49:50.316243Z",
     "start_time": "2018-09-25T21:49:50.312403Z"
    }
   },
   "outputs": [],
   "source": [
    "alien = USCitzen('Rod Senra', 1234567890)\n",
    "alien.name"
   ]
  },
  {
   "cell_type": "code",
   "execution_count": null,
   "metadata": {
    "ExecuteTime": {
     "end_time": "2018-09-25T21:50:28.616461Z",
     "start_time": "2018-09-25T21:50:28.609126Z"
    }
   },
   "outputs": [],
   "source": [
    "alien.__ssn"
   ]
  },
  {
   "cell_type": "code",
   "execution_count": null,
   "metadata": {
    "ExecuteTime": {
     "end_time": "2018-09-25T21:50:36.645845Z",
     "start_time": "2018-09-25T21:50:36.641194Z"
    }
   },
   "outputs": [],
   "source": [
    "dir(alien)"
   ]
  },
  {
   "cell_type": "code",
   "execution_count": null,
   "metadata": {
    "ExecuteTime": {
     "end_time": "2018-09-25T22:00:44.103862Z",
     "start_time": "2018-09-25T22:00:44.099729Z"
    }
   },
   "outputs": [],
   "source": [
    "alien._USCitzen__ssn"
   ]
  },
  {
   "cell_type": "markdown",
   "metadata": {},
   "source": [
    "## Attribute Resolution"
   ]
  },
  {
   "cell_type": "code",
   "execution_count": null,
   "metadata": {
    "ExecuteTime": {
     "end_time": "2018-09-25T22:01:03.477334Z",
     "start_time": "2018-09-25T22:01:03.474075Z"
    }
   },
   "outputs": [],
   "source": [
    "USCitzen.country = 'US'"
   ]
  },
  {
   "cell_type": "code",
   "execution_count": null,
   "metadata": {
    "ExecuteTime": {
     "end_time": "2018-09-25T22:01:04.059535Z",
     "start_time": "2018-09-25T22:01:04.055612Z"
    }
   },
   "outputs": [],
   "source": [
    "alien.country"
   ]
  },
  {
   "cell_type": "code",
   "execution_count": null,
   "metadata": {
    "ExecuteTime": {
     "end_time": "2018-09-25T22:01:04.602007Z",
     "start_time": "2018-09-25T22:01:04.595690Z"
    }
   },
   "outputs": [],
   "source": [
    "Person.country"
   ]
  },
  {
   "cell_type": "code",
   "execution_count": null,
   "metadata": {
    "ExecuteTime": {
     "end_time": "2018-09-25T22:01:05.317186Z",
     "start_time": "2018-09-25T22:01:05.314845Z"
    }
   },
   "outputs": [],
   "source": [
    "del USCitzen.country"
   ]
  },
  {
   "cell_type": "code",
   "execution_count": null,
   "metadata": {
    "ExecuteTime": {
     "end_time": "2018-09-25T22:01:05.728420Z",
     "start_time": "2018-09-25T22:01:05.720677Z"
    }
   },
   "outputs": [],
   "source": [
    "alien.country"
   ]
  },
  {
   "cell_type": "code",
   "execution_count": null,
   "metadata": {
    "ExecuteTime": {
     "end_time": "2018-09-25T22:01:11.451503Z",
     "start_time": "2018-09-25T22:01:11.447726Z"
    }
   },
   "outputs": [],
   "source": [
    "alien.__class__.__mro__"
   ]
  },
  {
   "cell_type": "markdown",
   "metadata": {},
   "source": [
    "# Descriptors"
   ]
  },
  {
   "cell_type": "code",
   "execution_count": null,
   "metadata": {
    "ExecuteTime": {
     "end_time": "2018-09-26T03:52:21.987854Z",
     "start_time": "2018-09-26T03:52:21.984164Z"
    }
   },
   "outputs": [],
   "source": [
    "class ReadOnly:\n",
    "    def __init__(self, name, value):\n",
    "        self.name = name\n",
    "        self.value = value\n",
    "        \n",
    "    def __get__(self, obj, objtype):\n",
    "        return self.value\n",
    "\n",
    "    def __set__(self, obj, val):\n",
    "        raise AttributeError('this attribute is read-only')"
   ]
  },
  {
   "cell_type": "code",
   "execution_count": null,
   "metadata": {
    "ExecuteTime": {
     "end_time": "2018-09-26T03:55:10.319833Z",
     "start_time": "2018-09-26T03:55:10.316573Z"
    }
   },
   "outputs": [],
   "source": [
    "class Student:\n",
    "    max_grade = ReadOnly('grade', 10)\n",
    "    def __init__(self, name, grade):\n",
    "        self.name = name\n",
    "        self.grade = grade\n",
    "        if grade > self.max_grade:\n",
    "            raise ValueError(f'Grade {grade} exceeds max grade {self.max_grade}')"
   ]
  },
  {
   "cell_type": "code",
   "execution_count": null,
   "metadata": {
    "ExecuteTime": {
     "end_time": "2018-09-26T03:55:11.021817Z",
     "start_time": "2018-09-26T03:55:11.012807Z"
    }
   },
   "outputs": [],
   "source": [
    "me = Student('Rod', 75)"
   ]
  },
  {
   "cell_type": "code",
   "execution_count": null,
   "metadata": {
    "ExecuteTime": {
     "end_time": "2018-09-26T03:55:26.367872Z",
     "start_time": "2018-09-26T03:55:26.365479Z"
    }
   },
   "outputs": [],
   "source": [
    "me = Student('Rod', 8)"
   ]
  },
  {
   "cell_type": "code",
   "execution_count": null,
   "metadata": {
    "ExecuteTime": {
     "end_time": "2018-09-26T03:55:27.824739Z",
     "start_time": "2018-09-26T03:55:27.821241Z"
    }
   },
   "outputs": [],
   "source": [
    "Student.max_grade"
   ]
  },
  {
   "cell_type": "code",
   "execution_count": null,
   "metadata": {
    "ExecuteTime": {
     "end_time": "2018-09-26T03:55:33.552299Z",
     "start_time": "2018-09-26T03:55:33.548863Z"
    }
   },
   "outputs": [],
   "source": [
    "me.grade"
   ]
  },
  {
   "cell_type": "code",
   "execution_count": null,
   "metadata": {
    "ExecuteTime": {
     "end_time": "2018-09-26T03:55:35.532605Z",
     "start_time": "2018-09-26T03:55:35.524520Z"
    }
   },
   "outputs": [],
   "source": [
    "me.max_grade = 100"
   ]
  },
  {
   "cell_type": "markdown",
   "metadata": {},
   "source": [
    "# Named Tuples"
   ]
  },
  {
   "cell_type": "code",
   "execution_count": null,
   "metadata": {
    "ExecuteTime": {
     "end_time": "2018-09-26T02:12:22.674426Z",
     "start_time": "2018-09-26T02:12:22.671517Z"
    }
   },
   "outputs": [],
   "source": [
    "from collections import namedtuple\n",
    "Citzen = namedtuple('Citzen', ['name', 'id', 'country'])\n",
    "me = Citzen('Rod Senra', 1234567890, 'Brazil')"
   ]
  },
  {
   "cell_type": "code",
   "execution_count": null,
   "metadata": {
    "ExecuteTime": {
     "end_time": "2018-09-26T02:12:23.241694Z",
     "start_time": "2018-09-26T02:12:23.238435Z"
    }
   },
   "outputs": [],
   "source": [
    "me"
   ]
  },
  {
   "cell_type": "code",
   "execution_count": null,
   "metadata": {
    "ExecuteTime": {
     "end_time": "2018-09-26T02:12:23.753269Z",
     "start_time": "2018-09-26T02:12:23.749665Z"
    }
   },
   "outputs": [],
   "source": [
    "me.name"
   ]
  },
  {
   "cell_type": "code",
   "execution_count": null,
   "metadata": {
    "ExecuteTime": {
     "end_time": "2018-09-26T02:12:24.265066Z",
     "start_time": "2018-09-26T02:12:24.261109Z"
    }
   },
   "outputs": [],
   "source": [
    "me.country"
   ]
  },
  {
   "cell_type": "code",
   "execution_count": null,
   "metadata": {
    "ExecuteTime": {
     "end_time": "2018-09-26T02:12:24.832542Z",
     "start_time": "2018-09-26T02:12:24.830153Z"
    }
   },
   "outputs": [],
   "source": [
    "name, ssn, country = me"
   ]
  },
  {
   "cell_type": "code",
   "execution_count": null,
   "metadata": {
    "ExecuteTime": {
     "end_time": "2018-09-26T02:12:32.866208Z",
     "start_time": "2018-09-26T02:12:32.862243Z"
    }
   },
   "outputs": [],
   "source": [
    "name, ssn, country"
   ]
  },
  {
   "cell_type": "markdown",
   "metadata": {},
   "source": [
    "# Data Classes\n",
    "Only available form Python >= 3.7"
   ]
  },
  {
   "cell_type": "code",
   "execution_count": null,
   "metadata": {
    "ExecuteTime": {
     "end_time": "2018-09-26T02:13:01.489050Z",
     "start_time": "2018-09-26T02:13:01.483962Z"
    }
   },
   "outputs": [],
   "source": [
    "from dataclasses import dataclass"
   ]
  },
  {
   "cell_type": "code",
   "execution_count": null,
   "metadata": {
    "ExecuteTime": {
     "end_time": "2018-09-26T02:15:15.625304Z",
     "start_time": "2018-09-26T02:15:15.621734Z"
    }
   },
   "outputs": [],
   "source": [
    "@dataclass\n",
    "class Citzen:\n",
    "    name: str\n",
    "    ssn: int\n",
    "    country: str\n",
    "    def __str__(self):\n",
    "        return f\"Citzen({self.name}, {self.country})\""
   ]
  },
  {
   "cell_type": "code",
   "execution_count": null,
   "metadata": {
    "ExecuteTime": {
     "end_time": "2018-09-26T02:15:40.615888Z",
     "start_time": "2018-09-26T02:15:40.613546Z"
    }
   },
   "outputs": [],
   "source": [
    "me = Citzen('Rod', 1234, 'Brazil')"
   ]
  },
  {
   "cell_type": "code",
   "execution_count": null,
   "metadata": {
    "ExecuteTime": {
     "end_time": "2018-09-26T02:15:45.060612Z",
     "start_time": "2018-09-26T02:15:45.056673Z"
    }
   },
   "outputs": [],
   "source": [
    "me.name"
   ]
  },
  {
   "cell_type": "code",
   "execution_count": null,
   "metadata": {
    "ExecuteTime": {
     "end_time": "2018-09-26T02:15:48.051167Z",
     "start_time": "2018-09-26T02:15:48.047279Z"
    }
   },
   "outputs": [],
   "source": [
    "str(me)"
   ]
  },
  {
   "cell_type": "code",
   "execution_count": null,
   "metadata": {},
   "outputs": [],
   "source": []
  }
 ],
 "metadata": {
  "hide_input": false,
  "kernelspec": {
   "display_name": "Python 3",
   "language": "python",
   "name": "python3"
  },
  "language_info": {
   "codemirror_mode": {
    "name": "ipython",
    "version": 3
   },
   "file_extension": ".py",
   "mimetype": "text/x-python",
   "name": "python",
   "nbconvert_exporter": "python",
   "pygments_lexer": "ipython3",
   "version": "3.7.0"
  },
  "toc": {
   "colors": {
    "hover_highlight": "#DAA520",
    "navigate_num": "#000000",
    "navigate_text": "#333333",
    "running_highlight": "#FF0000",
    "selected_highlight": "#FFD700",
    "sidebar_border": "#EEEEEE",
    "wrapper_background": "#FFFFFF"
   },
   "moveMenuLeft": true,
   "nav_menu": {
    "height": "15px",
    "width": "250px"
   },
   "navigate_menu": true,
   "number_sections": true,
   "sideBar": true,
   "threshold": 4,
   "toc_cell": false,
   "toc_section_display": "block",
   "toc_window_display": false,
   "widenNotebook": false
  }
 },
 "nbformat": 4,
 "nbformat_minor": 2
}
