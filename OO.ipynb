{
 "cells": [
  {
   "cell_type": "markdown",
   "metadata": {},
   "source": [
    "# Object Orientation\n",
    "\n",
    "In Part 3 we will visit the Python Object Model that pervades the whole language, including the mysterious descriptors that lie at the core of Python's object oriented internal implementation. We will also briefly mention modern mechanisms that were recently added to the language such as Named Tuples and Data Classes.\n"
   ]
  },
  {
   "cell_type": "markdown",
   "metadata": {},
   "source": [
    "Every \"native\" scalar value is actually an object"
   ]
  },
  {
   "cell_type": "code",
   "execution_count": 1,
   "metadata": {
    "ExecuteTime": {
     "end_time": "2018-08-26T16:44:56.941139Z",
     "start_time": "2018-08-26T16:44:56.930057Z"
    }
   },
   "outputs": [
    {
     "data": {
      "text/plain": [
       "4494335120"
      ]
     },
     "execution_count": 1,
     "metadata": {},
     "output_type": "execute_result"
    }
   ],
   "source": [
    "id(3.14)"
   ]
  },
  {
   "cell_type": "code",
   "execution_count": 2,
   "metadata": {
    "ExecuteTime": {
     "end_time": "2018-08-26T16:45:11.659174Z",
     "start_time": "2018-08-26T16:45:11.655496Z"
    }
   },
   "outputs": [
    {
     "data": {
      "text/plain": [
       "True"
      ]
     },
     "execution_count": 2,
     "metadata": {},
     "output_type": "execute_result"
    }
   ],
   "source": [
    "isinstance(3.14, object)"
   ]
  },
  {
   "cell_type": "code",
   "execution_count": 3,
   "metadata": {
    "ExecuteTime": {
     "end_time": "2018-08-26T16:45:25.932862Z",
     "start_time": "2018-08-26T16:45:25.929009Z"
    }
   },
   "outputs": [
    {
     "data": {
      "text/plain": [
       "type"
      ]
     },
     "execution_count": 3,
     "metadata": {},
     "output_type": "execute_result"
    }
   ],
   "source": [
    "type(object)"
   ]
  },
  {
   "cell_type": "code",
   "execution_count": 4,
   "metadata": {
    "ExecuteTime": {
     "end_time": "2018-08-26T16:45:35.090136Z",
     "start_time": "2018-08-26T16:45:35.085629Z"
    }
   },
   "outputs": [
    {
     "data": {
      "text/plain": [
       "type"
      ]
     },
     "execution_count": 4,
     "metadata": {},
     "output_type": "execute_result"
    }
   ],
   "source": [
    "type(type)"
   ]
  },
  {
   "cell_type": "code",
   "execution_count": 5,
   "metadata": {
    "ExecuteTime": {
     "end_time": "2018-08-26T16:46:22.622826Z",
     "start_time": "2018-08-26T16:46:22.618511Z"
    }
   },
   "outputs": [
    {
     "data": {
      "text/plain": [
       "['__abs__',\n",
       " '__add__',\n",
       " '__bool__',\n",
       " '__class__',\n",
       " '__delattr__',\n",
       " '__dir__',\n",
       " '__divmod__',\n",
       " '__doc__',\n",
       " '__eq__',\n",
       " '__float__',\n",
       " '__floordiv__',\n",
       " '__format__',\n",
       " '__ge__',\n",
       " '__getattribute__',\n",
       " '__getformat__',\n",
       " '__getnewargs__',\n",
       " '__gt__',\n",
       " '__hash__',\n",
       " '__init__',\n",
       " '__init_subclass__',\n",
       " '__int__',\n",
       " '__le__',\n",
       " '__lt__',\n",
       " '__mod__',\n",
       " '__mul__',\n",
       " '__ne__',\n",
       " '__neg__',\n",
       " '__new__',\n",
       " '__pos__',\n",
       " '__pow__',\n",
       " '__radd__',\n",
       " '__rdivmod__',\n",
       " '__reduce__',\n",
       " '__reduce_ex__',\n",
       " '__repr__',\n",
       " '__rfloordiv__',\n",
       " '__rmod__',\n",
       " '__rmul__',\n",
       " '__round__',\n",
       " '__rpow__',\n",
       " '__rsub__',\n",
       " '__rtruediv__',\n",
       " '__setattr__',\n",
       " '__setformat__',\n",
       " '__sizeof__',\n",
       " '__str__',\n",
       " '__sub__',\n",
       " '__subclasshook__',\n",
       " '__truediv__',\n",
       " '__trunc__',\n",
       " 'as_integer_ratio',\n",
       " 'conjugate',\n",
       " 'fromhex',\n",
       " 'hex',\n",
       " 'imag',\n",
       " 'is_integer',\n",
       " 'real']"
      ]
     },
     "execution_count": 5,
     "metadata": {},
     "output_type": "execute_result"
    }
   ],
   "source": [
    "dir(3.14)"
   ]
  },
  {
   "cell_type": "code",
   "execution_count": 6,
   "metadata": {
    "ExecuteTime": {
     "end_time": "2018-08-26T16:46:34.081373Z",
     "start_time": "2018-08-26T16:46:34.077064Z"
    }
   },
   "outputs": [
    {
     "data": {
      "text/plain": [
       "'0x1.91eb851eb851fp+1'"
      ]
     },
     "execution_count": 6,
     "metadata": {},
     "output_type": "execute_result"
    }
   ],
   "source": [
    "3.14 .hex()"
   ]
  },
  {
   "cell_type": "code",
   "execution_count": 7,
   "metadata": {
    "ExecuteTime": {
     "end_time": "2018-08-26T16:46:45.940355Z",
     "start_time": "2018-08-26T16:46:45.935620Z"
    }
   },
   "outputs": [
    {
     "data": {
      "text/plain": [
       "5"
      ]
     },
     "execution_count": 7,
     "metadata": {},
     "output_type": "execute_result"
    }
   ],
   "source": [
    "1+4"
   ]
  },
  {
   "cell_type": "code",
   "execution_count": 8,
   "metadata": {
    "ExecuteTime": {
     "end_time": "2018-08-26T16:46:49.274350Z",
     "start_time": "2018-08-26T16:46:49.270544Z"
    }
   },
   "outputs": [
    {
     "data": {
      "text/plain": [
       "5"
      ]
     },
     "execution_count": 8,
     "metadata": {},
     "output_type": "execute_result"
    }
   ],
   "source": [
    "1 .__add__(4)"
   ]
  },
  {
   "cell_type": "code",
   "execution_count": 9,
   "metadata": {
    "ExecuteTime": {
     "end_time": "2018-08-26T16:48:12.222340Z",
     "start_time": "2018-08-26T16:48:12.218392Z"
    }
   },
   "outputs": [
    {
     "data": {
      "text/plain": [
       "1.5"
      ]
     },
     "execution_count": 9,
     "metadata": {},
     "output_type": "execute_result"
    }
   ],
   "source": [
    "3 .__truediv__(2)"
   ]
  },
  {
   "cell_type": "code",
   "execution_count": 10,
   "metadata": {
    "ExecuteTime": {
     "end_time": "2018-08-26T16:48:23.948723Z",
     "start_time": "2018-08-26T16:48:23.944489Z"
    }
   },
   "outputs": [
    {
     "data": {
      "text/plain": [
       "0"
      ]
     },
     "execution_count": 10,
     "metadata": {},
     "output_type": "execute_result"
    }
   ],
   "source": [
    "1 .__floordiv__(2)"
   ]
  },
  {
   "cell_type": "code",
   "execution_count": 1,
   "metadata": {
    "ExecuteTime": {
     "end_time": "2018-09-23T17:04:39.118643Z",
     "start_time": "2018-09-23T17:04:39.113072Z"
    }
   },
   "outputs": [],
   "source": [
    "def add2(a, b):\n",
    "    return a + b"
   ]
  },
  {
   "cell_type": "code",
   "execution_count": 2,
   "metadata": {
    "ExecuteTime": {
     "end_time": "2018-09-23T17:16:14.607913Z",
     "start_time": "2018-09-23T17:16:14.604861Z"
    }
   },
   "outputs": [],
   "source": [
    "# __add__ and __radd__"
   ]
  },
  {
   "cell_type": "markdown",
   "metadata": {},
   "source": [
    "Unary Operators\n",
    "```\n",
    "- \tobject.__neg__(self)\n",
    "+ \tobject.__pos__(self)\n",
    "abs() \tobject.__abs__(self)\n",
    "~ \tobject.__invert__(self)\n",
    "complex() \tobject.__complex__(self)\n",
    "int() \tobject.__int__(self)\n",
    "long() \tobject.__long__(self)\n",
    "float() \tobject.__float__(self)\n",
    "oct() \tobject.__oct__(self)\n",
    "hex() \tobject.__hex__(self \n",
    "```\n",
    "\n",
    "Binary Operators\n",
    "```\n",
    "+ \tobject.__add__(self, other)\n",
    "- \tobject.__sub__(self, other)\n",
    "* \tobject.__mul__(self, other)\n",
    "// \tobject.__floordiv__(self, other)\n",
    "/ \tobject.__truediv__(self, other)\n",
    "% \tobject.__mod__(self, other)\n",
    "** \tobject.__pow__(self, other[, modulo])\n",
    "<< \tobject.__lshift__(self, other)\n",
    ">> \tobject.__rshift__(self, other)\n",
    "& \tobject.__and__(self, other)\n",
    "^ \tobject.__xor__(self, other)\n",
    "| \tobject.__or__(self, other) \n",
    "```\n",
    "\n",
    "Comparison Operators\n",
    "```\n",
    "< \tobject.__lt__(self, other)\n",
    "<= \tobject.__le__(self, other)\n",
    "== \tobject.__eq__(self, other)\n",
    "!= \tobject.__ne__(self, other)\n",
    ">= \tobject.__ge__(self, other)\n",
    "> \tobject.__gt__(self, other) \n",
    "```\n",
    "\n",
    "Extended Assignments\n",
    "```\n",
    "+= \tobject.__iadd__(self, other)\n",
    "-= \tobject.__isub__(self, other)\n",
    "*= \tobject.__imul__(self, other)\n",
    "/= \tobject.__idiv__(self, other)\n",
    "//= \tobject.__ifloordiv__(self, other)\n",
    "%= \tobject.__imod__(self, other)\n",
    "**= \tobject.__ipow__(self, other[, modulo])\n",
    "<<= \tobject.__ilshift__(self, other)\n",
    ">>= \tobject.__irshift__(self, other)\n",
    "&= \tobject.__iand__(self, other)\n",
    "^= \tobject.__ixor__(self, other)\n",
    "|= \tobject.__ior__(self, other) \n",
    "```\n",
    "\n"
   ]
  },
  {
   "cell_type": "code",
   "execution_count": null,
   "metadata": {},
   "outputs": [],
   "source": []
  }
 ],
 "metadata": {
  "hide_input": false,
  "kernelspec": {
   "display_name": "Python 3",
   "language": "python",
   "name": "python3"
  },
  "language_info": {
   "codemirror_mode": {
    "name": "ipython",
    "version": 3
   },
   "file_extension": ".py",
   "mimetype": "text/x-python",
   "name": "python",
   "nbconvert_exporter": "python",
   "pygments_lexer": "ipython3",
   "version": "3.6.5"
  },
  "toc": {
   "colors": {
    "hover_highlight": "#DAA520",
    "navigate_num": "#000000",
    "navigate_text": "#333333",
    "running_highlight": "#FF0000",
    "selected_highlight": "#FFD700",
    "sidebar_border": "#EEEEEE",
    "wrapper_background": "#FFFFFF"
   },
   "moveMenuLeft": true,
   "nav_menu": {
    "height": "15px",
    "width": "250px"
   },
   "navigate_menu": true,
   "number_sections": true,
   "sideBar": true,
   "threshold": 4,
   "toc_cell": false,
   "toc_section_display": "block",
   "toc_window_display": false,
   "widenNotebook": false
  }
 },
 "nbformat": 4,
 "nbformat_minor": 2
}
