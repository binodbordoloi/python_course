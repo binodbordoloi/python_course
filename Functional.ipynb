{
 "cells": [
  {
   "cell_type": "markdown",
   "metadata": {},
   "source": [
    "# Functional Programming\n",
    "In the last section we will visit how Python conciliate object orientation with functional programming. We will learn how to create and apply  Lambdas and also use functions as first-class values (higher order functions). Last but not least, we will explore the standard library Itertools module and some other interesting functional extensions in external libraries."
   ]
  },
  {
   "cell_type": "markdown",
   "metadata": {},
   "source": [
    "## Some Imperative Example"
   ]
  },
  {
   "cell_type": "code",
   "execution_count": null,
   "metadata": {
    "ExecuteTime": {
     "end_time": "2018-09-26T02:20:28.024114Z",
     "start_time": "2018-09-26T02:20:28.020882Z"
    }
   },
   "outputs": [],
   "source": [
    "def extract_even(mixed_list):\n",
    "    \"Create a new list from mixed_list with just the even elements.\"\n",
    "    result = []\n",
    "    for element in mixed_list:\n",
    "        if element % 2 == 0:\n",
    "            result.append(element)\n",
    "    return result"
   ]
  },
  {
   "cell_type": "code",
   "execution_count": null,
   "metadata": {
    "ExecuteTime": {
     "end_time": "2018-09-26T02:20:30.206772Z",
     "start_time": "2018-09-26T02:20:30.204069Z"
    }
   },
   "outputs": [],
   "source": [
    "some_list = range(20)"
   ]
  },
  {
   "cell_type": "code",
   "execution_count": null,
   "metadata": {
    "ExecuteTime": {
     "end_time": "2018-09-26T02:20:30.566441Z",
     "start_time": "2018-09-26T02:20:30.563340Z"
    }
   },
   "outputs": [],
   "source": [
    "extract_even(some_list)"
   ]
  },
  {
   "cell_type": "markdown",
   "metadata": {},
   "source": [
    "## Using Lisp-inspired Map/Reduce/Filter\n",
    "In this example we are already using anonymous functions (lambda) and higher-order functions (filter)."
   ]
  },
  {
   "cell_type": "code",
   "execution_count": null,
   "metadata": {
    "ExecuteTime": {
     "end_time": "2018-09-26T02:22:58.991562Z",
     "start_time": "2018-09-26T02:22:58.988737Z"
    }
   },
   "outputs": [],
   "source": [
    "result = filter(lambda x: x%2==0, some_list)"
   ]
  },
  {
   "cell_type": "code",
   "execution_count": null,
   "metadata": {
    "ExecuteTime": {
     "end_time": "2018-09-26T02:23:16.903382Z",
     "start_time": "2018-09-26T02:23:16.899722Z"
    }
   },
   "outputs": [],
   "source": [
    "result"
   ]
  },
  {
   "cell_type": "code",
   "execution_count": null,
   "metadata": {
    "ExecuteTime": {
     "end_time": "2018-09-26T02:23:03.104982Z",
     "start_time": "2018-09-26T02:23:03.100977Z"
    }
   },
   "outputs": [],
   "source": [
    "list(result)"
   ]
  },
  {
   "cell_type": "markdown",
   "metadata": {},
   "source": [
    "Another example with lazy-evaluation"
   ]
  },
  {
   "cell_type": "code",
   "execution_count": null,
   "metadata": {
    "ExecuteTime": {
     "end_time": "2018-09-26T02:27:54.849021Z",
     "start_time": "2018-09-26T02:27:54.846114Z"
    }
   },
   "outputs": [],
   "source": [
    "result = map(lambda x:x**2, range(10))"
   ]
  },
  {
   "cell_type": "code",
   "execution_count": null,
   "metadata": {
    "ExecuteTime": {
     "end_time": "2018-09-26T02:27:55.312348Z",
     "start_time": "2018-09-26T02:27:55.308898Z"
    }
   },
   "outputs": [],
   "source": [
    "result"
   ]
  },
  {
   "cell_type": "code",
   "execution_count": null,
   "metadata": {
    "ExecuteTime": {
     "end_time": "2018-09-26T02:27:55.832986Z",
     "start_time": "2018-09-26T02:27:55.828964Z"
    }
   },
   "outputs": [],
   "source": [
    "next(result)"
   ]
  },
  {
   "cell_type": "code",
   "execution_count": null,
   "metadata": {
    "ExecuteTime": {
     "end_time": "2018-09-26T02:27:56.873675Z",
     "start_time": "2018-09-26T02:27:56.869528Z"
    }
   },
   "outputs": [],
   "source": [
    "list(result)"
   ]
  },
  {
   "cell_type": "markdown",
   "metadata": {},
   "source": [
    "Combining both"
   ]
  },
  {
   "cell_type": "code",
   "execution_count": null,
   "metadata": {
    "ExecuteTime": {
     "end_time": "2018-09-26T02:31:02.820360Z",
     "start_time": "2018-09-26T02:31:02.816298Z"
    }
   },
   "outputs": [],
   "source": [
    "list(map(lambda x:x**2, filter(lambda x: x%2==0, range(10))))"
   ]
  },
  {
   "cell_type": "markdown",
   "metadata": {},
   "source": [
    "## Using List Comprehensions"
   ]
  },
  {
   "cell_type": "code",
   "execution_count": null,
   "metadata": {
    "ExecuteTime": {
     "end_time": "2018-09-26T02:29:59.926718Z",
     "start_time": "2018-09-26T02:29:59.922687Z"
    }
   },
   "outputs": [],
   "source": [
    "[x for x in some_list if x%2==0]"
   ]
  },
  {
   "cell_type": "code",
   "execution_count": null,
   "metadata": {
    "ExecuteTime": {
     "end_time": "2018-09-26T02:30:00.542837Z",
     "start_time": "2018-09-26T02:30:00.538678Z"
    }
   },
   "outputs": [],
   "source": [
    "[x**2 for x in range(10)]"
   ]
  },
  {
   "cell_type": "code",
   "execution_count": null,
   "metadata": {
    "ExecuteTime": {
     "end_time": "2018-09-26T02:31:05.729276Z",
     "start_time": "2018-09-26T02:31:05.724821Z"
    }
   },
   "outputs": [],
   "source": [
    "[x**2 for x in range(10) if x%2==0]"
   ]
  },
  {
   "cell_type": "markdown",
   "metadata": {},
   "source": [
    "## Generator Expressions (Lazy)"
   ]
  },
  {
   "cell_type": "code",
   "execution_count": null,
   "metadata": {
    "ExecuteTime": {
     "end_time": "2018-09-26T02:33:13.144901Z",
     "start_time": "2018-09-26T02:33:13.142021Z"
    }
   },
   "outputs": [],
   "source": [
    "result = (x**2 for x in range(10) if x%2==0)"
   ]
  },
  {
   "cell_type": "code",
   "execution_count": null,
   "metadata": {
    "ExecuteTime": {
     "end_time": "2018-09-26T02:33:13.575646Z",
     "start_time": "2018-09-26T02:33:13.572034Z"
    }
   },
   "outputs": [],
   "source": [
    "result"
   ]
  },
  {
   "cell_type": "code",
   "execution_count": null,
   "metadata": {
    "ExecuteTime": {
     "end_time": "2018-09-26T02:33:13.951968Z",
     "start_time": "2018-09-26T02:33:13.948608Z"
    }
   },
   "outputs": [],
   "source": [
    "next(result)"
   ]
  },
  {
   "cell_type": "code",
   "execution_count": null,
   "metadata": {
    "ExecuteTime": {
     "end_time": "2018-09-26T02:33:14.320313Z",
     "start_time": "2018-09-26T02:33:14.316379Z"
    }
   },
   "outputs": [],
   "source": [
    "list(result)"
   ]
  },
  {
   "cell_type": "markdown",
   "metadata": {},
   "source": [
    "## Dict Comprehensions"
   ]
  },
  {
   "cell_type": "code",
   "execution_count": null,
   "metadata": {
    "ExecuteTime": {
     "end_time": "2018-09-26T02:35:35.283516Z",
     "start_time": "2018-09-26T02:35:35.279098Z"
    }
   },
   "outputs": [],
   "source": [
    "{x:x**3 for x in range(10)}"
   ]
  },
  {
   "cell_type": "markdown",
   "metadata": {},
   "source": [
    "## Set Comprehension"
   ]
  },
  {
   "cell_type": "code",
   "execution_count": null,
   "metadata": {
    "ExecuteTime": {
     "end_time": "2018-09-26T02:37:05.645515Z",
     "start_time": "2018-09-26T02:37:05.640744Z"
    }
   },
   "outputs": [],
   "source": [
    "{x/2 for x in [1,2,3,2,4,5,2,1,7]}"
   ]
  },
  {
   "cell_type": "code",
   "execution_count": null,
   "metadata": {
    "ExecuteTime": {
     "end_time": "2018-09-26T02:37:58.095298Z",
     "start_time": "2018-09-26T02:37:58.091569Z"
    }
   },
   "outputs": [],
   "source": [
    "some_list_with_repetitions = [1,2,3,2,4,5,2,1,7]"
   ]
  },
  {
   "cell_type": "code",
   "execution_count": null,
   "metadata": {
    "ExecuteTime": {
     "end_time": "2018-09-26T02:38:14.845865Z",
     "start_time": "2018-09-26T02:38:14.840994Z"
    }
   },
   "outputs": [],
   "source": [
    "set(some_list_with_repetitions) == {x for x in some_list_with_repetitions}"
   ]
  },
  {
   "cell_type": "markdown",
   "metadata": {},
   "source": [
    "## Functions as first class values and higher-order functions"
   ]
  },
  {
   "cell_type": "markdown",
   "metadata": {},
   "source": [
    "Problem: Sum dicitionaries that are lists of expenses."
   ]
  },
  {
   "cell_type": "code",
   "execution_count": null,
   "metadata": {
    "ExecuteTime": {
     "end_time": "2018-09-26T02:53:23.106803Z",
     "start_time": "2018-09-26T02:53:23.103795Z"
    }
   },
   "outputs": [],
   "source": [
    "jan = {'milk': 23, 'eggs': 5, 'bread': 2}\n",
    "feb = {'eggs': 15, 'milk': 10}\n",
    "mar = {'eggs':20, 'bread':1, 'butter': 13}"
   ]
  },
  {
   "cell_type": "code",
   "execution_count": null,
   "metadata": {
    "ExecuteTime": {
     "end_time": "2018-09-26T03:00:24.430920Z",
     "start_time": "2018-09-26T03:00:24.425753Z"
    }
   },
   "outputs": [],
   "source": [
    "def visit_dicts(op, dict_a, dict_b):\n",
    "    'Simply sum the corresponding keys between two dicitionaries'\n",
    "    set_a_keys = set(dict_a.keys())\n",
    "    set_b_keys = set(dict_b.keys())\n",
    "\n",
    "    intersection = set_a_keys.intersection(set_b_keys)\n",
    "    just_in_a = set_a_keys - set_b_keys\n",
    "    just_in_b = set_b_keys - set_a_keys\n",
    "\n",
    "    result = {}\n",
    "    result.update({k:v for k,v in dict_a.items() if k in just_in_a})\n",
    "    result.update({k:v for k,v in dict_b.items() if k in just_in_b})\n",
    "    result.update({k:op(dict_a[k], dict_b[k]) for k in intersection})\n",
    "    return result"
   ]
  },
  {
   "cell_type": "code",
   "execution_count": null,
   "metadata": {
    "ExecuteTime": {
     "end_time": "2018-09-26T03:00:40.442658Z",
     "start_time": "2018-09-26T03:00:40.439123Z"
    }
   },
   "outputs": [],
   "source": [
    "from operator import add\n",
    "visit_dicts(add, jan, feb)"
   ]
  },
  {
   "cell_type": "code",
   "execution_count": null,
   "metadata": {
    "ExecuteTime": {
     "end_time": "2018-09-26T03:03:34.042697Z",
     "start_time": "2018-09-26T03:03:34.040066Z"
    }
   },
   "outputs": [],
   "source": [
    "from functools import partial\n",
    "add_dict = partial(visit_dicts, add)"
   ]
  },
  {
   "cell_type": "code",
   "execution_count": null,
   "metadata": {
    "ExecuteTime": {
     "end_time": "2018-09-26T03:03:50.200732Z",
     "start_time": "2018-09-26T03:03:50.196180Z"
    }
   },
   "outputs": [],
   "source": [
    "add_dict(jan, feb)"
   ]
  },
  {
   "cell_type": "code",
   "execution_count": null,
   "metadata": {
    "ExecuteTime": {
     "end_time": "2018-09-26T03:02:27.752936Z",
     "start_time": "2018-09-26T03:02:27.749161Z"
    }
   },
   "outputs": [],
   "source": [
    "from functools import reduce\n",
    "help(reduce)"
   ]
  },
  {
   "cell_type": "code",
   "execution_count": null,
   "metadata": {
    "ExecuteTime": {
     "end_time": "2018-09-26T03:04:34.105687Z",
     "start_time": "2018-09-26T03:04:34.101318Z"
    }
   },
   "outputs": [],
   "source": [
    "reduce(add_dict, [jan, feb], {})"
   ]
  },
  {
   "cell_type": "code",
   "execution_count": null,
   "metadata": {
    "ExecuteTime": {
     "end_time": "2018-09-26T03:04:50.824598Z",
     "start_time": "2018-09-26T03:04:50.820350Z"
    }
   },
   "outputs": [],
   "source": [
    "reduce(add_dict, [jan, feb, mar], {})"
   ]
  },
  {
   "cell_type": "markdown",
   "metadata": {},
   "source": [
    "# Extras"
   ]
  },
  {
   "cell_type": "markdown",
   "metadata": {},
   "source": [
    "## Decorators"
   ]
  },
  {
   "cell_type": "code",
   "execution_count": null,
   "metadata": {
    "ExecuteTime": {
     "end_time": "2018-09-26T03:20:17.289641Z",
     "start_time": "2018-09-26T03:20:17.285214Z"
    }
   },
   "outputs": [],
   "source": [
    "def timeit(f):\n",
    "    from datetime import datetime\n",
    "    def envelope(*args, **kw):\n",
    "        begin = datetime.now()\n",
    "        result = f(*args, **kw)\n",
    "        elapsed = datetime.now() - begin\n",
    "        return elapsed, result\n",
    "    return envelope    "
   ]
  },
  {
   "cell_type": "code",
   "execution_count": null,
   "metadata": {
    "ExecuteTime": {
     "end_time": "2018-09-26T03:22:03.051640Z",
     "start_time": "2018-09-26T03:22:03.049284Z"
    }
   },
   "outputs": [],
   "source": [
    "def slow_add(a, b, times):\n",
    "    for i in range(times):\n",
    "        result = a + b\n",
    "    return result"
   ]
  },
  {
   "cell_type": "code",
   "execution_count": null,
   "metadata": {
    "ExecuteTime": {
     "end_time": "2018-09-26T03:22:07.971975Z",
     "start_time": "2018-09-26T03:22:03.962177Z"
    }
   },
   "outputs": [],
   "source": [
    "slow_add(1,2, 100000000)"
   ]
  },
  {
   "cell_type": "code",
   "execution_count": null,
   "metadata": {
    "ExecuteTime": {
     "end_time": "2018-09-26T03:22:10.100558Z",
     "start_time": "2018-09-26T03:22:10.097736Z"
    }
   },
   "outputs": [],
   "source": [
    "slow_add = timeit(slow_add)"
   ]
  },
  {
   "cell_type": "code",
   "execution_count": null,
   "metadata": {
    "ExecuteTime": {
     "end_time": "2018-09-26T03:22:15.526209Z",
     "start_time": "2018-09-26T03:22:11.474026Z"
    }
   },
   "outputs": [],
   "source": [
    "slow_add(1,2, 100000000)"
   ]
  },
  {
   "cell_type": "code",
   "execution_count": null,
   "metadata": {
    "ExecuteTime": {
     "end_time": "2018-09-26T03:22:16.867824Z",
     "start_time": "2018-09-26T03:22:16.865534Z"
    }
   },
   "outputs": [],
   "source": [
    "@timeit\n",
    "def slow_add(a, b, times):\n",
    "    for i in range(times):\n",
    "        result = a + b\n",
    "    return result"
   ]
  },
  {
   "cell_type": "code",
   "execution_count": null,
   "metadata": {
    "ExecuteTime": {
     "end_time": "2018-09-26T03:22:21.445418Z",
     "start_time": "2018-09-26T03:22:17.401221Z"
    }
   },
   "outputs": [],
   "source": [
    "slow_add(1,2, 100000000)"
   ]
  },
  {
   "cell_type": "markdown",
   "metadata": {},
   "source": [
    "## Generator Functions"
   ]
  },
  {
   "cell_type": "code",
   "execution_count": null,
   "metadata": {
    "ExecuteTime": {
     "end_time": "2018-09-26T03:11:20.158317Z",
     "start_time": "2018-09-26T03:11:20.155444Z"
    }
   },
   "outputs": [],
   "source": [
    "def directions():\n",
    "    yield 'N'\n",
    "    yield 'E'\n",
    "    yield 'S'\n",
    "    yield 'W'"
   ]
  },
  {
   "cell_type": "code",
   "execution_count": null,
   "metadata": {
    "ExecuteTime": {
     "end_time": "2018-09-26T03:11:32.140057Z",
     "start_time": "2018-09-26T03:11:32.137796Z"
    }
   },
   "outputs": [],
   "source": [
    "d = directions()"
   ]
  },
  {
   "cell_type": "code",
   "execution_count": null,
   "metadata": {
    "ExecuteTime": {
     "end_time": "2018-09-26T03:13:27.069122Z",
     "start_time": "2018-09-26T03:13:27.064887Z"
    }
   },
   "outputs": [],
   "source": [
    "type(directions)"
   ]
  },
  {
   "cell_type": "code",
   "execution_count": null,
   "metadata": {
    "ExecuteTime": {
     "end_time": "2018-09-26T03:11:35.122301Z",
     "start_time": "2018-09-26T03:11:35.118728Z"
    }
   },
   "outputs": [],
   "source": [
    "type(d)"
   ]
  },
  {
   "cell_type": "code",
   "execution_count": null,
   "metadata": {
    "ExecuteTime": {
     "end_time": "2018-09-26T03:11:40.800271Z",
     "start_time": "2018-09-26T03:11:40.796097Z"
    }
   },
   "outputs": [],
   "source": [
    "next(d)"
   ]
  },
  {
   "cell_type": "code",
   "execution_count": null,
   "metadata": {
    "ExecuteTime": {
     "end_time": "2018-09-26T03:11:48.223000Z",
     "start_time": "2018-09-26T03:11:48.219138Z"
    }
   },
   "outputs": [],
   "source": [
    "next(d)"
   ]
  },
  {
   "cell_type": "code",
   "execution_count": null,
   "metadata": {
    "ExecuteTime": {
     "end_time": "2018-09-26T03:12:46.346622Z",
     "start_time": "2018-09-26T03:12:46.344119Z"
    }
   },
   "outputs": [],
   "source": [
    "def gen_id(seed):\n",
    "    next_id = seed\n",
    "    while True:\n",
    "        yield next_id\n",
    "        next_id += 1"
   ]
  },
  {
   "cell_type": "code",
   "execution_count": null,
   "metadata": {
    "ExecuteTime": {
     "end_time": "2018-09-26T03:12:58.580519Z",
     "start_time": "2018-09-26T03:12:58.578414Z"
    }
   },
   "outputs": [],
   "source": [
    "g = gen_id(101)"
   ]
  },
  {
   "cell_type": "code",
   "execution_count": null,
   "metadata": {
    "ExecuteTime": {
     "end_time": "2018-09-26T03:14:21.568516Z",
     "start_time": "2018-09-26T03:14:21.564186Z"
    }
   },
   "outputs": [],
   "source": [
    "for _, id_ in zip(range(10), g):\n",
    "    print(id_)"
   ]
  },
  {
   "cell_type": "markdown",
   "metadata": {
    "ExecuteTime": {
     "end_time": "2018-09-24T19:54:56.876683Z",
     "start_time": "2018-09-24T19:54:56.872930Z"
    }
   },
   "source": [
    "# Exercise"
   ]
  },
  {
   "cell_type": "markdown",
   "metadata": {
    "ExecuteTime": {
     "end_time": "2018-09-26T02:43:22.784247Z",
     "start_time": "2018-09-26T02:43:22.776560Z"
    }
   },
   "source": [
    "Implement the flatten operation (or reuse), by transforming a list of lists in a flat list."
   ]
  },
  {
   "cell_type": "code",
   "execution_count": null,
   "metadata": {
    "ExecuteTime": {
     "end_time": "2018-09-26T03:08:27.464330Z",
     "start_time": "2018-09-26T03:08:27.461098Z"
    }
   },
   "outputs": [],
   "source": [
    "x = [[1,2,3], [4,5,6], [7], [8,9]] # flatten == [1, 2, 3, 4, 5, 6, 7, 8, 9]"
   ]
  },
  {
   "cell_type": "code",
   "execution_count": null,
   "metadata": {},
   "outputs": [],
   "source": []
  }
 ],
 "metadata": {
  "hide_input": false,
  "kernelspec": {
   "display_name": "Python 3",
   "language": "python",
   "name": "python3"
  },
  "language_info": {
   "codemirror_mode": {
    "name": "ipython",
    "version": 3
   },
   "file_extension": ".py",
   "mimetype": "text/x-python",
   "name": "python",
   "nbconvert_exporter": "python",
   "pygments_lexer": "ipython3",
   "version": "3.7.0"
  },
  "toc": {
   "colors": {
    "hover_highlight": "#DAA520",
    "navigate_num": "#000000",
    "navigate_text": "#333333",
    "running_highlight": "#FF0000",
    "selected_highlight": "#FFD700",
    "sidebar_border": "#EEEEEE",
    "wrapper_background": "#FFFFFF"
   },
   "moveMenuLeft": true,
   "nav_menu": {
    "height": "15px",
    "width": "250px"
   },
   "navigate_menu": true,
   "number_sections": true,
   "sideBar": true,
   "threshold": 4,
   "toc_cell": false,
   "toc_section_display": "block",
   "toc_window_display": false,
   "widenNotebook": false
  }
 },
 "nbformat": 4,
 "nbformat_minor": 2
}
