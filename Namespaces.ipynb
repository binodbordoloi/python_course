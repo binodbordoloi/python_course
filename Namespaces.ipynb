{
 "cells": [
  {
   "cell_type": "markdown",
   "metadata": {},
   "source": [
    "# Namespaces: Functions, Modules and Packages\n",
    "\n",
    "In the second part we will learn in depth about namespaces, used to build modules, packages, functions.\n",
    "In this section we will also explore the flexible parameter passing mechanism available in Python.\n",
    "\n",
    "Methods and classes will be explored in the next part about Object Oriented Programming."
   ]
  },
  {
   "cell_type": "markdown",
   "metadata": {},
   "source": [
    "# Functions"
   ]
  },
  {
   "cell_type": "markdown",
   "metadata": {},
   "source": [
    "### Defining functions"
   ]
  },
  {
   "cell_type": "code",
   "execution_count": null,
   "metadata": {
    "ExecuteTime": {
     "end_time": "2018-09-26T01:50:54.307334Z",
     "start_time": "2018-09-26T01:50:54.304204Z"
    }
   },
   "outputs": [],
   "source": [
    "def simplest():\n",
    "    pass"
   ]
  },
  {
   "cell_type": "code",
   "execution_count": null,
   "metadata": {
    "ExecuteTime": {
     "end_time": "2018-09-26T01:50:54.320731Z",
     "start_time": "2018-09-26T01:50:54.312485Z"
    }
   },
   "outputs": [],
   "source": [
    "simplest"
   ]
  },
  {
   "cell_type": "code",
   "execution_count": null,
   "metadata": {
    "ExecuteTime": {
     "end_time": "2018-09-26T01:50:54.325955Z",
     "start_time": "2018-09-26T01:50:54.322643Z"
    }
   },
   "outputs": [],
   "source": [
    "simplest()"
   ]
  },
  {
   "cell_type": "code",
   "execution_count": null,
   "metadata": {
    "ExecuteTime": {
     "end_time": "2018-09-26T01:50:54.330597Z",
     "start_time": "2018-09-26T01:50:54.327911Z"
    }
   },
   "outputs": [],
   "source": [
    "simplest_anonymous = lambda: None"
   ]
  },
  {
   "cell_type": "code",
   "execution_count": null,
   "metadata": {
    "ExecuteTime": {
     "end_time": "2018-09-26T01:50:54.335985Z",
     "start_time": "2018-09-26T01:50:54.332656Z"
    }
   },
   "outputs": [],
   "source": [
    "simplest_anonymous"
   ]
  },
  {
   "cell_type": "code",
   "execution_count": null,
   "metadata": {
    "ExecuteTime": {
     "end_time": "2018-09-26T01:50:54.340182Z",
     "start_time": "2018-09-26T01:50:54.338050Z"
    }
   },
   "outputs": [],
   "source": [
    "simplest_anonymous()"
   ]
  },
  {
   "cell_type": "markdown",
   "metadata": {},
   "source": [
    "### Dynamic Typing and Polymorphism"
   ]
  },
  {
   "cell_type": "code",
   "execution_count": null,
   "metadata": {
    "ExecuteTime": {
     "end_time": "2018-09-26T01:50:54.344290Z",
     "start_time": "2018-09-26T01:50:54.342135Z"
    }
   },
   "outputs": [],
   "source": [
    "def add2(a, b):\n",
    "    return a + b"
   ]
  },
  {
   "cell_type": "code",
   "execution_count": null,
   "metadata": {
    "ExecuteTime": {
     "end_time": "2018-09-26T01:50:54.350045Z",
     "start_time": "2018-09-26T01:50:54.346392Z"
    }
   },
   "outputs": [],
   "source": [
    "add2(3, 5)"
   ]
  },
  {
   "cell_type": "code",
   "execution_count": null,
   "metadata": {
    "ExecuteTime": {
     "end_time": "2018-09-26T01:50:54.356013Z",
     "start_time": "2018-09-26T01:50:54.351880Z"
    }
   },
   "outputs": [],
   "source": [
    "add2(3, 5.0)"
   ]
  },
  {
   "cell_type": "code",
   "execution_count": null,
   "metadata": {
    "ExecuteTime": {
     "end_time": "2018-09-26T01:50:54.361179Z",
     "start_time": "2018-09-26T01:50:54.357827Z"
    }
   },
   "outputs": [],
   "source": [
    "add2(3-2j, 5+4j)"
   ]
  },
  {
   "cell_type": "code",
   "execution_count": null,
   "metadata": {
    "ExecuteTime": {
     "end_time": "2018-09-26T01:50:54.366539Z",
     "start_time": "2018-09-26T01:50:54.362816Z"
    }
   },
   "outputs": [],
   "source": [
    "add2(\"con\", \"cat\")"
   ]
  },
  {
   "cell_type": "code",
   "execution_count": null,
   "metadata": {
    "ExecuteTime": {
     "end_time": "2018-09-26T01:50:54.372435Z",
     "start_time": "2018-09-26T01:50:54.368536Z"
    }
   },
   "outputs": [],
   "source": [
    "add2([1, 2], [\"a\", 'b'])"
   ]
  },
  {
   "cell_type": "markdown",
   "metadata": {},
   "source": [
    "### Parameter Passing"
   ]
  },
  {
   "cell_type": "code",
   "execution_count": null,
   "metadata": {
    "ExecuteTime": {
     "end_time": "2018-09-26T01:50:54.376126Z",
     "start_time": "2018-09-26T01:50:54.374157Z"
    }
   },
   "outputs": [],
   "source": [
    "x = (3, 5)"
   ]
  },
  {
   "cell_type": "code",
   "execution_count": null,
   "metadata": {
    "ExecuteTime": {
     "end_time": "2018-09-26T01:50:54.381976Z",
     "start_time": "2018-09-26T01:50:54.378384Z"
    }
   },
   "outputs": [],
   "source": [
    "add2(x[0], x[1])"
   ]
  },
  {
   "cell_type": "markdown",
   "metadata": {
    "ExecuteTime": {
     "end_time": "2018-09-23T17:41:25.726862Z",
     "start_time": "2018-09-23T17:41:25.721992Z"
    }
   },
   "source": [
    "Positional parameter expansion"
   ]
  },
  {
   "cell_type": "code",
   "execution_count": null,
   "metadata": {
    "ExecuteTime": {
     "end_time": "2018-09-26T01:50:54.386960Z",
     "start_time": "2018-09-26T01:50:54.383509Z"
    }
   },
   "outputs": [],
   "source": [
    "add2(*x)"
   ]
  },
  {
   "cell_type": "code",
   "execution_count": null,
   "metadata": {
    "ExecuteTime": {
     "end_time": "2018-09-26T01:50:54.391659Z",
     "start_time": "2018-09-26T01:50:54.388794Z"
    }
   },
   "outputs": [],
   "source": [
    "def power(base, exp=0):\n",
    "    \"This function computes the repeated multiplication of 'base' by itself, repeating 'exp' times.\"\n",
    "    return base**exp"
   ]
  },
  {
   "cell_type": "code",
   "execution_count": null,
   "metadata": {
    "ExecuteTime": {
     "end_time": "2018-09-26T01:50:54.397178Z",
     "start_time": "2018-09-26T01:50:54.393645Z"
    }
   },
   "outputs": [],
   "source": [
    "help(power)"
   ]
  },
  {
   "cell_type": "code",
   "execution_count": null,
   "metadata": {
    "ExecuteTime": {
     "end_time": "2018-09-26T01:50:54.402958Z",
     "start_time": "2018-09-26T01:50:54.399144Z"
    }
   },
   "outputs": [],
   "source": [
    "power(2)"
   ]
  },
  {
   "cell_type": "code",
   "execution_count": null,
   "metadata": {
    "ExecuteTime": {
     "end_time": "2018-09-26T01:50:54.409429Z",
     "start_time": "2018-09-26T01:50:54.405262Z"
    }
   },
   "outputs": [],
   "source": [
    "power(2, 5)"
   ]
  },
  {
   "cell_type": "code",
   "execution_count": null,
   "metadata": {
    "ExecuteTime": {
     "end_time": "2018-09-26T01:50:54.414559Z",
     "start_time": "2018-09-26T01:50:54.411293Z"
    }
   },
   "outputs": [],
   "source": [
    "power(base=2, exp=5)"
   ]
  },
  {
   "cell_type": "code",
   "execution_count": null,
   "metadata": {
    "ExecuteTime": {
     "end_time": "2018-09-26T01:50:54.420115Z",
     "start_time": "2018-09-26T01:50:54.416182Z"
    }
   },
   "outputs": [],
   "source": [
    "power(2, exp=5)"
   ]
  },
  {
   "cell_type": "markdown",
   "metadata": {},
   "source": [
    "Not everything is possbile though! Do you know why?"
   ]
  },
  {
   "cell_type": "code",
   "execution_count": null,
   "metadata": {
    "ExecuteTime": {
     "end_time": "2018-09-26T01:50:54.425684Z",
     "start_time": "2018-09-26T01:50:54.421936Z"
    }
   },
   "outputs": [],
   "source": [
    "power(base=2, 5)"
   ]
  },
  {
   "cell_type": "code",
   "execution_count": null,
   "metadata": {
    "ExecuteTime": {
     "end_time": "2018-09-26T01:51:11.121821Z",
     "start_time": "2018-09-26T01:51:11.117481Z"
    }
   },
   "outputs": [],
   "source": [
    "import this"
   ]
  },
  {
   "cell_type": "code",
   "execution_count": null,
   "metadata": {
    "ExecuteTime": {
     "end_time": "2018-09-26T01:51:11.126068Z",
     "start_time": "2018-09-26T01:51:11.123802Z"
    }
   },
   "outputs": [],
   "source": [
    "param_dict = {'base': 2, 'exp':10}"
   ]
  },
  {
   "cell_type": "code",
   "execution_count": null,
   "metadata": {
    "ExecuteTime": {
     "end_time": "2018-09-26T01:51:11.134459Z",
     "start_time": "2018-09-26T01:51:11.130608Z"
    }
   },
   "outputs": [],
   "source": [
    "power(param_dict['base'], param_dict['exp'])"
   ]
  },
  {
   "cell_type": "markdown",
   "metadata": {
    "ExecuteTime": {
     "end_time": "2018-09-23T17:41:52.740088Z",
     "start_time": "2018-09-23T17:41:52.735088Z"
    }
   },
   "source": [
    "Keyword parameter expansion"
   ]
  },
  {
   "cell_type": "code",
   "execution_count": null,
   "metadata": {
    "ExecuteTime": {
     "end_time": "2018-09-26T01:51:11.140527Z",
     "start_time": "2018-09-26T01:51:11.136539Z"
    }
   },
   "outputs": [],
   "source": [
    "power(**param_dict)"
   ]
  },
  {
   "cell_type": "markdown",
   "metadata": {},
   "source": [
    "### Variadic Functions\n",
    "\n",
    "Functions with indefinite arity, or functions that accepts a variable number of arguments. "
   ]
  },
  {
   "cell_type": "code",
   "execution_count": null,
   "metadata": {
    "ExecuteTime": {
     "end_time": "2018-09-26T01:51:11.146157Z",
     "start_time": "2018-09-26T01:51:11.143844Z"
    }
   },
   "outputs": [],
   "source": [
    "def show_parameters(*args, **kw):\n",
    "    print(f' Positional: {args}')\n",
    "    print(f' Keywords + Value: {kw}')    "
   ]
  },
  {
   "cell_type": "code",
   "execution_count": null,
   "metadata": {
    "ExecuteTime": {
     "end_time": "2018-09-26T01:51:11.151022Z",
     "start_time": "2018-09-26T01:51:11.148214Z"
    }
   },
   "outputs": [],
   "source": [
    "show_parameters()"
   ]
  },
  {
   "cell_type": "code",
   "execution_count": null,
   "metadata": {
    "ExecuteTime": {
     "end_time": "2018-09-26T01:51:11.157260Z",
     "start_time": "2018-09-26T01:51:11.153740Z"
    }
   },
   "outputs": [],
   "source": [
    "show_parameters(1, 2, 3)"
   ]
  },
  {
   "cell_type": "code",
   "execution_count": null,
   "metadata": {
    "ExecuteTime": {
     "end_time": "2018-09-26T01:51:11.162206Z",
     "start_time": "2018-09-26T01:51:11.159154Z"
    }
   },
   "outputs": [],
   "source": [
    "show_parameters(a=1, b=2, c=3)"
   ]
  },
  {
   "cell_type": "markdown",
   "metadata": {},
   "source": [
    "A more complex example"
   ]
  },
  {
   "cell_type": "code",
   "execution_count": null,
   "metadata": {
    "ExecuteTime": {
     "end_time": "2018-09-26T01:51:11.167268Z",
     "start_time": "2018-09-26T01:51:11.164036Z"
    }
   },
   "outputs": [],
   "source": [
    "show_parameters(1, \"a\", [7.0, 3.14], {\"z\":None}, b=2, c={'d': 3}, e=(5,6,7))"
   ]
  },
  {
   "cell_type": "markdown",
   "metadata": {},
   "source": [
    "Combining *parameter expansion* with *variadic functions*"
   ]
  },
  {
   "cell_type": "code",
   "execution_count": null,
   "metadata": {
    "ExecuteTime": {
     "end_time": "2018-09-26T01:51:11.172186Z",
     "start_time": "2018-09-26T01:51:11.169134Z"
    }
   },
   "outputs": [],
   "source": [
    "def add_multiple(*args, **kw):\n",
    "    result = 0\n",
    "    for i in args:\n",
    "        result += i\n",
    "    for i in kw.values():\n",
    "        result += i\n",
    "    return result"
   ]
  },
  {
   "cell_type": "code",
   "execution_count": null,
   "metadata": {
    "ExecuteTime": {
     "end_time": "2018-09-26T01:51:11.178331Z",
     "start_time": "2018-09-26T01:51:11.174403Z"
    }
   },
   "outputs": [],
   "source": [
    "add_multiple(1, 2, 3, pi=3.14159265, e=2.71828)"
   ]
  },
  {
   "cell_type": "markdown",
   "metadata": {},
   "source": [
    "### Nested Functions"
   ]
  },
  {
   "cell_type": "code",
   "execution_count": null,
   "metadata": {
    "ExecuteTime": {
     "end_time": "2018-09-26T01:51:11.183069Z",
     "start_time": "2018-09-26T01:51:11.180367Z"
    }
   },
   "outputs": [],
   "source": [
    "def payment_factory(base_salary):\n",
    "    def pay_to_role(bonus):\n",
    "        return base_salary + bonus\n",
    "    return pay_to_role"
   ]
  },
  {
   "cell_type": "code",
   "execution_count": null,
   "metadata": {
    "ExecuteTime": {
     "end_time": "2018-09-26T01:51:11.188184Z",
     "start_time": "2018-09-26T01:51:11.184987Z"
    }
   },
   "outputs": [],
   "source": [
    "pay_employee = payment_factory(1000)\n",
    "pay_manager = payment_factory(1500)\n",
    "pay_alice = pay_employee(bonus=200)\n",
    "pay_bob = pay_employee(bonus=150)\n",
    "pay_charles = pay_manager(bonus=100)"
   ]
  },
  {
   "cell_type": "code",
   "execution_count": null,
   "metadata": {
    "ExecuteTime": {
     "end_time": "2018-09-26T01:51:11.193761Z",
     "start_time": "2018-09-26T01:51:11.190051Z"
    }
   },
   "outputs": [],
   "source": [
    "pay_alice, pay_bob, pay_charles"
   ]
  },
  {
   "cell_type": "markdown",
   "metadata": {},
   "source": [
    "# Modules"
   ]
  },
  {
   "cell_type": "code",
   "execution_count": null,
   "metadata": {
    "ExecuteTime": {
     "end_time": "2018-09-26T01:51:11.199792Z",
     "start_time": "2018-09-26T01:51:11.195586Z"
    }
   },
   "outputs": [],
   "source": [
    "%%writefile crazy_adder.py\n",
    "\n",
    "some_module_level_variable = 42\n",
    "\n",
    "_something_internal = -1\n",
    "\n",
    "def add_multiple(*args, **kw):\n",
    "    result = 0\n",
    "    for i in args:\n",
    "        result += i\n",
    "    for i in kw.values():\n",
    "        result += i\n",
    "    return result\n"
   ]
  },
  {
   "cell_type": "code",
   "execution_count": null,
   "metadata": {
    "ExecuteTime": {
     "end_time": "2018-09-26T01:51:11.330840Z",
     "start_time": "2018-09-26T01:51:11.201676Z"
    }
   },
   "outputs": [],
   "source": [
    "!ls"
   ]
  },
  {
   "cell_type": "markdown",
   "metadata": {},
   "source": [
    "## Module import"
   ]
  },
  {
   "cell_type": "code",
   "execution_count": null,
   "metadata": {
    "ExecuteTime": {
     "end_time": "2018-09-26T01:51:11.337320Z",
     "start_time": "2018-09-26T01:51:11.333190Z"
    }
   },
   "outputs": [],
   "source": [
    "import crazy_adder"
   ]
  },
  {
   "cell_type": "code",
   "execution_count": null,
   "metadata": {
    "ExecuteTime": {
     "end_time": "2018-09-26T01:51:11.342849Z",
     "start_time": "2018-09-26T01:51:11.338912Z"
    }
   },
   "outputs": [],
   "source": [
    "dir(crazy_adder)"
   ]
  },
  {
   "cell_type": "code",
   "execution_count": null,
   "metadata": {
    "ExecuteTime": {
     "end_time": "2018-09-26T01:51:11.348170Z",
     "start_time": "2018-09-26T01:51:11.344264Z"
    }
   },
   "outputs": [],
   "source": [
    "crazy_adder.add_multiple(salary=1000,bonus=200)"
   ]
  },
  {
   "cell_type": "markdown",
   "metadata": {},
   "source": [
    "## Import object from Module"
   ]
  },
  {
   "cell_type": "code",
   "execution_count": null,
   "metadata": {
    "ExecuteTime": {
     "end_time": "2018-09-26T01:51:11.352914Z",
     "start_time": "2018-09-26T01:51:11.350304Z"
    }
   },
   "outputs": [],
   "source": [
    "from crazy_adder import add_multiple"
   ]
  },
  {
   "cell_type": "code",
   "execution_count": null,
   "metadata": {
    "ExecuteTime": {
     "end_time": "2018-09-26T01:51:11.358439Z",
     "start_time": "2018-09-26T01:51:11.354762Z"
    }
   },
   "outputs": [],
   "source": [
    "add_multiple(salary=1000,bonus=200)"
   ]
  },
  {
   "cell_type": "code",
   "execution_count": null,
   "metadata": {
    "ExecuteTime": {
     "end_time": "2018-09-26T01:51:11.364982Z",
     "start_time": "2018-09-26T01:51:11.360164Z"
    }
   },
   "outputs": [],
   "source": [
    "from crazy_adder import add_multiple as am2\n",
    "am2(sugar=5, milk=0.5, eggs=4)"
   ]
  },
  {
   "cell_type": "code",
   "execution_count": null,
   "metadata": {
    "ExecuteTime": {
     "end_time": "2018-09-26T01:51:11.371830Z",
     "start_time": "2018-09-26T01:51:11.367891Z"
    }
   },
   "outputs": [],
   "source": [
    "from crazy_adder import *"
   ]
  },
  {
   "cell_type": "code",
   "execution_count": null,
   "metadata": {
    "ExecuteTime": {
     "end_time": "2018-09-26T01:51:11.378422Z",
     "start_time": "2018-09-26T01:51:11.374488Z"
    }
   },
   "outputs": [],
   "source": [
    "some_module_level_variable"
   ]
  },
  {
   "cell_type": "code",
   "execution_count": null,
   "metadata": {
    "ExecuteTime": {
     "end_time": "2018-09-26T01:51:11.382788Z",
     "start_time": "2018-09-26T01:51:11.380444Z"
    }
   },
   "outputs": [],
   "source": [
    "some_module_level_variable = 0"
   ]
  },
  {
   "cell_type": "code",
   "execution_count": null,
   "metadata": {
    "ExecuteTime": {
     "end_time": "2018-09-26T01:51:11.388993Z",
     "start_time": "2018-09-26T01:51:11.384870Z"
    }
   },
   "outputs": [],
   "source": [
    "crazy_adder.some_module_level_variable"
   ]
  },
  {
   "cell_type": "code",
   "execution_count": null,
   "metadata": {
    "ExecuteTime": {
     "end_time": "2018-09-26T01:51:11.395126Z",
     "start_time": "2018-09-26T01:51:11.391042Z"
    }
   },
   "outputs": [],
   "source": [
    "some_module_level_variable"
   ]
  },
  {
   "cell_type": "code",
   "execution_count": null,
   "metadata": {
    "ExecuteTime": {
     "end_time": "2018-09-26T01:51:11.484724Z",
     "start_time": "2018-09-26T01:51:11.397287Z"
    }
   },
   "outputs": [],
   "source": [
    "_something_internal"
   ]
  },
  {
   "cell_type": "code",
   "execution_count": null,
   "metadata": {
    "ExecuteTime": {
     "end_time": "2018-09-26T01:51:18.627545Z",
     "start_time": "2018-09-26T01:51:18.624101Z"
    }
   },
   "outputs": [],
   "source": [
    "crazy_adder._something_internal"
   ]
  },
  {
   "cell_type": "markdown",
   "metadata": {},
   "source": [
    "## Modules are objects"
   ]
  },
  {
   "cell_type": "code",
   "execution_count": null,
   "metadata": {
    "ExecuteTime": {
     "end_time": "2018-09-26T01:51:18.635594Z",
     "start_time": "2018-09-26T01:51:18.631888Z"
    }
   },
   "outputs": [],
   "source": [
    "dir(crazy_adder)"
   ]
  },
  {
   "cell_type": "code",
   "execution_count": null,
   "metadata": {
    "ExecuteTime": {
     "end_time": "2018-09-26T01:51:18.641500Z",
     "start_time": "2018-09-26T01:51:18.637924Z"
    }
   },
   "outputs": [],
   "source": [
    "crazy_adder.__name__"
   ]
  },
  {
   "cell_type": "markdown",
   "metadata": {},
   "source": [
    "### Module reloading"
   ]
  },
  {
   "cell_type": "code",
   "execution_count": null,
   "metadata": {
    "ExecuteTime": {
     "end_time": "2018-09-26T01:51:18.648148Z",
     "start_time": "2018-09-26T01:51:18.643496Z"
    }
   },
   "outputs": [],
   "source": [
    "from importlib import reload\n",
    "reload(crazy_adder)"
   ]
  },
  {
   "cell_type": "markdown",
   "metadata": {},
   "source": [
    "### Where do modules live?"
   ]
  },
  {
   "cell_type": "code",
   "execution_count": null,
   "metadata": {
    "ExecuteTime": {
     "end_time": "2018-09-26T01:51:18.654058Z",
     "start_time": "2018-09-26T01:51:18.650350Z"
    }
   },
   "outputs": [],
   "source": [
    "import sys\n",
    "len(sys.modules)"
   ]
  },
  {
   "cell_type": "code",
   "execution_count": null,
   "metadata": {
    "ExecuteTime": {
     "end_time": "2018-09-26T01:51:18.659769Z",
     "start_time": "2018-09-26T01:51:18.656053Z"
    }
   },
   "outputs": [],
   "source": [
    "type(sys.modules)"
   ]
  },
  {
   "cell_type": "code",
   "execution_count": null,
   "metadata": {
    "ExecuteTime": {
     "end_time": "2018-09-26T01:51:18.665396Z",
     "start_time": "2018-09-26T01:51:18.661474Z"
    }
   },
   "outputs": [],
   "source": [
    "sys.modules['crazy_adder']"
   ]
  },
  {
   "cell_type": "markdown",
   "metadata": {},
   "source": [
    "# Packages"
   ]
  },
  {
   "cell_type": "code",
   "execution_count": null,
   "metadata": {
    "ExecuteTime": {
     "end_time": "2018-09-26T01:51:18.670934Z",
     "start_time": "2018-09-26T01:51:18.667129Z"
    }
   },
   "outputs": [],
   "source": [
    "%%writefile nested_module.py\n",
    "a = 1\n",
    "def factorial(n):\n",
    "    return n*factorial(n-1) if n>0 else 1"
   ]
  },
  {
   "cell_type": "code",
   "execution_count": null,
   "metadata": {
    "ExecuteTime": {
     "end_time": "2018-09-26T01:51:19.165707Z",
     "start_time": "2018-09-26T01:51:18.672866Z"
    }
   },
   "outputs": [],
   "source": [
    "!mkdir my_package\n",
    "!touch __init__.py\n",
    "!mv __init__.py my_package\n",
    "!mv nested_module.py my_package"
   ]
  },
  {
   "cell_type": "code",
   "execution_count": null,
   "metadata": {
    "ExecuteTime": {
     "end_time": "2018-09-26T01:51:19.295475Z",
     "start_time": "2018-09-26T01:51:19.169007Z"
    }
   },
   "outputs": [],
   "source": [
    "!ls -laR my_package/"
   ]
  },
  {
   "cell_type": "code",
   "execution_count": null,
   "metadata": {
    "ExecuteTime": {
     "end_time": "2018-09-26T01:51:19.303303Z",
     "start_time": "2018-09-26T01:51:19.298663Z"
    }
   },
   "outputs": [],
   "source": [
    "import my_package"
   ]
  },
  {
   "cell_type": "code",
   "execution_count": null,
   "metadata": {
    "ExecuteTime": {
     "end_time": "2018-09-26T01:51:19.309627Z",
     "start_time": "2018-09-26T01:51:19.305458Z"
    }
   },
   "outputs": [],
   "source": [
    "my_package"
   ]
  },
  {
   "cell_type": "code",
   "execution_count": null,
   "metadata": {
    "ExecuteTime": {
     "end_time": "2018-09-26T01:51:19.315191Z",
     "start_time": "2018-09-26T01:51:19.311374Z"
    }
   },
   "outputs": [],
   "source": [
    "from my_package import nested_module"
   ]
  },
  {
   "cell_type": "code",
   "execution_count": null,
   "metadata": {
    "ExecuteTime": {
     "end_time": "2018-09-26T01:51:19.320949Z",
     "start_time": "2018-09-26T01:51:19.317080Z"
    }
   },
   "outputs": [],
   "source": [
    "nested_module"
   ]
  },
  {
   "cell_type": "code",
   "execution_count": null,
   "metadata": {
    "ExecuteTime": {
     "end_time": "2018-09-26T01:51:19.325388Z",
     "start_time": "2018-09-26T01:51:19.322945Z"
    }
   },
   "outputs": [],
   "source": [
    "from my_package.nested_module import factorial"
   ]
  },
  {
   "cell_type": "code",
   "execution_count": null,
   "metadata": {
    "ExecuteTime": {
     "end_time": "2018-09-26T01:51:19.332345Z",
     "start_time": "2018-09-26T01:51:19.327778Z"
    }
   },
   "outputs": [],
   "source": [
    "factorial(3)"
   ]
  },
  {
   "cell_type": "code",
   "execution_count": null,
   "metadata": {
    "ExecuteTime": {
     "end_time": "2018-09-26T01:51:19.339401Z",
     "start_time": "2018-09-26T01:51:19.334941Z"
    }
   },
   "outputs": [],
   "source": [
    "factorial(100)"
   ]
  },
  {
   "cell_type": "markdown",
   "metadata": {},
   "source": [
    "# Exercise\n",
    "\n",
    "Implement a function that returns the fibonacci sequence with length == n.\n",
    "For example, for n=5, it should return: 1,1,2,3,8\n",
    "\n",
    "The fibonacci sequence is defined by: \n",
    " * fib(0) = 1\n",
    " * fib(1) = 1\n",
    " * fib(n) = fib(n-1) + fib(n-2)"
   ]
  },
  {
   "cell_type": "code",
   "execution_count": null,
   "metadata": {},
   "outputs": [],
   "source": []
  }
 ],
 "metadata": {
  "hide_input": false,
  "kernelspec": {
   "display_name": "Python 3",
   "language": "python",
   "name": "python3"
  },
  "language_info": {
   "codemirror_mode": {
    "name": "ipython",
    "version": 3
   },
   "file_extension": ".py",
   "mimetype": "text/x-python",
   "name": "python",
   "nbconvert_exporter": "python",
   "pygments_lexer": "ipython3",
   "version": "3.7.0"
  },
  "toc": {
   "colors": {
    "hover_highlight": "#DAA520",
    "navigate_num": "#000000",
    "navigate_text": "#333333",
    "running_highlight": "#FF0000",
    "selected_highlight": "#FFD700",
    "sidebar_border": "#EEEEEE",
    "wrapper_background": "#FFFFFF"
   },
   "moveMenuLeft": true,
   "nav_menu": {
    "height": "183.003px",
    "width": "510.017px"
   },
   "navigate_menu": true,
   "number_sections": true,
   "sideBar": true,
   "threshold": 4,
   "toc_cell": false,
   "toc_section_display": "block",
   "toc_window_display": false,
   "widenNotebook": false
  }
 },
 "nbformat": 4,
 "nbformat_minor": 2
}
