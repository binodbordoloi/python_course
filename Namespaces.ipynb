{
 "cells": [
  {
   "cell_type": "markdown",
   "metadata": {},
   "source": [
    "# Namespaces: Functions, Modules and Packages\n",
    "\n",
    "In the second part we will learn in depth about namespaces, used to build modules, packages, functions.\n",
    "In this section we will also explore the flexible parameter passing mechanism available in Python.\n",
    "\n",
    "Methods and classes will be explored in the next part about Object Oriented Programming."
   ]
  },
  {
   "cell_type": "markdown",
   "metadata": {},
   "source": [
    "# Functions"
   ]
  },
  {
   "cell_type": "markdown",
   "metadata": {},
   "source": [
    "### Defining functions"
   ]
  },
  {
   "cell_type": "code",
   "execution_count": 2,
   "metadata": {
    "ExecuteTime": {
     "end_time": "2018-09-26T17:42:44.068268Z",
     "start_time": "2018-09-26T17:42:44.061786Z"
    }
   },
   "outputs": [],
   "source": [
    "def simplest():\n",
    "    pass"
   ]
  },
  {
   "cell_type": "code",
   "execution_count": 3,
   "metadata": {
    "ExecuteTime": {
     "end_time": "2018-09-26T17:42:47.086859Z",
     "start_time": "2018-09-26T17:42:47.068281Z"
    }
   },
   "outputs": [
    {
     "data": {
      "text/plain": [
       "<function __main__.simplest()>"
      ]
     },
     "execution_count": 3,
     "metadata": {},
     "output_type": "execute_result"
    }
   ],
   "source": [
    "simplest"
   ]
  },
  {
   "cell_type": "code",
   "execution_count": 4,
   "metadata": {
    "ExecuteTime": {
     "end_time": "2018-09-26T17:42:57.138695Z",
     "start_time": "2018-09-26T17:42:57.126860Z"
    }
   },
   "outputs": [],
   "source": [
    "simplest()"
   ]
  },
  {
   "cell_type": "code",
   "execution_count": 5,
   "metadata": {
    "ExecuteTime": {
     "end_time": "2018-09-26T17:43:25.829755Z",
     "start_time": "2018-09-26T17:43:25.826616Z"
    }
   },
   "outputs": [],
   "source": [
    "simplest_anonymous = lambda: None"
   ]
  },
  {
   "cell_type": "code",
   "execution_count": 6,
   "metadata": {
    "ExecuteTime": {
     "end_time": "2018-09-26T17:43:26.813714Z",
     "start_time": "2018-09-26T17:43:26.808802Z"
    }
   },
   "outputs": [
    {
     "data": {
      "text/plain": [
       "<function __main__.<lambda>()>"
      ]
     },
     "execution_count": 6,
     "metadata": {},
     "output_type": "execute_result"
    }
   ],
   "source": [
    "simplest_anonymous"
   ]
  },
  {
   "cell_type": "code",
   "execution_count": 7,
   "metadata": {
    "ExecuteTime": {
     "end_time": "2018-09-26T17:43:43.770327Z",
     "start_time": "2018-09-26T17:43:43.767110Z"
    }
   },
   "outputs": [],
   "source": [
    "simplest_anonymous()"
   ]
  },
  {
   "cell_type": "markdown",
   "metadata": {},
   "source": [
    "### Dynamic Typing and Polymorphism"
   ]
  },
  {
   "cell_type": "code",
   "execution_count": 8,
   "metadata": {
    "ExecuteTime": {
     "end_time": "2018-09-26T17:44:06.867769Z",
     "start_time": "2018-09-26T17:44:06.864587Z"
    }
   },
   "outputs": [],
   "source": [
    "def add2(a, b):\n",
    "    return a + b"
   ]
  },
  {
   "cell_type": "code",
   "execution_count": 9,
   "metadata": {
    "ExecuteTime": {
     "end_time": "2018-09-26T17:44:07.959233Z",
     "start_time": "2018-09-26T17:44:07.954367Z"
    }
   },
   "outputs": [
    {
     "data": {
      "text/plain": [
       "8"
      ]
     },
     "execution_count": 9,
     "metadata": {},
     "output_type": "execute_result"
    }
   ],
   "source": [
    "add2(3, 5)"
   ]
  },
  {
   "cell_type": "code",
   "execution_count": 10,
   "metadata": {
    "ExecuteTime": {
     "end_time": "2018-09-26T17:44:11.782830Z",
     "start_time": "2018-09-26T17:44:11.775901Z"
    }
   },
   "outputs": [
    {
     "data": {
      "text/plain": [
       "8.0"
      ]
     },
     "execution_count": 10,
     "metadata": {},
     "output_type": "execute_result"
    }
   ],
   "source": [
    "add2(3, 5.0)"
   ]
  },
  {
   "cell_type": "code",
   "execution_count": 11,
   "metadata": {
    "ExecuteTime": {
     "end_time": "2018-09-26T17:44:13.941389Z",
     "start_time": "2018-09-26T17:44:13.935632Z"
    }
   },
   "outputs": [
    {
     "data": {
      "text/plain": [
       "(8+2j)"
      ]
     },
     "execution_count": 11,
     "metadata": {},
     "output_type": "execute_result"
    }
   ],
   "source": [
    "add2(3-2j, 5+4j)"
   ]
  },
  {
   "cell_type": "code",
   "execution_count": 12,
   "metadata": {
    "ExecuteTime": {
     "end_time": "2018-09-26T17:44:18.058856Z",
     "start_time": "2018-09-26T17:44:18.052858Z"
    }
   },
   "outputs": [
    {
     "data": {
      "text/plain": [
       "'concat'"
      ]
     },
     "execution_count": 12,
     "metadata": {},
     "output_type": "execute_result"
    }
   ],
   "source": [
    "add2(\"con\", \"cat\")"
   ]
  },
  {
   "cell_type": "code",
   "execution_count": 13,
   "metadata": {
    "ExecuteTime": {
     "end_time": "2018-09-26T17:44:31.592748Z",
     "start_time": "2018-09-26T17:44:31.588241Z"
    }
   },
   "outputs": [
    {
     "data": {
      "text/plain": [
       "[1, 2, 'a', 'b']"
      ]
     },
     "execution_count": 13,
     "metadata": {},
     "output_type": "execute_result"
    }
   ],
   "source": [
    "add2([1, 2], [\"a\", 'b'])"
   ]
  },
  {
   "cell_type": "markdown",
   "metadata": {},
   "source": [
    "### Parameter Passing"
   ]
  },
  {
   "cell_type": "code",
   "execution_count": 14,
   "metadata": {
    "ExecuteTime": {
     "end_time": "2018-09-26T17:44:55.017480Z",
     "start_time": "2018-09-26T17:44:55.014654Z"
    }
   },
   "outputs": [],
   "source": [
    "x = (3, 5)"
   ]
  },
  {
   "cell_type": "code",
   "execution_count": 15,
   "metadata": {
    "ExecuteTime": {
     "end_time": "2018-09-26T17:45:01.127652Z",
     "start_time": "2018-09-26T17:45:01.122770Z"
    }
   },
   "outputs": [
    {
     "data": {
      "text/plain": [
       "8"
      ]
     },
     "execution_count": 15,
     "metadata": {},
     "output_type": "execute_result"
    }
   ],
   "source": [
    "add2(x[0], x[1])"
   ]
  },
  {
   "cell_type": "markdown",
   "metadata": {
    "ExecuteTime": {
     "end_time": "2018-09-23T17:41:25.726862Z",
     "start_time": "2018-09-23T17:41:25.721992Z"
    }
   },
   "source": [
    "Positional parameter expansion"
   ]
  },
  {
   "cell_type": "code",
   "execution_count": 17,
   "metadata": {
    "ExecuteTime": {
     "end_time": "2018-09-26T17:45:37.999168Z",
     "start_time": "2018-09-26T17:45:37.992696Z"
    }
   },
   "outputs": [
    {
     "data": {
      "text/plain": [
       "8"
      ]
     },
     "execution_count": 17,
     "metadata": {},
     "output_type": "execute_result"
    }
   ],
   "source": [
    "add2(*x) # add2(3, 5)"
   ]
  },
  {
   "cell_type": "code",
   "execution_count": 19,
   "metadata": {
    "ExecuteTime": {
     "end_time": "2018-09-26T17:46:27.536216Z",
     "start_time": "2018-09-26T17:46:27.532554Z"
    }
   },
   "outputs": [],
   "source": [
    "def power(base, exp=0):\n",
    "    \"This function computes the repeated multiplication of 'base' by itself, repeating 'exp' times.\"\n",
    "    return base**exp"
   ]
  },
  {
   "cell_type": "code",
   "execution_count": 20,
   "metadata": {
    "ExecuteTime": {
     "end_time": "2018-09-26T17:46:28.558162Z",
     "start_time": "2018-09-26T17:46:28.549972Z"
    }
   },
   "outputs": [
    {
     "name": "stdout",
     "output_type": "stream",
     "text": [
      "Help on function power in module __main__:\n",
      "\n",
      "power(base, exp=0)\n",
      "    This function computes the repeated multiplication of 'base' by itself, repeating 'exp' times.\n",
      "\n"
     ]
    }
   ],
   "source": [
    "help(power)"
   ]
  },
  {
   "cell_type": "code",
   "execution_count": 22,
   "metadata": {
    "ExecuteTime": {
     "end_time": "2018-09-26T17:46:44.200020Z",
     "start_time": "2018-09-26T17:46:44.193142Z"
    }
   },
   "outputs": [
    {
     "data": {
      "text/plain": [
       "1"
      ]
     },
     "execution_count": 22,
     "metadata": {},
     "output_type": "execute_result"
    }
   ],
   "source": [
    "power(2) # power(2,0)"
   ]
  },
  {
   "cell_type": "code",
   "execution_count": 23,
   "metadata": {
    "ExecuteTime": {
     "end_time": "2018-09-26T17:46:47.141834Z",
     "start_time": "2018-09-26T17:46:47.132844Z"
    }
   },
   "outputs": [
    {
     "data": {
      "text/plain": [
       "32"
      ]
     },
     "execution_count": 23,
     "metadata": {},
     "output_type": "execute_result"
    }
   ],
   "source": [
    "power(2, 5)"
   ]
  },
  {
   "cell_type": "code",
   "execution_count": 24,
   "metadata": {
    "ExecuteTime": {
     "end_time": "2018-09-26T17:47:07.705925Z",
     "start_time": "2018-09-26T17:47:07.699183Z"
    }
   },
   "outputs": [
    {
     "data": {
      "text/plain": [
       "32"
      ]
     },
     "execution_count": 24,
     "metadata": {},
     "output_type": "execute_result"
    }
   ],
   "source": [
    "power(base=2, exp=5)"
   ]
  },
  {
   "cell_type": "code",
   "execution_count": 25,
   "metadata": {
    "ExecuteTime": {
     "end_time": "2018-09-26T17:47:16.738753Z",
     "start_time": "2018-09-26T17:47:16.728996Z"
    }
   },
   "outputs": [
    {
     "data": {
      "text/plain": [
       "32"
      ]
     },
     "execution_count": 25,
     "metadata": {},
     "output_type": "execute_result"
    }
   ],
   "source": [
    "power(2, exp=5)"
   ]
  },
  {
   "cell_type": "markdown",
   "metadata": {},
   "source": [
    "Not everything is possbile though! Do you know why?"
   ]
  },
  {
   "cell_type": "code",
   "execution_count": 26,
   "metadata": {
    "ExecuteTime": {
     "end_time": "2018-09-26T17:47:39.604096Z",
     "start_time": "2018-09-26T17:47:39.595057Z"
    }
   },
   "outputs": [
    {
     "ename": "SyntaxError",
     "evalue": "positional argument follows keyword argument (<ipython-input-26-86322f73a9d6>, line 1)",
     "output_type": "error",
     "traceback": [
      "\u001b[0;36m  File \u001b[0;32m\"<ipython-input-26-86322f73a9d6>\"\u001b[0;36m, line \u001b[0;32m1\u001b[0m\n\u001b[0;31m    power(base=2, 5)\u001b[0m\n\u001b[0m                 ^\u001b[0m\n\u001b[0;31mSyntaxError\u001b[0m\u001b[0;31m:\u001b[0m positional argument follows keyword argument\n"
     ]
    }
   ],
   "source": [
    "power(base=2, 5)"
   ]
  },
  {
   "cell_type": "code",
   "execution_count": null,
   "metadata": {
    "ExecuteTime": {
     "end_time": "2018-09-26T01:51:11.121821Z",
     "start_time": "2018-09-26T01:51:11.117481Z"
    }
   },
   "outputs": [],
   "source": [
    "import this"
   ]
  },
  {
   "cell_type": "code",
   "execution_count": 27,
   "metadata": {
    "ExecuteTime": {
     "end_time": "2018-09-26T17:48:31.846975Z",
     "start_time": "2018-09-26T17:48:31.841029Z"
    }
   },
   "outputs": [],
   "source": [
    "param_dict = {'base': 2, 'exp':10}"
   ]
  },
  {
   "cell_type": "code",
   "execution_count": 28,
   "metadata": {
    "ExecuteTime": {
     "end_time": "2018-09-26T17:48:48.120795Z",
     "start_time": "2018-09-26T17:48:48.114172Z"
    }
   },
   "outputs": [
    {
     "data": {
      "text/plain": [
       "1024"
      ]
     },
     "execution_count": 28,
     "metadata": {},
     "output_type": "execute_result"
    }
   ],
   "source": [
    "power(param_dict['base'], param_dict['exp'])"
   ]
  },
  {
   "cell_type": "markdown",
   "metadata": {
    "ExecuteTime": {
     "end_time": "2018-09-23T17:41:52.740088Z",
     "start_time": "2018-09-23T17:41:52.735088Z"
    }
   },
   "source": [
    "Keyword parameter expansion"
   ]
  },
  {
   "cell_type": "code",
   "execution_count": 29,
   "metadata": {
    "ExecuteTime": {
     "end_time": "2018-09-26T17:49:20.157667Z",
     "start_time": "2018-09-26T17:49:20.150525Z"
    }
   },
   "outputs": [
    {
     "data": {
      "text/plain": [
       "1024"
      ]
     },
     "execution_count": 29,
     "metadata": {},
     "output_type": "execute_result"
    }
   ],
   "source": [
    "power(**param_dict)"
   ]
  },
  {
   "cell_type": "markdown",
   "metadata": {},
   "source": [
    "### Variadic Functions\n",
    "\n",
    "Functions with indefinite arity, or functions that accepts a variable number of arguments. "
   ]
  },
  {
   "cell_type": "code",
   "execution_count": 30,
   "metadata": {
    "ExecuteTime": {
     "end_time": "2018-09-26T17:50:23.911370Z",
     "start_time": "2018-09-26T17:50:23.905692Z"
    }
   },
   "outputs": [],
   "source": [
    "def show_parameters(*args, **kw):\n",
    "    print(f' Positional: {args}')\n",
    "    print(f' Keywords + Value: {kw}')    "
   ]
  },
  {
   "cell_type": "code",
   "execution_count": 31,
   "metadata": {
    "ExecuteTime": {
     "end_time": "2018-09-26T17:50:24.474015Z",
     "start_time": "2018-09-26T17:50:24.469484Z"
    }
   },
   "outputs": [
    {
     "name": "stdout",
     "output_type": "stream",
     "text": [
      " Positional: ()\n",
      " Keywords + Value: {}\n"
     ]
    }
   ],
   "source": [
    "show_parameters()"
   ]
  },
  {
   "cell_type": "code",
   "execution_count": 32,
   "metadata": {
    "ExecuteTime": {
     "end_time": "2018-09-26T17:50:29.722817Z",
     "start_time": "2018-09-26T17:50:29.718808Z"
    }
   },
   "outputs": [
    {
     "name": "stdout",
     "output_type": "stream",
     "text": [
      " Positional: (1, 2, 3)\n",
      " Keywords + Value: {}\n"
     ]
    }
   ],
   "source": [
    "show_parameters(1, 2, 3)"
   ]
  },
  {
   "cell_type": "code",
   "execution_count": 33,
   "metadata": {
    "ExecuteTime": {
     "end_time": "2018-09-26T17:50:36.220953Z",
     "start_time": "2018-09-26T17:50:36.213039Z"
    }
   },
   "outputs": [
    {
     "name": "stdout",
     "output_type": "stream",
     "text": [
      " Positional: ()\n",
      " Keywords + Value: {'a': 1, 'b': 2, 'c': 3}\n"
     ]
    }
   ],
   "source": [
    "show_parameters(a=1, b=2, c=3)"
   ]
  },
  {
   "cell_type": "markdown",
   "metadata": {},
   "source": [
    "A more complex example"
   ]
  },
  {
   "cell_type": "code",
   "execution_count": 34,
   "metadata": {
    "ExecuteTime": {
     "end_time": "2018-09-26T17:50:48.604956Z",
     "start_time": "2018-09-26T17:50:48.600521Z"
    }
   },
   "outputs": [
    {
     "name": "stdout",
     "output_type": "stream",
     "text": [
      " Positional: (1, 'a', [7.0, 3.14], {'z': None})\n",
      " Keywords + Value: {'b': 2, 'c': {'d': 3}, 'e': (5, 6, 7)}\n"
     ]
    }
   ],
   "source": [
    "show_parameters(1, \"a\", [7.0, 3.14], {\"z\":None}, b=2, c={'d': 3}, e=(5,6,7))"
   ]
  },
  {
   "cell_type": "markdown",
   "metadata": {},
   "source": [
    "Combining *parameter expansion* with *variadic functions*"
   ]
  },
  {
   "cell_type": "code",
   "execution_count": 35,
   "metadata": {
    "ExecuteTime": {
     "end_time": "2018-09-26T17:51:31.923396Z",
     "start_time": "2018-09-26T17:51:31.917873Z"
    }
   },
   "outputs": [],
   "source": [
    "def add_multiple(*args, **kw):\n",
    "    result = 0\n",
    "    for i in args:\n",
    "        result += i\n",
    "    for i in kw.values():\n",
    "        result += i\n",
    "    return result"
   ]
  },
  {
   "cell_type": "code",
   "execution_count": 37,
   "metadata": {
    "ExecuteTime": {
     "end_time": "2018-09-26T17:51:48.081308Z",
     "start_time": "2018-09-26T17:51:48.072933Z"
    }
   },
   "outputs": [
    {
     "data": {
      "text/plain": [
       "11.85987265"
      ]
     },
     "execution_count": 37,
     "metadata": {},
     "output_type": "execute_result"
    }
   ],
   "source": [
    "add_multiple(1, 2, 3, pi=3.14159265, e=2.71828)"
   ]
  },
  {
   "cell_type": "markdown",
   "metadata": {},
   "source": [
    "### Nested Functions"
   ]
  },
  {
   "cell_type": "code",
   "execution_count": 39,
   "metadata": {
    "ExecuteTime": {
     "end_time": "2018-09-26T17:52:23.313950Z",
     "start_time": "2018-09-26T17:52:23.309419Z"
    }
   },
   "outputs": [],
   "source": [
    "def payment_factory(base_salary):\n",
    "    def pay_to_role(bonus):\n",
    "        return base_salary + bonus\n",
    "    return pay_to_role"
   ]
  },
  {
   "cell_type": "code",
   "execution_count": 40,
   "metadata": {
    "ExecuteTime": {
     "end_time": "2018-09-26T17:52:23.572175Z",
     "start_time": "2018-09-26T17:52:23.568091Z"
    }
   },
   "outputs": [],
   "source": [
    "pay_employee = payment_factory(1000)\n",
    "pay_manager = payment_factory(1500)\n",
    "pay_alice = pay_employee(bonus=200)\n",
    "pay_bob = pay_employee(bonus=150)\n",
    "pay_charles = pay_manager(bonus=100)"
   ]
  },
  {
   "cell_type": "code",
   "execution_count": 42,
   "metadata": {
    "ExecuteTime": {
     "end_time": "2018-09-26T17:52:41.606289Z",
     "start_time": "2018-09-26T17:52:41.596189Z"
    }
   },
   "outputs": [
    {
     "data": {
      "text/plain": [
       "(1200, 1150, 1600)"
      ]
     },
     "execution_count": 42,
     "metadata": {},
     "output_type": "execute_result"
    }
   ],
   "source": [
    "pay_alice, pay_bob, pay_charles"
   ]
  },
  {
   "cell_type": "markdown",
   "metadata": {},
   "source": [
    "# Modules"
   ]
  },
  {
   "cell_type": "code",
   "execution_count": 43,
   "metadata": {
    "ExecuteTime": {
     "end_time": "2018-09-26T17:53:05.089685Z",
     "start_time": "2018-09-26T17:53:05.081406Z"
    }
   },
   "outputs": [
    {
     "name": "stdout",
     "output_type": "stream",
     "text": [
      "Writing crazy_adder.py\n"
     ]
    }
   ],
   "source": [
    "%%writefile crazy_adder.py\n",
    "\n",
    "some_module_level_variable = 42\n",
    "\n",
    "_something_internal = -1\n",
    "\n",
    "def add_multiple(*args, **kw):\n",
    "    result = 0\n",
    "    for i in args:\n",
    "        result += i\n",
    "    for i in kw.values():\n",
    "        result += i\n",
    "    return result\n"
   ]
  },
  {
   "cell_type": "code",
   "execution_count": 44,
   "metadata": {
    "ExecuteTime": {
     "end_time": "2018-09-26T17:53:24.126845Z",
     "start_time": "2018-09-26T17:53:23.986782Z"
    }
   },
   "outputs": [
    {
     "name": "stdout",
     "output_type": "stream",
     "text": [
      "Functional.ipynb   Namespaces.ipynb   \u001b[34m__pycache__\u001b[m\u001b[m\r\n",
      "Fundamentals.ipynb OO.ipynb           crazy_adder.py\r\n",
      "LICENSE            Untitled.ipynb     \u001b[34mvenv\u001b[m\u001b[m\r\n"
     ]
    }
   ],
   "source": [
    "!ls"
   ]
  },
  {
   "cell_type": "markdown",
   "metadata": {},
   "source": [
    "## Module import"
   ]
  },
  {
   "cell_type": "code",
   "execution_count": 45,
   "metadata": {
    "ExecuteTime": {
     "end_time": "2018-09-26T17:53:33.940520Z",
     "start_time": "2018-09-26T17:53:33.933297Z"
    }
   },
   "outputs": [],
   "source": [
    "import crazy_adder"
   ]
  },
  {
   "cell_type": "code",
   "execution_count": 46,
   "metadata": {
    "ExecuteTime": {
     "end_time": "2018-09-26T17:53:35.017016Z",
     "start_time": "2018-09-26T17:53:35.011062Z"
    }
   },
   "outputs": [
    {
     "data": {
      "text/plain": [
       "['__builtins__',\n",
       " '__cached__',\n",
       " '__doc__',\n",
       " '__file__',\n",
       " '__loader__',\n",
       " '__name__',\n",
       " '__package__',\n",
       " '__spec__',\n",
       " '_something_internal',\n",
       " 'add_multiple',\n",
       " 'some_module_level_variable']"
      ]
     },
     "execution_count": 46,
     "metadata": {},
     "output_type": "execute_result"
    }
   ],
   "source": [
    "dir(crazy_adder)"
   ]
  },
  {
   "cell_type": "code",
   "execution_count": 47,
   "metadata": {
    "ExecuteTime": {
     "end_time": "2018-09-26T17:54:02.899950Z",
     "start_time": "2018-09-26T17:54:02.893067Z"
    }
   },
   "outputs": [
    {
     "data": {
      "text/plain": [
       "1200"
      ]
     },
     "execution_count": 47,
     "metadata": {},
     "output_type": "execute_result"
    }
   ],
   "source": [
    "crazy_adder.add_multiple(salary=1000,bonus=200)"
   ]
  },
  {
   "cell_type": "markdown",
   "metadata": {},
   "source": [
    "## Import object from Module"
   ]
  },
  {
   "cell_type": "code",
   "execution_count": 48,
   "metadata": {
    "ExecuteTime": {
     "end_time": "2018-09-26T17:54:19.704526Z",
     "start_time": "2018-09-26T17:54:19.699233Z"
    }
   },
   "outputs": [],
   "source": [
    "from crazy_adder import add_multiple"
   ]
  },
  {
   "cell_type": "code",
   "execution_count": 49,
   "metadata": {
    "ExecuteTime": {
     "end_time": "2018-09-26T17:54:20.639576Z",
     "start_time": "2018-09-26T17:54:20.633415Z"
    }
   },
   "outputs": [
    {
     "data": {
      "text/plain": [
       "1200"
      ]
     },
     "execution_count": 49,
     "metadata": {},
     "output_type": "execute_result"
    }
   ],
   "source": [
    "add_multiple(salary=1000,bonus=200)"
   ]
  },
  {
   "cell_type": "code",
   "execution_count": 50,
   "metadata": {
    "ExecuteTime": {
     "end_time": "2018-09-26T17:54:41.299004Z",
     "start_time": "2018-09-26T17:54:41.287771Z"
    }
   },
   "outputs": [
    {
     "data": {
      "text/plain": [
       "9.5"
      ]
     },
     "execution_count": 50,
     "metadata": {},
     "output_type": "execute_result"
    }
   ],
   "source": [
    "from crazy_adder import add_multiple as am2\n",
    "am2(sugar=5, milk=0.5, eggs=4)"
   ]
  },
  {
   "cell_type": "code",
   "execution_count": 53,
   "metadata": {
    "ExecuteTime": {
     "end_time": "2018-09-26T17:55:12.586009Z",
     "start_time": "2018-09-26T17:55:12.583374Z"
    }
   },
   "outputs": [],
   "source": [
    "from crazy_adder import *"
   ]
  },
  {
   "cell_type": "code",
   "execution_count": 54,
   "metadata": {
    "ExecuteTime": {
     "end_time": "2018-09-26T17:55:13.011312Z",
     "start_time": "2018-09-26T17:55:13.007713Z"
    }
   },
   "outputs": [
    {
     "data": {
      "text/plain": [
       "42"
      ]
     },
     "execution_count": 54,
     "metadata": {},
     "output_type": "execute_result"
    }
   ],
   "source": [
    "some_module_level_variable"
   ]
  },
  {
   "cell_type": "code",
   "execution_count": 55,
   "metadata": {
    "ExecuteTime": {
     "end_time": "2018-09-26T17:55:13.567968Z",
     "start_time": "2018-09-26T17:55:13.562427Z"
    }
   },
   "outputs": [],
   "source": [
    "some_module_level_variable = 0"
   ]
  },
  {
   "cell_type": "code",
   "execution_count": 56,
   "metadata": {
    "ExecuteTime": {
     "end_time": "2018-09-26T17:55:15.608479Z",
     "start_time": "2018-09-26T17:55:15.602978Z"
    }
   },
   "outputs": [
    {
     "data": {
      "text/plain": [
       "42"
      ]
     },
     "execution_count": 56,
     "metadata": {},
     "output_type": "execute_result"
    }
   ],
   "source": [
    "crazy_adder.some_module_level_variable"
   ]
  },
  {
   "cell_type": "code",
   "execution_count": 57,
   "metadata": {
    "ExecuteTime": {
     "end_time": "2018-09-26T17:55:15.747216Z",
     "start_time": "2018-09-26T17:55:15.739385Z"
    }
   },
   "outputs": [
    {
     "data": {
      "text/plain": [
       "0"
      ]
     },
     "execution_count": 57,
     "metadata": {},
     "output_type": "execute_result"
    }
   ],
   "source": [
    "some_module_level_variable"
   ]
  },
  {
   "cell_type": "code",
   "execution_count": 58,
   "metadata": {
    "ExecuteTime": {
     "end_time": "2018-09-26T17:55:16.133706Z",
     "start_time": "2018-09-26T17:55:15.885799Z"
    }
   },
   "outputs": [
    {
     "ename": "NameError",
     "evalue": "name '_something_internal' is not defined",
     "output_type": "error",
     "traceback": [
      "\u001b[0;31m---------------------------------------------------------------------------\u001b[0m",
      "\u001b[0;31mNameError\u001b[0m                                 Traceback (most recent call last)",
      "\u001b[0;32m<ipython-input-58-b0789e757628>\u001b[0m in \u001b[0;36m<module>\u001b[0;34m()\u001b[0m\n\u001b[0;32m----> 1\u001b[0;31m \u001b[0m_something_internal\u001b[0m\u001b[0;34m\u001b[0m\u001b[0m\n\u001b[0m",
      "\u001b[0;31mNameError\u001b[0m: name '_something_internal' is not defined"
     ]
    }
   ],
   "source": [
    "_something_internal"
   ]
  },
  {
   "cell_type": "code",
   "execution_count": 59,
   "metadata": {
    "ExecuteTime": {
     "end_time": "2018-09-26T17:55:23.408974Z",
     "start_time": "2018-09-26T17:55:23.401153Z"
    }
   },
   "outputs": [
    {
     "data": {
      "text/plain": [
       "-1"
      ]
     },
     "execution_count": 59,
     "metadata": {},
     "output_type": "execute_result"
    }
   ],
   "source": [
    "crazy_adder._something_internal"
   ]
  },
  {
   "cell_type": "markdown",
   "metadata": {},
   "source": [
    "## Modules are objects"
   ]
  },
  {
   "cell_type": "code",
   "execution_count": 60,
   "metadata": {
    "ExecuteTime": {
     "end_time": "2018-09-26T17:55:24.093860Z",
     "start_time": "2018-09-26T17:55:24.088066Z"
    }
   },
   "outputs": [
    {
     "data": {
      "text/plain": [
       "['__builtins__',\n",
       " '__cached__',\n",
       " '__doc__',\n",
       " '__file__',\n",
       " '__loader__',\n",
       " '__name__',\n",
       " '__package__',\n",
       " '__spec__',\n",
       " '_something_internal',\n",
       " 'add_multiple',\n",
       " 'some_module_level_variable']"
      ]
     },
     "execution_count": 60,
     "metadata": {},
     "output_type": "execute_result"
    }
   ],
   "source": [
    "dir(crazy_adder)"
   ]
  },
  {
   "cell_type": "code",
   "execution_count": 61,
   "metadata": {
    "ExecuteTime": {
     "end_time": "2018-09-26T17:55:24.884272Z",
     "start_time": "2018-09-26T17:55:24.877122Z"
    }
   },
   "outputs": [
    {
     "data": {
      "text/plain": [
       "'crazy_adder'"
      ]
     },
     "execution_count": 61,
     "metadata": {},
     "output_type": "execute_result"
    }
   ],
   "source": [
    "crazy_adder.__name__"
   ]
  },
  {
   "cell_type": "markdown",
   "metadata": {},
   "source": [
    "### Module reloading"
   ]
  },
  {
   "cell_type": "code",
   "execution_count": 62,
   "metadata": {
    "ExecuteTime": {
     "end_time": "2018-09-26T17:55:32.070573Z",
     "start_time": "2018-09-26T17:55:32.062114Z"
    }
   },
   "outputs": [
    {
     "data": {
      "text/plain": [
       "<module 'crazy_adder' from '/Users/rodsenra/r/projects/python_course/crazy_adder.py'>"
      ]
     },
     "execution_count": 62,
     "metadata": {},
     "output_type": "execute_result"
    }
   ],
   "source": [
    "from importlib import reload\n",
    "reload(crazy_adder)"
   ]
  },
  {
   "cell_type": "markdown",
   "metadata": {},
   "source": [
    "### Where do modules live?"
   ]
  },
  {
   "cell_type": "code",
   "execution_count": 63,
   "metadata": {
    "ExecuteTime": {
     "end_time": "2018-09-26T17:55:39.005648Z",
     "start_time": "2018-09-26T17:55:38.999952Z"
    }
   },
   "outputs": [
    {
     "data": {
      "text/plain": [
       "692"
      ]
     },
     "execution_count": 63,
     "metadata": {},
     "output_type": "execute_result"
    }
   ],
   "source": [
    "import sys\n",
    "len(sys.modules)"
   ]
  },
  {
   "cell_type": "code",
   "execution_count": 64,
   "metadata": {
    "ExecuteTime": {
     "end_time": "2018-09-26T17:55:39.167720Z",
     "start_time": "2018-09-26T17:55:39.162413Z"
    }
   },
   "outputs": [
    {
     "data": {
      "text/plain": [
       "dict"
      ]
     },
     "execution_count": 64,
     "metadata": {},
     "output_type": "execute_result"
    }
   ],
   "source": [
    "type(sys.modules)"
   ]
  },
  {
   "cell_type": "code",
   "execution_count": 65,
   "metadata": {
    "ExecuteTime": {
     "end_time": "2018-09-26T17:55:39.810306Z",
     "start_time": "2018-09-26T17:55:39.805376Z"
    }
   },
   "outputs": [
    {
     "data": {
      "text/plain": [
       "<module 'crazy_adder' from '/Users/rodsenra/r/projects/python_course/crazy_adder.py'>"
      ]
     },
     "execution_count": 65,
     "metadata": {},
     "output_type": "execute_result"
    }
   ],
   "source": [
    "sys.modules['crazy_adder']"
   ]
  },
  {
   "cell_type": "markdown",
   "metadata": {},
   "source": [
    "# Packages"
   ]
  },
  {
   "cell_type": "code",
   "execution_count": 66,
   "metadata": {
    "ExecuteTime": {
     "end_time": "2018-09-26T17:56:29.488996Z",
     "start_time": "2018-09-26T17:56:29.482851Z"
    }
   },
   "outputs": [
    {
     "name": "stdout",
     "output_type": "stream",
     "text": [
      "Writing nested_module.py\n"
     ]
    }
   ],
   "source": [
    "%%writefile nested_module.py\n",
    "a = 1\n",
    "def factorial(n):\n",
    "    return n*factorial(n-1) if n>0 else 1"
   ]
  },
  {
   "cell_type": "code",
   "execution_count": 67,
   "metadata": {
    "ExecuteTime": {
     "end_time": "2018-09-26T17:56:30.543433Z",
     "start_time": "2018-09-26T17:56:30.017225Z"
    }
   },
   "outputs": [],
   "source": [
    "!mkdir my_package\n",
    "!touch __init__.py\n",
    "!mv __init__.py my_package\n",
    "!mv nested_module.py my_package"
   ]
  },
  {
   "cell_type": "code",
   "execution_count": 68,
   "metadata": {
    "ExecuteTime": {
     "end_time": "2018-09-26T17:56:32.101251Z",
     "start_time": "2018-09-26T17:56:31.959822Z"
    }
   },
   "outputs": [
    {
     "name": "stdout",
     "output_type": "stream",
     "text": [
      "total 8\r\n",
      "drwxr-xr-x   4 rodsenra  staff  128 Sep 26 13:56 \u001b[34m.\u001b[m\u001b[m\r\n",
      "drwxr-xr-x  15 rodsenra  staff  480 Sep 26 13:56 \u001b[34m..\u001b[m\u001b[m\r\n",
      "-rw-r--r--   1 rodsenra  staff    0 Sep 26 13:56 __init__.py\r\n",
      "-rw-r--r--   1 rodsenra  staff   65 Sep 26 13:56 nested_module.py\r\n"
     ]
    }
   ],
   "source": [
    "!ls -laR my_package/"
   ]
  },
  {
   "cell_type": "code",
   "execution_count": 69,
   "metadata": {
    "ExecuteTime": {
     "end_time": "2018-09-26T17:56:32.816384Z",
     "start_time": "2018-09-26T17:56:32.809959Z"
    }
   },
   "outputs": [],
   "source": [
    "import my_package"
   ]
  },
  {
   "cell_type": "code",
   "execution_count": 70,
   "metadata": {
    "ExecuteTime": {
     "end_time": "2018-09-26T17:56:43.801225Z",
     "start_time": "2018-09-26T17:56:43.794487Z"
    }
   },
   "outputs": [
    {
     "data": {
      "text/plain": [
       "<module 'my_package' from '/Users/rodsenra/r/projects/python_course/my_package/__init__.py'>"
      ]
     },
     "execution_count": 70,
     "metadata": {},
     "output_type": "execute_result"
    }
   ],
   "source": [
    "my_package"
   ]
  },
  {
   "cell_type": "code",
   "execution_count": 71,
   "metadata": {
    "ExecuteTime": {
     "end_time": "2018-09-26T17:56:44.401339Z",
     "start_time": "2018-09-26T17:56:44.396967Z"
    }
   },
   "outputs": [],
   "source": [
    "from my_package import nested_module"
   ]
  },
  {
   "cell_type": "code",
   "execution_count": 72,
   "metadata": {
    "ExecuteTime": {
     "end_time": "2018-09-26T17:56:45.074114Z",
     "start_time": "2018-09-26T17:56:45.069103Z"
    }
   },
   "outputs": [
    {
     "data": {
      "text/plain": [
       "<module 'my_package.nested_module' from '/Users/rodsenra/r/projects/python_course/my_package/nested_module.py'>"
      ]
     },
     "execution_count": 72,
     "metadata": {},
     "output_type": "execute_result"
    }
   ],
   "source": [
    "nested_module"
   ]
  },
  {
   "cell_type": "code",
   "execution_count": 73,
   "metadata": {
    "ExecuteTime": {
     "end_time": "2018-09-26T17:57:13.628286Z",
     "start_time": "2018-09-26T17:57:13.624138Z"
    }
   },
   "outputs": [],
   "source": [
    "from my_package.nested_module import factorial"
   ]
  },
  {
   "cell_type": "code",
   "execution_count": 74,
   "metadata": {
    "ExecuteTime": {
     "end_time": "2018-09-26T17:57:14.719418Z",
     "start_time": "2018-09-26T17:57:14.715036Z"
    }
   },
   "outputs": [
    {
     "data": {
      "text/plain": [
       "6"
      ]
     },
     "execution_count": 74,
     "metadata": {},
     "output_type": "execute_result"
    }
   ],
   "source": [
    "factorial(3)"
   ]
  },
  {
   "cell_type": "code",
   "execution_count": 75,
   "metadata": {
    "ExecuteTime": {
     "end_time": "2018-09-26T17:57:16.923942Z",
     "start_time": "2018-09-26T17:57:16.916971Z"
    }
   },
   "outputs": [
    {
     "data": {
      "text/plain": [
       "93326215443944152681699238856266700490715968264381621468592963895217599993229915608941463976156518286253697920827223758251185210916864000000000000000000000000"
      ]
     },
     "execution_count": 75,
     "metadata": {},
     "output_type": "execute_result"
    }
   ],
   "source": [
    "factorial(100)"
   ]
  },
  {
   "cell_type": "markdown",
   "metadata": {},
   "source": [
    "# Exercise\n",
    "\n",
    "Implement a function that returns the fibonacci sequence with length == n.\n",
    "For example, for n=5, it should return: 1,1,2,3,8\n",
    "\n",
    "The fibonacci sequence is defined by: \n",
    " * fib(0) = 1\n",
    " * fib(1) = 1\n",
    " * fib(n) = fib(n-1) + fib(n-2)"
   ]
  },
  {
   "cell_type": "code",
   "execution_count": null,
   "metadata": {},
   "outputs": [],
   "source": []
  }
 ],
 "metadata": {
  "hide_input": false,
  "kernelspec": {
   "display_name": "Python 3",
   "language": "python",
   "name": "python3"
  },
  "language_info": {
   "codemirror_mode": {
    "name": "ipython",
    "version": 3
   },
   "file_extension": ".py",
   "mimetype": "text/x-python",
   "name": "python",
   "nbconvert_exporter": "python",
   "pygments_lexer": "ipython3",
   "version": "3.7.0"
  },
  "toc": {
   "colors": {
    "hover_highlight": "#DAA520",
    "navigate_num": "#000000",
    "navigate_text": "#333333",
    "running_highlight": "#FF0000",
    "selected_highlight": "#FFD700",
    "sidebar_border": "#EEEEEE",
    "wrapper_background": "#FFFFFF"
   },
   "moveMenuLeft": true,
   "nav_menu": {
    "height": "183.003px",
    "width": "510.017px"
   },
   "navigate_menu": true,
   "number_sections": true,
   "sideBar": true,
   "threshold": 4,
   "toc_cell": false,
   "toc_section_display": "block",
   "toc_window_display": false,
   "widenNotebook": false
  }
 },
 "nbformat": 4,
 "nbformat_minor": 2
}
