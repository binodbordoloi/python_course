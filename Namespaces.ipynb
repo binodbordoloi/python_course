{
 "cells": [
  {
   "cell_type": "markdown",
   "metadata": {},
   "source": [
    "# Namespaces: Functions, Modules and Packages\n",
    "\n",
    "In the second part we will learn in depth about namespaces, used to build modules, packages, functions.\n",
    "In this section we will also explore the flexible parameter passing mechanism available in Python.\n",
    "\n",
    "Methods and classes will be explored in the next part about Object Oriented Programming."
   ]
  },
  {
   "cell_type": "markdown",
   "metadata": {},
   "source": [
    "# Functions"
   ]
  },
  {
   "cell_type": "markdown",
   "metadata": {},
   "source": [
    "### Defining functions"
   ]
  },
  {
   "cell_type": "code",
   "execution_count": 1,
   "metadata": {
    "ExecuteTime": {
     "end_time": "2018-09-25T01:14:22.517113Z",
     "start_time": "2018-09-25T01:14:22.513874Z"
    }
   },
   "outputs": [],
   "source": [
    "def simplest():\n",
    "    pass"
   ]
  },
  {
   "cell_type": "code",
   "execution_count": 2,
   "metadata": {
    "ExecuteTime": {
     "end_time": "2018-09-25T01:14:22.531275Z",
     "start_time": "2018-09-25T01:14:22.522189Z"
    }
   },
   "outputs": [
    {
     "data": {
      "text/plain": [
       "<function __main__.simplest()>"
      ]
     },
     "execution_count": 2,
     "metadata": {},
     "output_type": "execute_result"
    }
   ],
   "source": [
    "simplest"
   ]
  },
  {
   "cell_type": "code",
   "execution_count": 3,
   "metadata": {
    "ExecuteTime": {
     "end_time": "2018-09-25T01:14:22.535967Z",
     "start_time": "2018-09-25T01:14:22.533328Z"
    }
   },
   "outputs": [],
   "source": [
    "simplest()"
   ]
  },
  {
   "cell_type": "code",
   "execution_count": 4,
   "metadata": {
    "ExecuteTime": {
     "end_time": "2018-09-25T01:14:22.540178Z",
     "start_time": "2018-09-25T01:14:22.537927Z"
    }
   },
   "outputs": [],
   "source": [
    "simplest_anonymous = lambda: None"
   ]
  },
  {
   "cell_type": "code",
   "execution_count": 5,
   "metadata": {
    "ExecuteTime": {
     "end_time": "2018-09-25T01:14:22.546461Z",
     "start_time": "2018-09-25T01:14:22.542536Z"
    }
   },
   "outputs": [
    {
     "data": {
      "text/plain": [
       "<function __main__.<lambda>()>"
      ]
     },
     "execution_count": 5,
     "metadata": {},
     "output_type": "execute_result"
    }
   ],
   "source": [
    "simplest_anonymous"
   ]
  },
  {
   "cell_type": "code",
   "execution_count": 6,
   "metadata": {
    "ExecuteTime": {
     "end_time": "2018-09-25T01:14:22.551327Z",
     "start_time": "2018-09-25T01:14:22.548518Z"
    }
   },
   "outputs": [],
   "source": [
    "simplest_anonymous()"
   ]
  },
  {
   "cell_type": "markdown",
   "metadata": {},
   "source": [
    "### Dynamic Typing and Polymorphism"
   ]
  },
  {
   "cell_type": "code",
   "execution_count": 7,
   "metadata": {
    "ExecuteTime": {
     "end_time": "2018-09-25T01:14:22.556384Z",
     "start_time": "2018-09-25T01:14:22.553686Z"
    }
   },
   "outputs": [],
   "source": [
    "def add2(a, b):\n",
    "    return a + b"
   ]
  },
  {
   "cell_type": "code",
   "execution_count": 8,
   "metadata": {
    "ExecuteTime": {
     "end_time": "2018-09-25T01:14:22.565610Z",
     "start_time": "2018-09-25T01:14:22.561528Z"
    }
   },
   "outputs": [
    {
     "data": {
      "text/plain": [
       "8"
      ]
     },
     "execution_count": 8,
     "metadata": {},
     "output_type": "execute_result"
    }
   ],
   "source": [
    "add2(3, 5)"
   ]
  },
  {
   "cell_type": "code",
   "execution_count": 9,
   "metadata": {
    "ExecuteTime": {
     "end_time": "2018-09-25T01:14:22.573547Z",
     "start_time": "2018-09-25T01:14:22.569830Z"
    }
   },
   "outputs": [
    {
     "data": {
      "text/plain": [
       "8.0"
      ]
     },
     "execution_count": 9,
     "metadata": {},
     "output_type": "execute_result"
    }
   ],
   "source": [
    "add2(3, 5.0)"
   ]
  },
  {
   "cell_type": "code",
   "execution_count": 10,
   "metadata": {
    "ExecuteTime": {
     "end_time": "2018-09-25T01:14:22.580810Z",
     "start_time": "2018-09-25T01:14:22.576454Z"
    }
   },
   "outputs": [
    {
     "data": {
      "text/plain": [
       "(8+2j)"
      ]
     },
     "execution_count": 10,
     "metadata": {},
     "output_type": "execute_result"
    }
   ],
   "source": [
    "add2(3-2j, 5+4j)"
   ]
  },
  {
   "cell_type": "code",
   "execution_count": 11,
   "metadata": {
    "ExecuteTime": {
     "end_time": "2018-09-25T01:14:22.601851Z",
     "start_time": "2018-09-25T01:14:22.588988Z"
    }
   },
   "outputs": [
    {
     "data": {
      "text/plain": [
       "'concat'"
      ]
     },
     "execution_count": 11,
     "metadata": {},
     "output_type": "execute_result"
    }
   ],
   "source": [
    "add2(\"con\", \"cat\")"
   ]
  },
  {
   "cell_type": "code",
   "execution_count": 12,
   "metadata": {
    "ExecuteTime": {
     "end_time": "2018-09-25T01:14:22.610923Z",
     "start_time": "2018-09-25T01:14:22.604595Z"
    }
   },
   "outputs": [
    {
     "data": {
      "text/plain": [
       "[1, 2, 'a', 'b']"
      ]
     },
     "execution_count": 12,
     "metadata": {},
     "output_type": "execute_result"
    }
   ],
   "source": [
    "add2([1, 2], [\"a\", 'b'])"
   ]
  },
  {
   "cell_type": "markdown",
   "metadata": {},
   "source": [
    "### Parameter Passing"
   ]
  },
  {
   "cell_type": "code",
   "execution_count": 13,
   "metadata": {
    "ExecuteTime": {
     "end_time": "2018-09-25T01:14:22.615685Z",
     "start_time": "2018-09-25T01:14:22.613190Z"
    }
   },
   "outputs": [],
   "source": [
    "x = (3, 5)"
   ]
  },
  {
   "cell_type": "code",
   "execution_count": 14,
   "metadata": {
    "ExecuteTime": {
     "end_time": "2018-09-25T01:14:22.624001Z",
     "start_time": "2018-09-25T01:14:22.617955Z"
    }
   },
   "outputs": [
    {
     "data": {
      "text/plain": [
       "8"
      ]
     },
     "execution_count": 14,
     "metadata": {},
     "output_type": "execute_result"
    }
   ],
   "source": [
    "add2(x[0], x[1])"
   ]
  },
  {
   "cell_type": "markdown",
   "metadata": {
    "ExecuteTime": {
     "end_time": "2018-09-23T17:41:25.726862Z",
     "start_time": "2018-09-23T17:41:25.721992Z"
    }
   },
   "source": [
    "Positional parameter expansion"
   ]
  },
  {
   "cell_type": "code",
   "execution_count": 15,
   "metadata": {
    "ExecuteTime": {
     "end_time": "2018-09-25T01:14:22.630984Z",
     "start_time": "2018-09-25T01:14:22.626486Z"
    }
   },
   "outputs": [
    {
     "data": {
      "text/plain": [
       "8"
      ]
     },
     "execution_count": 15,
     "metadata": {},
     "output_type": "execute_result"
    }
   ],
   "source": [
    "add2(*x)"
   ]
  },
  {
   "cell_type": "code",
   "execution_count": 16,
   "metadata": {
    "ExecuteTime": {
     "end_time": "2018-09-25T01:14:22.635817Z",
     "start_time": "2018-09-25T01:14:22.633313Z"
    }
   },
   "outputs": [],
   "source": [
    "def power(base, exp=0):\n",
    "    \"This function computes the repeated multiplication of 'base' by itself, repeating 'exp' times.\"\n",
    "    return base**exp"
   ]
  },
  {
   "cell_type": "code",
   "execution_count": 17,
   "metadata": {
    "ExecuteTime": {
     "end_time": "2018-09-25T01:14:22.643147Z",
     "start_time": "2018-09-25T01:14:22.638571Z"
    }
   },
   "outputs": [
    {
     "name": "stdout",
     "output_type": "stream",
     "text": [
      "Help on function power in module __main__:\n",
      "\n",
      "power(base, exp=0)\n",
      "    This function computes the repeated multiplication of 'base' by itself, repeating 'exp' times.\n",
      "\n"
     ]
    }
   ],
   "source": [
    "help(power)"
   ]
  },
  {
   "cell_type": "code",
   "execution_count": 18,
   "metadata": {
    "ExecuteTime": {
     "end_time": "2018-09-25T01:14:22.650944Z",
     "start_time": "2018-09-25T01:14:22.645352Z"
    }
   },
   "outputs": [
    {
     "data": {
      "text/plain": [
       "1"
      ]
     },
     "execution_count": 18,
     "metadata": {},
     "output_type": "execute_result"
    }
   ],
   "source": [
    "power(2)"
   ]
  },
  {
   "cell_type": "code",
   "execution_count": 19,
   "metadata": {
    "ExecuteTime": {
     "end_time": "2018-09-25T01:14:22.657992Z",
     "start_time": "2018-09-25T01:14:22.653261Z"
    }
   },
   "outputs": [
    {
     "data": {
      "text/plain": [
       "32"
      ]
     },
     "execution_count": 19,
     "metadata": {},
     "output_type": "execute_result"
    }
   ],
   "source": [
    "power(2, 5)"
   ]
  },
  {
   "cell_type": "code",
   "execution_count": 20,
   "metadata": {
    "ExecuteTime": {
     "end_time": "2018-09-25T01:14:22.664359Z",
     "start_time": "2018-09-25T01:14:22.659998Z"
    }
   },
   "outputs": [
    {
     "data": {
      "text/plain": [
       "32"
      ]
     },
     "execution_count": 20,
     "metadata": {},
     "output_type": "execute_result"
    }
   ],
   "source": [
    "power(base=2, exp=5)"
   ]
  },
  {
   "cell_type": "code",
   "execution_count": 21,
   "metadata": {
    "ExecuteTime": {
     "end_time": "2018-09-25T01:14:22.671153Z",
     "start_time": "2018-09-25T01:14:22.666540Z"
    }
   },
   "outputs": [
    {
     "data": {
      "text/plain": [
       "32"
      ]
     },
     "execution_count": 21,
     "metadata": {},
     "output_type": "execute_result"
    }
   ],
   "source": [
    "power(2, exp=5)"
   ]
  },
  {
   "cell_type": "markdown",
   "metadata": {},
   "source": [
    "Not everything is possbile though! Do you know why?"
   ]
  },
  {
   "cell_type": "code",
   "execution_count": 22,
   "metadata": {
    "ExecuteTime": {
     "end_time": "2018-09-25T01:14:22.677953Z",
     "start_time": "2018-09-25T01:14:22.673399Z"
    }
   },
   "outputs": [
    {
     "ename": "SyntaxError",
     "evalue": "positional argument follows keyword argument (<ipython-input-22-86322f73a9d6>, line 1)",
     "output_type": "error",
     "traceback": [
      "\u001b[0;36m  File \u001b[0;32m\"<ipython-input-22-86322f73a9d6>\"\u001b[0;36m, line \u001b[0;32m1\u001b[0m\n\u001b[0;31m    power(base=2, 5)\u001b[0m\n\u001b[0m                 ^\u001b[0m\n\u001b[0;31mSyntaxError\u001b[0m\u001b[0;31m:\u001b[0m positional argument follows keyword argument\n"
     ]
    }
   ],
   "source": [
    "power(base=2, 5)"
   ]
  },
  {
   "cell_type": "code",
   "execution_count": 23,
   "metadata": {
    "ExecuteTime": {
     "end_time": "2018-09-25T01:14:34.616605Z",
     "start_time": "2018-09-25T01:14:34.609500Z"
    }
   },
   "outputs": [
    {
     "name": "stdout",
     "output_type": "stream",
     "text": [
      "The Zen of Python, by Tim Peters\n",
      "\n",
      "Beautiful is better than ugly.\n",
      "Explicit is better than implicit.\n",
      "Simple is better than complex.\n",
      "Complex is better than complicated.\n",
      "Flat is better than nested.\n",
      "Sparse is better than dense.\n",
      "Readability counts.\n",
      "Special cases aren't special enough to break the rules.\n",
      "Although practicality beats purity.\n",
      "Errors should never pass silently.\n",
      "Unless explicitly silenced.\n",
      "In the face of ambiguity, refuse the temptation to guess.\n",
      "There should be one-- and preferably only one --obvious way to do it.\n",
      "Although that way may not be obvious at first unless you're Dutch.\n",
      "Now is better than never.\n",
      "Although never is often better than *right* now.\n",
      "If the implementation is hard to explain, it's a bad idea.\n",
      "If the implementation is easy to explain, it may be a good idea.\n",
      "Namespaces are one honking great idea -- let's do more of those!\n"
     ]
    }
   ],
   "source": [
    "import this"
   ]
  },
  {
   "cell_type": "code",
   "execution_count": 24,
   "metadata": {
    "ExecuteTime": {
     "end_time": "2018-09-25T01:14:34.621966Z",
     "start_time": "2018-09-25T01:14:34.619111Z"
    }
   },
   "outputs": [],
   "source": [
    "param_dict = {'base': 2, 'exp':10}"
   ]
  },
  {
   "cell_type": "code",
   "execution_count": 25,
   "metadata": {
    "ExecuteTime": {
     "end_time": "2018-09-25T01:14:34.629356Z",
     "start_time": "2018-09-25T01:14:34.624522Z"
    }
   },
   "outputs": [
    {
     "data": {
      "text/plain": [
       "1024"
      ]
     },
     "execution_count": 25,
     "metadata": {},
     "output_type": "execute_result"
    }
   ],
   "source": [
    "power(param_dict['base'], param_dict['exp'])"
   ]
  },
  {
   "cell_type": "markdown",
   "metadata": {
    "ExecuteTime": {
     "end_time": "2018-09-23T17:41:52.740088Z",
     "start_time": "2018-09-23T17:41:52.735088Z"
    }
   },
   "source": [
    "Keyword parameter expansion"
   ]
  },
  {
   "cell_type": "code",
   "execution_count": 26,
   "metadata": {
    "ExecuteTime": {
     "end_time": "2018-09-25T01:14:34.637280Z",
     "start_time": "2018-09-25T01:14:34.632261Z"
    }
   },
   "outputs": [
    {
     "data": {
      "text/plain": [
       "1024"
      ]
     },
     "execution_count": 26,
     "metadata": {},
     "output_type": "execute_result"
    }
   ],
   "source": [
    "power(**param_dict)"
   ]
  },
  {
   "cell_type": "markdown",
   "metadata": {},
   "source": [
    "### Variadic Functions\n",
    "\n",
    "Functions with indefinite arity, or functions that accepts a variable number of arguments. "
   ]
  },
  {
   "cell_type": "code",
   "execution_count": 27,
   "metadata": {
    "ExecuteTime": {
     "end_time": "2018-09-25T01:14:34.644539Z",
     "start_time": "2018-09-25T01:14:34.641503Z"
    }
   },
   "outputs": [],
   "source": [
    "def show_parameters(*args, **kw):\n",
    "    print(f' Positional: {args}')\n",
    "    print(f' Keywords + Value: {kw}')    "
   ]
  },
  {
   "cell_type": "code",
   "execution_count": 28,
   "metadata": {
    "ExecuteTime": {
     "end_time": "2018-09-25T01:14:34.654481Z",
     "start_time": "2018-09-25T01:14:34.650743Z"
    }
   },
   "outputs": [
    {
     "name": "stdout",
     "output_type": "stream",
     "text": [
      " Positional: ()\n",
      " Keywords + Value: {}\n"
     ]
    }
   ],
   "source": [
    "show_parameters()"
   ]
  },
  {
   "cell_type": "code",
   "execution_count": 29,
   "metadata": {
    "ExecuteTime": {
     "end_time": "2018-09-25T01:14:34.661084Z",
     "start_time": "2018-09-25T01:14:34.657570Z"
    }
   },
   "outputs": [
    {
     "name": "stdout",
     "output_type": "stream",
     "text": [
      " Positional: (1, 2, 3)\n",
      " Keywords + Value: {}\n"
     ]
    }
   ],
   "source": [
    "show_parameters(1, 2, 3)"
   ]
  },
  {
   "cell_type": "code",
   "execution_count": 30,
   "metadata": {
    "ExecuteTime": {
     "end_time": "2018-09-25T01:14:34.667511Z",
     "start_time": "2018-09-25T01:14:34.663798Z"
    }
   },
   "outputs": [
    {
     "name": "stdout",
     "output_type": "stream",
     "text": [
      " Positional: ()\n",
      " Keywords + Value: {'a': 1, 'b': 2, 'c': 3}\n"
     ]
    }
   ],
   "source": [
    "show_parameters(a=1, b=2, c=3)"
   ]
  },
  {
   "cell_type": "markdown",
   "metadata": {},
   "source": [
    "A more complex example"
   ]
  },
  {
   "cell_type": "code",
   "execution_count": 31,
   "metadata": {
    "ExecuteTime": {
     "end_time": "2018-09-25T01:14:34.674341Z",
     "start_time": "2018-09-25T01:14:34.670070Z"
    }
   },
   "outputs": [
    {
     "name": "stdout",
     "output_type": "stream",
     "text": [
      " Positional: (1, 'a', [7.0, 3.14], {'z': None})\n",
      " Keywords + Value: {'b': 2, 'c': {'d': 3}, 'e': (5, 6, 7)}\n"
     ]
    }
   ],
   "source": [
    "show_parameters(1, \"a\", [7.0, 3.14], {\"z\":None}, b=2, c={'d': 3}, e=(5,6,7))"
   ]
  },
  {
   "cell_type": "markdown",
   "metadata": {},
   "source": [
    "Combining *parameter expansion* with *variadic functions*"
   ]
  },
  {
   "cell_type": "code",
   "execution_count": 32,
   "metadata": {
    "ExecuteTime": {
     "end_time": "2018-09-25T01:14:34.680572Z",
     "start_time": "2018-09-25T01:14:34.676878Z"
    }
   },
   "outputs": [],
   "source": [
    "def add_multiple(*args, **kw):\n",
    "    result = 0\n",
    "    for i in args:\n",
    "        result += i\n",
    "    for i in kw.values():\n",
    "        result += i\n",
    "    return result"
   ]
  },
  {
   "cell_type": "code",
   "execution_count": 33,
   "metadata": {
    "ExecuteTime": {
     "end_time": "2018-09-25T01:14:34.689933Z",
     "start_time": "2018-09-25T01:14:34.685065Z"
    }
   },
   "outputs": [
    {
     "data": {
      "text/plain": [
       "11.85987265"
      ]
     },
     "execution_count": 33,
     "metadata": {},
     "output_type": "execute_result"
    }
   ],
   "source": [
    "add_multiple(1, 2, 3, pi=3.14159265, e=2.71828)"
   ]
  },
  {
   "cell_type": "markdown",
   "metadata": {},
   "source": [
    "### Nested Functions"
   ]
  },
  {
   "cell_type": "code",
   "execution_count": 43,
   "metadata": {
    "ExecuteTime": {
     "end_time": "2018-09-25T01:25:25.398792Z",
     "start_time": "2018-09-25T01:25:25.396149Z"
    }
   },
   "outputs": [],
   "source": [
    "def payment_factory(base_salary):\n",
    "    def pay_to_role(bonus):\n",
    "        return base_salary + bonus\n",
    "    return pay_to_role"
   ]
  },
  {
   "cell_type": "code",
   "execution_count": 46,
   "metadata": {
    "ExecuteTime": {
     "end_time": "2018-09-25T01:28:27.593374Z",
     "start_time": "2018-09-25T01:28:27.590685Z"
    }
   },
   "outputs": [],
   "source": [
    "pay_employee = payment_factory(1000)\n",
    "pay_manager = payment_factory(1500)\n",
    "pay_alice = pay_employee(bonus=200)\n",
    "pay_bob = pay_employee(bonus=150)\n",
    "pay_charles = pay_manager(bonus=100)"
   ]
  },
  {
   "cell_type": "code",
   "execution_count": 47,
   "metadata": {
    "ExecuteTime": {
     "end_time": "2018-09-25T01:28:28.692597Z",
     "start_time": "2018-09-25T01:28:28.688580Z"
    }
   },
   "outputs": [
    {
     "data": {
      "text/plain": [
       "(1200, 1150, 1600)"
      ]
     },
     "execution_count": 47,
     "metadata": {},
     "output_type": "execute_result"
    }
   ],
   "source": [
    "pay_alice, pay_bob, pay_charles"
   ]
  },
  {
   "cell_type": "markdown",
   "metadata": {},
   "source": [
    "# Modules"
   ]
  },
  {
   "cell_type": "code",
   "execution_count": 61,
   "metadata": {
    "ExecuteTime": {
     "end_time": "2018-09-25T10:12:24.589265Z",
     "start_time": "2018-09-25T10:12:24.576650Z"
    }
   },
   "outputs": [
    {
     "name": "stdout",
     "output_type": "stream",
     "text": [
      "Overwriting crazy_adder.py\n"
     ]
    }
   ],
   "source": [
    "%%writefile crazy_adder.py\n",
    "\n",
    "some_module_level_variable = 42\n",
    "\n",
    "_something_internal = -1\n",
    "\n",
    "def add_multiple(*args, **kw):\n",
    "    result = 0\n",
    "    for i in args:\n",
    "        result += i\n",
    "    for i in kw.values():\n",
    "        result += i\n",
    "    return result\n"
   ]
  },
  {
   "cell_type": "code",
   "execution_count": 62,
   "metadata": {
    "ExecuteTime": {
     "end_time": "2018-09-25T10:12:25.629608Z",
     "start_time": "2018-09-25T10:12:25.491865Z"
    }
   },
   "outputs": [
    {
     "name": "stdout",
     "output_type": "stream",
     "text": [
      "Functional.ipynb   LICENSE            OO.ipynb           crazy_adder.py\r\n",
      "Fundamentals.ipynb Namespaces.ipynb   \u001b[34m__pycache__\u001b[m\u001b[m\r\n"
     ]
    }
   ],
   "source": [
    "!ls"
   ]
  },
  {
   "cell_type": "markdown",
   "metadata": {},
   "source": [
    "## Module import"
   ]
  },
  {
   "cell_type": "code",
   "execution_count": 63,
   "metadata": {
    "ExecuteTime": {
     "end_time": "2018-09-25T10:12:26.955251Z",
     "start_time": "2018-09-25T10:12:26.952832Z"
    }
   },
   "outputs": [],
   "source": [
    "import crazy_adder"
   ]
  },
  {
   "cell_type": "code",
   "execution_count": 66,
   "metadata": {
    "ExecuteTime": {
     "end_time": "2018-09-25T10:12:53.799883Z",
     "start_time": "2018-09-25T10:12:53.796057Z"
    }
   },
   "outputs": [
    {
     "data": {
      "text/plain": [
       "['__builtins__',\n",
       " '__cached__',\n",
       " '__doc__',\n",
       " '__file__',\n",
       " '__loader__',\n",
       " '__name__',\n",
       " '__package__',\n",
       " '__spec__',\n",
       " '_something_internal',\n",
       " 'add_multiple',\n",
       " 'some_module_level_variable']"
      ]
     },
     "execution_count": 66,
     "metadata": {},
     "output_type": "execute_result"
    }
   ],
   "source": [
    "dir(crazy_adder)"
   ]
  },
  {
   "cell_type": "code",
   "execution_count": 38,
   "metadata": {
    "ExecuteTime": {
     "end_time": "2018-09-25T01:14:34.871802Z",
     "start_time": "2018-09-25T01:14:34.866672Z"
    }
   },
   "outputs": [
    {
     "data": {
      "text/plain": [
       "1200"
      ]
     },
     "execution_count": 38,
     "metadata": {},
     "output_type": "execute_result"
    }
   ],
   "source": [
    "crazy_adder.add_multiple(salary=1000,bonus=200)"
   ]
  },
  {
   "cell_type": "markdown",
   "metadata": {},
   "source": [
    "## Import object from Module"
   ]
  },
  {
   "cell_type": "code",
   "execution_count": 39,
   "metadata": {
    "ExecuteTime": {
     "end_time": "2018-09-25T01:14:34.877477Z",
     "start_time": "2018-09-25T01:14:34.874542Z"
    }
   },
   "outputs": [],
   "source": [
    "from crazy_adder import add_multiple"
   ]
  },
  {
   "cell_type": "code",
   "execution_count": 40,
   "metadata": {
    "ExecuteTime": {
     "end_time": "2018-09-25T01:14:34.885287Z",
     "start_time": "2018-09-25T01:14:34.880142Z"
    }
   },
   "outputs": [
    {
     "data": {
      "text/plain": [
       "1200"
      ]
     },
     "execution_count": 40,
     "metadata": {},
     "output_type": "execute_result"
    }
   ],
   "source": [
    "add_multiple(salary=1000,bonus=200)"
   ]
  },
  {
   "cell_type": "code",
   "execution_count": 60,
   "metadata": {
    "ExecuteTime": {
     "end_time": "2018-09-25T10:10:58.490193Z",
     "start_time": "2018-09-25T10:10:58.485695Z"
    }
   },
   "outputs": [
    {
     "data": {
      "text/plain": [
       "9.5"
      ]
     },
     "execution_count": 60,
     "metadata": {},
     "output_type": "execute_result"
    }
   ],
   "source": [
    "from crazy_adder import add_multiple as am2\n",
    "am2(sugar=5, milk=0.5, eggs=4)"
   ]
  },
  {
   "cell_type": "code",
   "execution_count": 67,
   "metadata": {
    "ExecuteTime": {
     "end_time": "2018-09-25T10:13:12.698232Z",
     "start_time": "2018-09-25T10:13:12.695845Z"
    }
   },
   "outputs": [],
   "source": [
    "from crazy_adder import *"
   ]
  },
  {
   "cell_type": "code",
   "execution_count": 68,
   "metadata": {
    "ExecuteTime": {
     "end_time": "2018-09-25T10:13:18.852767Z",
     "start_time": "2018-09-25T10:13:18.849286Z"
    }
   },
   "outputs": [
    {
     "data": {
      "text/plain": [
       "42"
      ]
     },
     "execution_count": 68,
     "metadata": {},
     "output_type": "execute_result"
    }
   ],
   "source": [
    "some_module_level_variable"
   ]
  },
  {
   "cell_type": "code",
   "execution_count": 69,
   "metadata": {
    "ExecuteTime": {
     "end_time": "2018-09-25T10:13:39.742032Z",
     "start_time": "2018-09-25T10:13:39.739852Z"
    }
   },
   "outputs": [],
   "source": [
    "some_module_level_variable = 0"
   ]
  },
  {
   "cell_type": "code",
   "execution_count": 70,
   "metadata": {
    "ExecuteTime": {
     "end_time": "2018-09-25T10:13:50.128875Z",
     "start_time": "2018-09-25T10:13:50.124718Z"
    }
   },
   "outputs": [
    {
     "data": {
      "text/plain": [
       "42"
      ]
     },
     "execution_count": 70,
     "metadata": {},
     "output_type": "execute_result"
    }
   ],
   "source": [
    "crazy_adder.some_module_level_variable"
   ]
  },
  {
   "cell_type": "code",
   "execution_count": 71,
   "metadata": {
    "ExecuteTime": {
     "end_time": "2018-09-25T10:13:58.052748Z",
     "start_time": "2018-09-25T10:13:58.049112Z"
    }
   },
   "outputs": [
    {
     "data": {
      "text/plain": [
       "0"
      ]
     },
     "execution_count": 71,
     "metadata": {},
     "output_type": "execute_result"
    }
   ],
   "source": [
    "some_module_level_variable"
   ]
  },
  {
   "cell_type": "code",
   "execution_count": 72,
   "metadata": {
    "ExecuteTime": {
     "end_time": "2018-09-25T10:14:15.812639Z",
     "start_time": "2018-09-25T10:14:15.800369Z"
    }
   },
   "outputs": [
    {
     "ename": "NameError",
     "evalue": "name '_something_internal' is not defined",
     "output_type": "error",
     "traceback": [
      "\u001b[0;31m---------------------------------------------------------------------------\u001b[0m",
      "\u001b[0;31mNameError\u001b[0m                                 Traceback (most recent call last)",
      "\u001b[0;32m<ipython-input-72-b0789e757628>\u001b[0m in \u001b[0;36m<module>\u001b[0;34m()\u001b[0m\n\u001b[0;32m----> 1\u001b[0;31m \u001b[0m_something_internal\u001b[0m\u001b[0;34m\u001b[0m\u001b[0m\n\u001b[0m",
      "\u001b[0;31mNameError\u001b[0m: name '_something_internal' is not defined"
     ]
    }
   ],
   "source": [
    "_something_internal"
   ]
  },
  {
   "cell_type": "code",
   "execution_count": 73,
   "metadata": {
    "ExecuteTime": {
     "end_time": "2018-09-25T10:14:27.130516Z",
     "start_time": "2018-09-25T10:14:27.125796Z"
    }
   },
   "outputs": [
    {
     "data": {
      "text/plain": [
       "-1"
      ]
     },
     "execution_count": 73,
     "metadata": {},
     "output_type": "execute_result"
    }
   ],
   "source": [
    "crazy_adder._something_internal"
   ]
  },
  {
   "cell_type": "markdown",
   "metadata": {},
   "source": [
    "## Modules are objects"
   ]
  },
  {
   "cell_type": "code",
   "execution_count": 41,
   "metadata": {
    "ExecuteTime": {
     "end_time": "2018-09-25T01:14:45.572300Z",
     "start_time": "2018-09-25T01:14:45.568876Z"
    }
   },
   "outputs": [
    {
     "data": {
      "text/plain": [
       "['__builtins__',\n",
       " '__cached__',\n",
       " '__doc__',\n",
       " '__file__',\n",
       " '__loader__',\n",
       " '__name__',\n",
       " '__package__',\n",
       " '__spec__',\n",
       " 'add_multiple']"
      ]
     },
     "execution_count": 41,
     "metadata": {},
     "output_type": "execute_result"
    }
   ],
   "source": [
    "dir(crazy_adder)"
   ]
  },
  {
   "cell_type": "code",
   "execution_count": 42,
   "metadata": {
    "ExecuteTime": {
     "end_time": "2018-09-25T01:15:00.311723Z",
     "start_time": "2018-09-25T01:15:00.307847Z"
    }
   },
   "outputs": [
    {
     "data": {
      "text/plain": [
       "'crazy_adder'"
      ]
     },
     "execution_count": 42,
     "metadata": {},
     "output_type": "execute_result"
    }
   ],
   "source": [
    "crazy_adder.__name__"
   ]
  },
  {
   "cell_type": "markdown",
   "metadata": {},
   "source": [
    "### Module reloading"
   ]
  },
  {
   "cell_type": "code",
   "execution_count": 65,
   "metadata": {
    "ExecuteTime": {
     "end_time": "2018-09-25T10:12:46.110374Z",
     "start_time": "2018-09-25T10:12:46.104194Z"
    }
   },
   "outputs": [
    {
     "data": {
      "text/plain": [
       "<module 'crazy_adder' from '/Users/rodsenra/r/projects/personal/python_course/crazy_adder.py'>"
      ]
     },
     "execution_count": 65,
     "metadata": {},
     "output_type": "execute_result"
    }
   ],
   "source": [
    "from importlib import reload\n",
    "reload(crazy_adder)"
   ]
  },
  {
   "cell_type": "markdown",
   "metadata": {},
   "source": [
    "### Where do modules live?"
   ]
  },
  {
   "cell_type": "code",
   "execution_count": 55,
   "metadata": {
    "ExecuteTime": {
     "end_time": "2018-09-25T10:08:56.271312Z",
     "start_time": "2018-09-25T10:08:56.267612Z"
    }
   },
   "outputs": [
    {
     "data": {
      "text/plain": [
       "699"
      ]
     },
     "execution_count": 55,
     "metadata": {},
     "output_type": "execute_result"
    }
   ],
   "source": [
    "import sys\n",
    "len(sys.modules)"
   ]
  },
  {
   "cell_type": "code",
   "execution_count": 56,
   "metadata": {
    "ExecuteTime": {
     "end_time": "2018-09-25T10:08:56.957932Z",
     "start_time": "2018-09-25T10:08:56.948399Z"
    }
   },
   "outputs": [
    {
     "data": {
      "text/plain": [
       "dict"
      ]
     },
     "execution_count": 56,
     "metadata": {},
     "output_type": "execute_result"
    }
   ],
   "source": [
    "type(sys.modules)"
   ]
  },
  {
   "cell_type": "code",
   "execution_count": 57,
   "metadata": {
    "ExecuteTime": {
     "end_time": "2018-09-25T10:09:16.498651Z",
     "start_time": "2018-09-25T10:09:16.490990Z"
    }
   },
   "outputs": [
    {
     "data": {
      "text/plain": [
       "<module 'crazy_adder' from '/Users/rodsenra/r/projects/personal/python_course/crazy_adder.py'>"
      ]
     },
     "execution_count": 57,
     "metadata": {},
     "output_type": "execute_result"
    }
   ],
   "source": [
    "sys.modules['crazy_adder']"
   ]
  },
  {
   "cell_type": "markdown",
   "metadata": {},
   "source": [
    "# Packages"
   ]
  },
  {
   "cell_type": "code",
   "execution_count": 74,
   "metadata": {
    "ExecuteTime": {
     "end_time": "2018-09-25T10:16:51.889409Z",
     "start_time": "2018-09-25T10:16:51.882938Z"
    }
   },
   "outputs": [
    {
     "name": "stdout",
     "output_type": "stream",
     "text": [
      "Writing nested_module.py\n"
     ]
    }
   ],
   "source": [
    "%%writefile nested_module.py\n",
    "a = 1\n",
    "def factorial(n):\n",
    "    return n*factorial(n-1) if n>0 else 1"
   ]
  },
  {
   "cell_type": "code",
   "execution_count": 77,
   "metadata": {
    "ExecuteTime": {
     "end_time": "2018-09-25T10:18:24.542272Z",
     "start_time": "2018-09-25T10:18:24.061467Z"
    }
   },
   "outputs": [
    {
     "name": "stdout",
     "output_type": "stream",
     "text": [
      "mkdir: my_package: File exists\n",
      "mv: nested_module.py: No such file or directory\n"
     ]
    }
   ],
   "source": [
    "!mkdir my_package\n",
    "!touch __init__.py\n",
    "!mv __init__.py my_package\n",
    "!mv nested_module.py my_package"
   ]
  },
  {
   "cell_type": "code",
   "execution_count": 78,
   "metadata": {
    "ExecuteTime": {
     "end_time": "2018-09-25T10:18:27.763324Z",
     "start_time": "2018-09-25T10:18:27.606266Z"
    }
   },
   "outputs": [
    {
     "name": "stdout",
     "output_type": "stream",
     "text": [
      "total 8\r\n",
      "drwxr-xr-x   4 rodsenra  staff  128 Sep 25 06:18 \u001b[34m.\u001b[m\u001b[m\r\n",
      "drwxr-xr-x  13 rodsenra  staff  416 Sep 25 06:18 \u001b[34m..\u001b[m\u001b[m\r\n",
      "-rw-r--r--   1 rodsenra  staff    0 Sep 25 06:18 __init__.py\r\n",
      "-rw-r--r--   1 rodsenra  staff   65 Sep 25 06:16 nested_module.py\r\n"
     ]
    }
   ],
   "source": [
    "!ls -laR my_package/"
   ]
  },
  {
   "cell_type": "code",
   "execution_count": 81,
   "metadata": {
    "ExecuteTime": {
     "end_time": "2018-09-25T10:19:14.496499Z",
     "start_time": "2018-09-25T10:19:14.494424Z"
    }
   },
   "outputs": [],
   "source": [
    "import my_package"
   ]
  },
  {
   "cell_type": "code",
   "execution_count": 82,
   "metadata": {
    "ExecuteTime": {
     "end_time": "2018-09-25T10:19:24.849964Z",
     "start_time": "2018-09-25T10:19:24.846855Z"
    }
   },
   "outputs": [
    {
     "data": {
      "text/plain": [
       "<module 'my_package' from '/Users/rodsenra/r/projects/personal/python_course/my_package/__init__.py'>"
      ]
     },
     "execution_count": 82,
     "metadata": {},
     "output_type": "execute_result"
    }
   ],
   "source": [
    "my_package"
   ]
  },
  {
   "cell_type": "code",
   "execution_count": 79,
   "metadata": {
    "ExecuteTime": {
     "end_time": "2018-09-25T10:18:55.927879Z",
     "start_time": "2018-09-25T10:18:55.921198Z"
    }
   },
   "outputs": [],
   "source": [
    "from my_package import nested_module"
   ]
  },
  {
   "cell_type": "code",
   "execution_count": 80,
   "metadata": {
    "ExecuteTime": {
     "end_time": "2018-09-25T10:18:59.515422Z",
     "start_time": "2018-09-25T10:18:59.511685Z"
    }
   },
   "outputs": [
    {
     "data": {
      "text/plain": [
       "<module 'my_package.nested_module' from '/Users/rodsenra/r/projects/personal/python_course/my_package/nested_module.py'>"
      ]
     },
     "execution_count": 80,
     "metadata": {},
     "output_type": "execute_result"
    }
   ],
   "source": [
    "nested_module"
   ]
  },
  {
   "cell_type": "code",
   "execution_count": 85,
   "metadata": {
    "ExecuteTime": {
     "end_time": "2018-09-25T10:20:19.412400Z",
     "start_time": "2018-09-25T10:20:19.408826Z"
    }
   },
   "outputs": [],
   "source": [
    "from my_package.nested_module import factorial"
   ]
  },
  {
   "cell_type": "code",
   "execution_count": 91,
   "metadata": {
    "ExecuteTime": {
     "end_time": "2018-09-25T10:21:15.573756Z",
     "start_time": "2018-09-25T10:21:15.570083Z"
    }
   },
   "outputs": [
    {
     "data": {
      "text/plain": [
       "6"
      ]
     },
     "execution_count": 91,
     "metadata": {},
     "output_type": "execute_result"
    }
   ],
   "source": [
    "factorial(3)"
   ]
  },
  {
   "cell_type": "code",
   "execution_count": 88,
   "metadata": {
    "ExecuteTime": {
     "end_time": "2018-09-25T10:20:37.636095Z",
     "start_time": "2018-09-25T10:20:37.632472Z"
    }
   },
   "outputs": [
    {
     "data": {
      "text/plain": [
       "93326215443944152681699238856266700490715968264381621468592963895217599993229915608941463976156518286253697920827223758251185210916864000000000000000000000000"
      ]
     },
     "execution_count": 88,
     "metadata": {},
     "output_type": "execute_result"
    }
   ],
   "source": [
    "factorial(100)"
   ]
  },
  {
   "cell_type": "code",
   "execution_count": null,
   "metadata": {},
   "outputs": [],
   "source": []
  }
 ],
 "metadata": {
  "hide_input": false,
  "kernelspec": {
   "display_name": "Python 3",
   "language": "python",
   "name": "python3"
  },
  "language_info": {
   "codemirror_mode": {
    "name": "ipython",
    "version": 3
   },
   "file_extension": ".py",
   "mimetype": "text/x-python",
   "name": "python",
   "nbconvert_exporter": "python",
   "pygments_lexer": "ipython3",
   "version": "3.6.5"
  },
  "toc": {
   "colors": {
    "hover_highlight": "#DAA520",
    "navigate_num": "#000000",
    "navigate_text": "#333333",
    "running_highlight": "#FF0000",
    "selected_highlight": "#FFD700",
    "sidebar_border": "#EEEEEE",
    "wrapper_background": "#FFFFFF"
   },
   "moveMenuLeft": true,
   "nav_menu": {
    "height": "183.003px",
    "width": "510.017px"
   },
   "navigate_menu": true,
   "number_sections": true,
   "sideBar": true,
   "threshold": 4,
   "toc_cell": false,
   "toc_section_display": "block",
   "toc_window_display": false,
   "widenNotebook": false
  }
 },
 "nbformat": 4,
 "nbformat_minor": 2
}
