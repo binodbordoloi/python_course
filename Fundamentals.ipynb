{
 "cells": [
  {
   "cell_type": "markdown",
   "metadata": {},
   "source": [
    "# Python Programming Fundamentals\n",
    "\n",
    "This webinar is split into 4 parts:\n",
    "* Part 1 - Fundamentals: Primitive Types\n",
    "* Part 2 - Namespaces: Functions, Classes, Modules and Packages\n",
    "* Part 3 - Object Orientation\n",
    "* Part 4 - Functional Programming"
   ]
  },
  {
   "cell_type": "markdown",
   "metadata": {},
   "source": [
    "# Executing Python Code\n",
    "\n",
    " * Interactive Mode ```python```\n",
    " * Run script or program ```python blah.py```\n",
    " * Run script and fallback to interactive mode ```python -i bla.py```\n",
    " * Single command line expression ```python -c 'print(3*15)'``` "
   ]
  },
  {
   "cell_type": "markdown",
   "metadata": {},
   "source": [
    "# Using Jupyter\n",
    "\n",
    "You can run this from binder, using: https://mybinder.org/v2/gh/rodsenra/python_course/master"
   ]
  },
  {
   "cell_type": "markdown",
   "metadata": {},
   "source": [
    "We start by exploring Python scalar native types at the REPL.\n",
    "We will use some builtin functions to explain the connection between scalar types and Python's Object Oriented nature."
   ]
  },
  {
   "cell_type": "markdown",
   "metadata": {},
   "source": [
    "# Fundamentals\n",
    "\n",
    "In this first part, we will visit first the primitive types in Python, and then explore the statements that allow us to manipulate those types to build programs.\n",
    "We are going to use the REPL (Read-Eval-Print-Loop) as the main tool to explore the language.\n",
    "\n",
    "## Numbers and using Python as a calculator"
   ]
  },
  {
   "cell_type": "code",
   "execution_count": null,
   "metadata": {
    "ExecuteTime": {
     "end_time": "2018-08-27T19:02:01.588675Z",
     "start_time": "2018-08-27T19:02:01.584992Z"
    }
   },
   "outputs": [],
   "source": [
    "1"
   ]
  },
  {
   "cell_type": "code",
   "execution_count": null,
   "metadata": {
    "ExecuteTime": {
     "end_time": "2018-08-27T19:02:01.602552Z",
     "start_time": "2018-08-27T19:02:01.598895Z"
    }
   },
   "outputs": [],
   "source": [
    "1.0"
   ]
  },
  {
   "cell_type": "code",
   "execution_count": null,
   "metadata": {
    "ExecuteTime": {
     "end_time": "2018-09-22T17:46:52.488524Z",
     "start_time": "2018-09-22T17:46:52.468348Z"
    }
   },
   "outputs": [],
   "source": [
    "1 == 1.0"
   ]
  },
  {
   "cell_type": "code",
   "execution_count": null,
   "metadata": {
    "ExecuteTime": {
     "end_time": "2018-09-22T17:47:18.608768Z",
     "start_time": "2018-09-22T17:47:18.604561Z"
    }
   },
   "outputs": [],
   "source": [
    "1 is 1.0"
   ]
  },
  {
   "cell_type": "code",
   "execution_count": null,
   "metadata": {
    "ExecuteTime": {
     "end_time": "2018-08-27T19:02:01.596707Z",
     "start_time": "2018-08-27T19:02:01.592985Z"
    }
   },
   "outputs": [],
   "source": [
    "type(1)"
   ]
  },
  {
   "cell_type": "code",
   "execution_count": null,
   "metadata": {
    "ExecuteTime": {
     "end_time": "2018-08-27T19:02:01.608359Z",
     "start_time": "2018-08-27T19:02:01.604399Z"
    }
   },
   "outputs": [],
   "source": [
    "type(1.0)"
   ]
  },
  {
   "cell_type": "code",
   "execution_count": null,
   "metadata": {
    "ExecuteTime": {
     "end_time": "2018-09-22T17:50:24.199193Z",
     "start_time": "2018-09-22T17:50:24.195710Z"
    }
   },
   "outputs": [],
   "source": [
    "isinstance(1, object)"
   ]
  },
  {
   "cell_type": "markdown",
   "metadata": {},
   "source": [
    "We even have complex numbers as native scalar types!"
   ]
  },
  {
   "cell_type": "code",
   "execution_count": null,
   "metadata": {
    "ExecuteTime": {
     "end_time": "2018-09-22T17:50:30.178372Z",
     "start_time": "2018-09-22T17:50:30.173478Z"
    }
   },
   "outputs": [],
   "source": [
    "1 + 0j"
   ]
  },
  {
   "cell_type": "code",
   "execution_count": null,
   "metadata": {
    "ExecuteTime": {
     "end_time": "2018-09-22T17:50:31.299474Z",
     "start_time": "2018-09-22T17:50:31.294556Z"
    }
   },
   "outputs": [],
   "source": [
    "type(1 + 0j)"
   ]
  },
  {
   "cell_type": "code",
   "execution_count": null,
   "metadata": {
    "ExecuteTime": {
     "end_time": "2018-09-22T17:50:40.502141Z",
     "start_time": "2018-09-22T17:50:40.497128Z"
    }
   },
   "outputs": [],
   "source": [
    "1 + 0j == 1"
   ]
  },
  {
   "cell_type": "code",
   "execution_count": null,
   "metadata": {
    "ExecuteTime": {
     "end_time": "2018-09-22T17:50:52.806811Z",
     "start_time": "2018-09-22T17:50:52.803263Z"
    }
   },
   "outputs": [],
   "source": [
    "3 / 2"
   ]
  },
  {
   "cell_type": "code",
   "execution_count": null,
   "metadata": {
    "ExecuteTime": {
     "end_time": "2018-09-22T17:50:53.741227Z",
     "start_time": "2018-09-22T17:50:53.737214Z"
    }
   },
   "outputs": [],
   "source": [
    "3 // 2"
   ]
  },
  {
   "cell_type": "code",
   "execution_count": null,
   "metadata": {
    "ExecuteTime": {
     "end_time": "2018-09-22T17:50:56.425117Z",
     "start_time": "2018-09-22T17:50:56.415954Z"
    }
   },
   "outputs": [],
   "source": [
    "1 / 0"
   ]
  },
  {
   "cell_type": "code",
   "execution_count": null,
   "metadata": {
    "ExecuteTime": {
     "end_time": "2018-09-22T17:50:59.444614Z",
     "start_time": "2018-09-22T17:50:59.440672Z"
    }
   },
   "outputs": [],
   "source": [
    "2*2*2"
   ]
  },
  {
   "cell_type": "code",
   "execution_count": null,
   "metadata": {
    "ExecuteTime": {
     "end_time": "2018-09-22T17:51:00.354882Z",
     "start_time": "2018-09-22T17:51:00.351473Z"
    }
   },
   "outputs": [],
   "source": [
    "2**3"
   ]
  },
  {
   "cell_type": "code",
   "execution_count": null,
   "metadata": {
    "ExecuteTime": {
     "end_time": "2018-09-22T17:51:02.830287Z",
     "start_time": "2018-09-22T17:51:02.826737Z"
    }
   },
   "outputs": [],
   "source": [
    "2**1024"
   ]
  },
  {
   "cell_type": "code",
   "execution_count": null,
   "metadata": {
    "ExecuteTime": {
     "end_time": "2018-09-22T17:51:03.305253Z",
     "start_time": "2018-09-22T17:51:03.301704Z"
    }
   },
   "outputs": [],
   "source": [
    "2**4096"
   ]
  },
  {
   "cell_type": "code",
   "execution_count": null,
   "metadata": {
    "ExecuteTime": {
     "end_time": "2018-09-22T17:51:07.116623Z",
     "start_time": "2018-09-22T17:51:07.113393Z"
    }
   },
   "outputs": [],
   "source": [
    "_"
   ]
  },
  {
   "cell_type": "code",
   "execution_count": null,
   "metadata": {
    "ExecuteTime": {
     "end_time": "2018-09-22T17:51:09.311468Z",
     "start_time": "2018-09-22T17:51:09.307404Z"
    }
   },
   "outputs": [],
   "source": [
    "_ + 1"
   ]
  },
  {
   "cell_type": "code",
   "execution_count": null,
   "metadata": {
    "ExecuteTime": {
     "end_time": "2018-09-22T17:51:32.221282Z",
     "start_time": "2018-09-22T17:51:32.213581Z"
    }
   },
   "outputs": [],
   "source": [
    "2**4096 / 2"
   ]
  },
  {
   "cell_type": "markdown",
   "metadata": {},
   "source": [
    "Advanced topic, for those who want to go further after the webinar ..."
   ]
  },
  {
   "cell_type": "code",
   "execution_count": null,
   "metadata": {
    "ExecuteTime": {
     "end_time": "2018-09-22T17:53:13.388925Z",
     "start_time": "2018-09-22T17:53:13.384716Z"
    }
   },
   "outputs": [],
   "source": [
    "from decimal import Decimal\n",
    "Decimal(2**4096) / 2"
   ]
  },
  {
   "cell_type": "markdown",
   "metadata": {},
   "source": [
    "## The Assignment Statement\n",
    "We use the assignment statement to bind names to values"
   ]
  },
  {
   "cell_type": "code",
   "execution_count": null,
   "metadata": {
    "ExecuteTime": {
     "end_time": "2018-09-22T17:53:49.837275Z",
     "start_time": "2018-09-22T17:53:49.833649Z"
    }
   },
   "outputs": [],
   "source": [
    "x = 12"
   ]
  },
  {
   "cell_type": "code",
   "execution_count": null,
   "metadata": {
    "ExecuteTime": {
     "end_time": "2018-09-22T17:53:50.400264Z",
     "start_time": "2018-09-22T17:53:50.396598Z"
    }
   },
   "outputs": [],
   "source": [
    "x"
   ]
  },
  {
   "cell_type": "code",
   "execution_count": null,
   "metadata": {
    "ExecuteTime": {
     "end_time": "2018-09-22T17:53:51.265885Z",
     "start_time": "2018-09-22T17:53:51.261709Z"
    }
   },
   "outputs": [],
   "source": [
    "type(x)"
   ]
  },
  {
   "cell_type": "code",
   "execution_count": null,
   "metadata": {
    "ExecuteTime": {
     "end_time": "2018-09-22T17:53:55.721579Z",
     "start_time": "2018-09-22T17:53:55.718473Z"
    }
   },
   "outputs": [],
   "source": [
    "x**2"
   ]
  },
  {
   "cell_type": "markdown",
   "metadata": {},
   "source": [
    "There is destructuring "
   ]
  },
  {
   "cell_type": "code",
   "execution_count": null,
   "metadata": {
    "ExecuteTime": {
     "end_time": "2018-09-22T17:55:29.704906Z",
     "start_time": "2018-09-22T17:55:29.702220Z"
    }
   },
   "outputs": [],
   "source": [
    "x = a, b = 1, 2"
   ]
  },
  {
   "cell_type": "code",
   "execution_count": null,
   "metadata": {
    "ExecuteTime": {
     "end_time": "2018-09-22T17:55:30.459363Z",
     "start_time": "2018-09-22T17:55:30.455436Z"
    }
   },
   "outputs": [],
   "source": [
    "a"
   ]
  },
  {
   "cell_type": "code",
   "execution_count": null,
   "metadata": {
    "ExecuteTime": {
     "end_time": "2018-09-22T17:55:31.077226Z",
     "start_time": "2018-09-22T17:55:31.073156Z"
    }
   },
   "outputs": [],
   "source": [
    "b"
   ]
  },
  {
   "cell_type": "code",
   "execution_count": null,
   "metadata": {
    "ExecuteTime": {
     "end_time": "2018-09-22T17:55:35.229748Z",
     "start_time": "2018-09-22T17:55:35.226468Z"
    }
   },
   "outputs": [],
   "source": [
    "x"
   ]
  },
  {
   "cell_type": "code",
   "execution_count": null,
   "metadata": {
    "ExecuteTime": {
     "end_time": "2018-09-22T17:56:09.396171Z",
     "start_time": "2018-09-22T17:56:09.392030Z"
    }
   },
   "outputs": [],
   "source": [
    "type(x)"
   ]
  },
  {
   "cell_type": "code",
   "execution_count": null,
   "metadata": {
    "ExecuteTime": {
     "end_time": "2018-09-22T17:56:31.335943Z",
     "start_time": "2018-09-22T17:56:31.332261Z"
    }
   },
   "outputs": [],
   "source": [
    "c, d = x"
   ]
  },
  {
   "cell_type": "code",
   "execution_count": null,
   "metadata": {
    "ExecuteTime": {
     "end_time": "2018-09-22T17:57:13.003532Z",
     "start_time": "2018-09-22T17:57:12.999070Z"
    }
   },
   "outputs": [],
   "source": [
    "c == x[0]"
   ]
  },
  {
   "cell_type": "markdown",
   "metadata": {},
   "source": [
    "## Strings"
   ]
  },
  {
   "cell_type": "code",
   "execution_count": null,
   "metadata": {
    "ExecuteTime": {
     "end_time": "2018-09-22T17:57:21.833427Z",
     "start_time": "2018-09-22T17:57:21.829789Z"
    }
   },
   "outputs": [],
   "source": [
    "'single quotes'"
   ]
  },
  {
   "cell_type": "code",
   "execution_count": null,
   "metadata": {
    "ExecuteTime": {
     "end_time": "2018-09-22T17:57:22.417485Z",
     "start_time": "2018-09-22T17:57:22.413448Z"
    }
   },
   "outputs": [],
   "source": [
    "\"double quotes\""
   ]
  },
  {
   "cell_type": "code",
   "execution_count": null,
   "metadata": {
    "ExecuteTime": {
     "end_time": "2018-09-22T17:57:26.672681Z",
     "start_time": "2018-09-22T17:57:26.667150Z"
    }
   },
   "outputs": [],
   "source": [
    "'''triple\n",
    "single\n",
    "quotes\n",
    "'''"
   ]
  },
  {
   "cell_type": "code",
   "execution_count": null,
   "metadata": {
    "ExecuteTime": {
     "end_time": "2018-09-22T17:57:35.031219Z",
     "start_time": "2018-09-22T17:57:35.026849Z"
    }
   },
   "outputs": [],
   "source": [
    "\"\"\"triple\n",
    "'double'\n",
    "quotes\n",
    "\"\"\""
   ]
  },
  {
   "cell_type": "code",
   "execution_count": null,
   "metadata": {
    "ExecuteTime": {
     "end_time": "2018-09-22T17:57:38.968989Z",
     "start_time": "2018-09-22T17:57:38.965093Z"
    }
   },
   "outputs": [],
   "source": [
    "type(\"some string\")"
   ]
  },
  {
   "cell_type": "code",
   "execution_count": null,
   "metadata": {
    "ExecuteTime": {
     "end_time": "2018-09-22T17:57:44.808975Z",
     "start_time": "2018-09-22T17:57:44.804680Z"
    }
   },
   "outputs": [],
   "source": [
    "\" one two three \".strip()"
   ]
  },
  {
   "cell_type": "markdown",
   "metadata": {},
   "source": [
    "### Slice Operator"
   ]
  },
  {
   "cell_type": "markdown",
   "metadata": {},
   "source": [
    "Understanding the slice operator indexing\n",
    "```\n",
    " +---+---+---+---+---+---+\n",
    " | P | y | t | h | o | n |\n",
    " +---+---+---+---+---+---+\n",
    " 0   1   2   3   4   5   6\n",
    "-6  -5  -4  -3  -2  -1\n",
    "```\n",
    "From: https://docs.python.org/3/tutorial/introduction.html"
   ]
  },
  {
   "cell_type": "code",
   "execution_count": null,
   "metadata": {
    "ExecuteTime": {
     "end_time": "2018-09-22T17:58:21.072000Z",
     "start_time": "2018-09-22T17:58:21.067862Z"
    }
   },
   "outputs": [],
   "source": [
    "\"strings are sequence of chars indexed by 0\"[0]"
   ]
  },
  {
   "cell_type": "code",
   "execution_count": null,
   "metadata": {
    "ExecuteTime": {
     "end_time": "2018-09-22T17:58:22.777060Z",
     "start_time": "2018-09-22T17:58:22.773528Z"
    }
   },
   "outputs": [],
   "source": [
    "\"the slice operator allows us to cut strings\"[4:9]"
   ]
  },
  {
   "cell_type": "code",
   "execution_count": null,
   "metadata": {
    "ExecuteTime": {
     "end_time": "2018-09-22T17:58:33.148235Z",
     "start_time": "2018-09-22T17:58:33.144895Z"
    }
   },
   "outputs": [],
   "source": [
    "\"the index also comes from the end with negative values\"[-1]"
   ]
  },
  {
   "cell_type": "code",
   "execution_count": null,
   "metadata": {
    "ExecuteTime": {
     "end_time": "2018-09-22T17:58:38.659012Z",
     "start_time": "2018-09-22T17:58:38.653099Z"
    }
   },
   "outputs": [],
   "source": [
    "\"you can cut just the value from the end\"[-7:]"
   ]
  },
  {
   "cell_type": "code",
   "execution_count": null,
   "metadata": {
    "ExecuteTime": {
     "end_time": "2018-09-22T17:58:42.186051Z",
     "start_time": "2018-09-22T17:58:42.180470Z"
    }
   },
   "outputs": [],
   "source": [
    "\"y o u   c a n   s k i p\"[::2]"
   ]
  },
  {
   "cell_type": "code",
   "execution_count": null,
   "metadata": {
    "ExecuteTime": {
     "end_time": "2018-09-22T17:58:53.521450Z",
     "start_time": "2018-09-22T17:58:53.517709Z"
    }
   },
   "outputs": [],
   "source": [
    "\"you can also reverse: 1 2 3\"[-1:-6:-1]"
   ]
  },
  {
   "cell_type": "code",
   "execution_count": null,
   "metadata": {
    "ExecuteTime": {
     "end_time": "2018-09-22T17:59:29.875209Z",
     "start_time": "2018-09-22T17:59:29.871409Z"
    }
   },
   "outputs": [],
   "source": [
    "\"reverse all: 1 2 3\"[::-1]"
   ]
  },
  {
   "cell_type": "code",
   "execution_count": null,
   "metadata": {
    "ExecuteTime": {
     "end_time": "2018-09-22T17:59:43.361089Z",
     "start_time": "2018-09-22T17:59:43.357994Z"
    }
   },
   "outputs": [],
   "source": [
    "\"super_useful.txt\"[6:-4]"
   ]
  },
  {
   "cell_type": "markdown",
   "metadata": {},
   "source": [
    "### String Interpolation"
   ]
  },
  {
   "cell_type": "code",
   "execution_count": null,
   "metadata": {
    "ExecuteTime": {
     "end_time": "2018-09-23T01:00:49.533693Z",
     "start_time": "2018-09-23T01:00:49.528802Z"
    }
   },
   "outputs": [],
   "source": [
    "x = \"legacy\"\n",
    "\"%s method\" % x"
   ]
  },
  {
   "cell_type": "code",
   "execution_count": null,
   "metadata": {
    "ExecuteTime": {
     "end_time": "2018-09-23T01:00:50.037588Z",
     "start_time": "2018-09-23T01:00:50.034048Z"
    }
   },
   "outputs": [],
   "source": [
    "x = \"recent\"\n",
    "\"{0} method\".format(x)"
   ]
  },
  {
   "cell_type": "code",
   "execution_count": null,
   "metadata": {
    "ExecuteTime": {
     "end_time": "2018-09-23T01:00:50.609771Z",
     "start_time": "2018-09-23T01:00:50.606019Z"
    }
   },
   "outputs": [],
   "source": [
    "x = \"latest\"\n",
    "f\"{x} method\""
   ]
  },
  {
   "cell_type": "markdown",
   "metadata": {},
   "source": [
    "## Convert one type into another"
   ]
  },
  {
   "cell_type": "markdown",
   "metadata": {},
   "source": [
    "The type names can be used as \"casting\" functions, to convert values between types (i.e. create new objects)"
   ]
  },
  {
   "cell_type": "code",
   "execution_count": null,
   "metadata": {
    "ExecuteTime": {
     "end_time": "2018-09-23T01:00:52.275775Z",
     "start_time": "2018-09-23T01:00:52.271464Z"
    }
   },
   "outputs": [],
   "source": [
    "type(\"1\")"
   ]
  },
  {
   "cell_type": "code",
   "execution_count": null,
   "metadata": {
    "ExecuteTime": {
     "end_time": "2018-09-23T01:00:53.130655Z",
     "start_time": "2018-09-23T01:00:53.126879Z"
    }
   },
   "outputs": [],
   "source": [
    "type(1)"
   ]
  },
  {
   "cell_type": "code",
   "execution_count": null,
   "metadata": {
    "ExecuteTime": {
     "end_time": "2018-09-23T01:01:13.558654Z",
     "start_time": "2018-09-23T01:01:13.555702Z"
    }
   },
   "outputs": [],
   "source": [
    "int(\"1\")"
   ]
  },
  {
   "cell_type": "code",
   "execution_count": null,
   "metadata": {
    "ExecuteTime": {
     "end_time": "2018-09-23T01:01:17.330081Z",
     "start_time": "2018-09-23T01:01:17.325984Z"
    }
   },
   "outputs": [],
   "source": [
    "str(1)"
   ]
  },
  {
   "cell_type": "markdown",
   "metadata": {
    "ExecuteTime": {
     "end_time": "2018-08-11T11:46:06.603915Z",
     "start_time": "2018-08-11T11:46:06.600104Z"
    }
   },
   "source": [
    "There is **no implicit casting** in the language. We do a comparisom with javascript to illustrate the different approach between to dynamically typed languages, but one is loosely typed (Javascript) and the other strongly typed (Python)."
   ]
  },
  {
   "cell_type": "code",
   "execution_count": null,
   "metadata": {
    "ExecuteTime": {
     "end_time": "2018-09-23T01:01:47.887180Z",
     "start_time": "2018-09-23T01:01:47.883177Z"
    }
   },
   "outputs": [],
   "source": [
    "%%javascript\n",
    "console.log(1==\"1\")\n",
    "console.log(1+\"1\")\n",
    "console.log(2*\"2\")"
   ]
  },
  {
   "cell_type": "markdown",
   "metadata": {},
   "source": [
    "In Python, operators between different types do not perform explicit type casting"
   ]
  },
  {
   "cell_type": "code",
   "execution_count": null,
   "metadata": {
    "ExecuteTime": {
     "end_time": "2018-09-23T01:02:02.523227Z",
     "start_time": "2018-09-23T01:02:02.505272Z"
    }
   },
   "outputs": [],
   "source": [
    "1 + \"1\""
   ]
  },
  {
   "cell_type": "markdown",
   "metadata": {},
   "source": [
    "But, because everything is an object, operator overloading is supported in the language"
   ]
  },
  {
   "cell_type": "code",
   "execution_count": null,
   "metadata": {
    "ExecuteTime": {
     "end_time": "2018-09-23T01:02:14.107707Z",
     "start_time": "2018-09-23T01:02:14.104606Z"
    }
   },
   "outputs": [],
   "source": [
    "3*\"Blah \""
   ]
  },
  {
   "cell_type": "markdown",
   "metadata": {},
   "source": [
    "## Collections or Compound Data Structures\n",
    "\n",
    "There are 4 native compound types: List, Tuple, Dict and Set."
   ]
  },
  {
   "cell_type": "markdown",
   "metadata": {},
   "source": [
    "### List (Mutable) and Tuple (Immutable)"
   ]
  },
  {
   "cell_type": "code",
   "execution_count": null,
   "metadata": {
    "ExecuteTime": {
     "end_time": "2018-09-23T01:03:18.357792Z",
     "start_time": "2018-09-23T01:03:18.354073Z"
    }
   },
   "outputs": [],
   "source": [
    "my_list = [1, 2, 3]\n",
    "my_list"
   ]
  },
  {
   "cell_type": "code",
   "execution_count": null,
   "metadata": {
    "ExecuteTime": {
     "end_time": "2018-09-23T01:03:19.564033Z",
     "start_time": "2018-09-23T01:03:19.560418Z"
    }
   },
   "outputs": [],
   "source": [
    "type(my_list)"
   ]
  },
  {
   "cell_type": "code",
   "execution_count": null,
   "metadata": {
    "ExecuteTime": {
     "end_time": "2018-09-23T01:03:23.216265Z",
     "start_time": "2018-09-23T01:03:23.212670Z"
    }
   },
   "outputs": [],
   "source": [
    "my_tuple = (1, 2, 3, 4, 5)\n",
    "my_tuple"
   ]
  },
  {
   "cell_type": "code",
   "execution_count": null,
   "metadata": {
    "ExecuteTime": {
     "end_time": "2018-09-23T01:03:30.238303Z",
     "start_time": "2018-09-23T01:03:30.234338Z"
    }
   },
   "outputs": [],
   "source": [
    "type(my_tuple)"
   ]
  },
  {
   "cell_type": "markdown",
   "metadata": {},
   "source": [
    "Tuples (immutable) and Lists (mutable) are both sequences (like strings), thus \"sliceable\""
   ]
  },
  {
   "cell_type": "code",
   "execution_count": null,
   "metadata": {
    "ExecuteTime": {
     "end_time": "2018-09-23T16:27:04.361631Z",
     "start_time": "2018-09-23T16:27:04.354782Z"
    }
   },
   "outputs": [],
   "source": [
    "my_tuple"
   ]
  },
  {
   "cell_type": "code",
   "execution_count": null,
   "metadata": {
    "ExecuteTime": {
     "end_time": "2018-09-23T16:27:07.254815Z",
     "start_time": "2018-09-23T16:27:07.249132Z"
    }
   },
   "outputs": [],
   "source": [
    "my_tuple[2]"
   ]
  },
  {
   "cell_type": "code",
   "execution_count": null,
   "metadata": {
    "ExecuteTime": {
     "end_time": "2018-09-23T16:27:09.691873Z",
     "start_time": "2018-09-23T16:27:09.685223Z"
    }
   },
   "outputs": [],
   "source": [
    "my_tuple[2:-1]"
   ]
  },
  {
   "cell_type": "markdown",
   "metadata": {},
   "source": [
    "Lists and Tuples can be easily combined"
   ]
  },
  {
   "cell_type": "code",
   "execution_count": null,
   "metadata": {
    "ExecuteTime": {
     "end_time": "2018-09-23T16:27:29.291265Z",
     "start_time": "2018-09-23T16:27:29.284623Z"
    }
   },
   "outputs": [],
   "source": [
    "[1, 2, 3] + [4, 5, 6]"
   ]
  },
  {
   "cell_type": "code",
   "execution_count": null,
   "metadata": {
    "ExecuteTime": {
     "end_time": "2018-09-23T16:27:38.606888Z",
     "start_time": "2018-09-23T16:27:38.598576Z"
    }
   },
   "outputs": [],
   "source": [
    "(1, 2, 3) + (4, 5, 6)"
   ]
  },
  {
   "cell_type": "markdown",
   "metadata": {},
   "source": [
    "But only between themselves."
   ]
  },
  {
   "cell_type": "code",
   "execution_count": null,
   "metadata": {
    "ExecuteTime": {
     "end_time": "2018-09-23T16:27:50.818547Z",
     "start_time": "2018-09-23T16:27:50.771130Z"
    }
   },
   "outputs": [],
   "source": [
    "(1, 2, 3) + [1, 2, 3]"
   ]
  },
  {
   "cell_type": "markdown",
   "metadata": {},
   "source": [
    "But we can easily transform one into the other"
   ]
  },
  {
   "cell_type": "code",
   "execution_count": null,
   "metadata": {
    "ExecuteTime": {
     "end_time": "2018-09-23T16:28:22.492079Z",
     "start_time": "2018-09-23T16:28:22.485436Z"
    }
   },
   "outputs": [],
   "source": [
    "list((1, 2, 3)) + [4, 5, 6]"
   ]
  },
  {
   "cell_type": "code",
   "execution_count": null,
   "metadata": {
    "ExecuteTime": {
     "end_time": "2018-09-23T16:28:23.132551Z",
     "start_time": "2018-09-23T16:28:23.126142Z"
    }
   },
   "outputs": [],
   "source": [
    "(1, 2, 3) + tuple([4, 5, 6])"
   ]
  },
  {
   "cell_type": "markdown",
   "metadata": {
    "ExecuteTime": {
     "end_time": "2018-08-27T18:45:55.351841Z",
     "start_time": "2018-08-27T18:45:55.348439Z"
    }
   },
   "source": [
    "List can work as stacks (First-in, Last-out)"
   ]
  },
  {
   "cell_type": "code",
   "execution_count": null,
   "metadata": {
    "ExecuteTime": {
     "end_time": "2018-09-23T16:28:35.741324Z",
     "start_time": "2018-09-23T16:28:35.736553Z"
    }
   },
   "outputs": [],
   "source": [
    "my_list = []"
   ]
  },
  {
   "cell_type": "code",
   "execution_count": null,
   "metadata": {
    "ExecuteTime": {
     "end_time": "2018-09-23T16:28:36.616381Z",
     "start_time": "2018-09-23T16:28:36.612758Z"
    }
   },
   "outputs": [],
   "source": [
    "my_list.append(1)\n",
    "my_list.append(2)\n",
    "my_list.append(3)"
   ]
  },
  {
   "cell_type": "code",
   "execution_count": null,
   "metadata": {
    "ExecuteTime": {
     "end_time": "2018-08-27T19:02:01.946230Z",
     "start_time": "2018-08-27T19:02:01.942607Z"
    }
   },
   "outputs": [],
   "source": [
    "my_list"
   ]
  },
  {
   "cell_type": "code",
   "execution_count": null,
   "metadata": {
    "ExecuteTime": {
     "end_time": "2018-08-27T19:02:01.957808Z",
     "start_time": "2018-08-27T19:02:01.954610Z"
    }
   },
   "outputs": [],
   "source": [
    "my_list.pop()"
   ]
  },
  {
   "cell_type": "code",
   "execution_count": null,
   "metadata": {
    "ExecuteTime": {
     "end_time": "2018-08-27T19:02:01.963139Z",
     "start_time": "2018-08-27T19:02:01.959432Z"
    }
   },
   "outputs": [],
   "source": [
    "my_list"
   ]
  },
  {
   "cell_type": "markdown",
   "metadata": {},
   "source": [
    "List can work as queues (First-in, First-out)"
   ]
  },
  {
   "cell_type": "code",
   "execution_count": null,
   "metadata": {
    "ExecuteTime": {
     "end_time": "2018-08-27T19:02:01.984542Z",
     "start_time": "2018-08-27T19:02:01.982147Z"
    }
   },
   "outputs": [],
   "source": [
    "my_queue = []"
   ]
  },
  {
   "cell_type": "code",
   "execution_count": null,
   "metadata": {
    "ExecuteTime": {
     "end_time": "2018-08-27T19:02:01.992065Z",
     "start_time": "2018-08-27T19:02:01.988827Z"
    }
   },
   "outputs": [],
   "source": [
    "my_queue.insert(0, 1)\n",
    "my_queue.insert(0, 2)\n",
    "my_queue.insert(0, 3)"
   ]
  },
  {
   "cell_type": "code",
   "execution_count": null,
   "metadata": {
    "ExecuteTime": {
     "end_time": "2018-08-27T19:02:01.997362Z",
     "start_time": "2018-08-27T19:02:01.993945Z"
    }
   },
   "outputs": [],
   "source": [
    "my_queue"
   ]
  },
  {
   "cell_type": "code",
   "execution_count": null,
   "metadata": {
    "ExecuteTime": {
     "end_time": "2018-08-27T19:02:02.002718Z",
     "start_time": "2018-08-27T19:02:01.999307Z"
    }
   },
   "outputs": [],
   "source": [
    "my_queue.pop()"
   ]
  },
  {
   "cell_type": "code",
   "execution_count": null,
   "metadata": {
    "ExecuteTime": {
     "end_time": "2018-08-27T19:02:02.009386Z",
     "start_time": "2018-08-27T19:02:02.005718Z"
    }
   },
   "outputs": [],
   "source": [
    "my_queue"
   ]
  },
  {
   "cell_type": "markdown",
   "metadata": {},
   "source": [
    "You can also pop from the front"
   ]
  },
  {
   "cell_type": "code",
   "execution_count": null,
   "metadata": {
    "ExecuteTime": {
     "end_time": "2018-08-27T19:02:02.014902Z",
     "start_time": "2018-08-27T19:02:02.010955Z"
    }
   },
   "outputs": [],
   "source": [
    "my_queue.pop(0)"
   ]
  },
  {
   "cell_type": "markdown",
   "metadata": {},
   "source": [
    "### Sets"
   ]
  },
  {
   "cell_type": "code",
   "execution_count": null,
   "metadata": {
    "ExecuteTime": {
     "end_time": "2018-09-23T01:03:33.871250Z",
     "start_time": "2018-09-23T01:03:33.867272Z"
    }
   },
   "outputs": [],
   "source": [
    "my_set = {1, 2, 3}\n",
    "my_set"
   ]
  },
  {
   "cell_type": "code",
   "execution_count": null,
   "metadata": {
    "ExecuteTime": {
     "end_time": "2018-09-23T01:04:01.804159Z",
     "start_time": "2018-09-23T01:04:01.800197Z"
    }
   },
   "outputs": [],
   "source": [
    "type(my_set)"
   ]
  },
  {
   "cell_type": "code",
   "execution_count": null,
   "metadata": {
    "ExecuteTime": {
     "end_time": "2018-08-27T19:02:02.018995Z",
     "start_time": "2018-08-27T19:02:02.016587Z"
    }
   },
   "outputs": [],
   "source": [
    "my_set_a  = set()\n",
    "my_set_b = {1, 2, 3}"
   ]
  },
  {
   "cell_type": "code",
   "execution_count": null,
   "metadata": {
    "ExecuteTime": {
     "end_time": "2018-08-27T19:02:02.024398Z",
     "start_time": "2018-08-27T19:02:02.021763Z"
    }
   },
   "outputs": [],
   "source": [
    "my_set_a.add(1)\n",
    "my_set_a.add(5)"
   ]
  },
  {
   "cell_type": "code",
   "execution_count": null,
   "metadata": {
    "ExecuteTime": {
     "end_time": "2018-08-27T19:02:02.029418Z",
     "start_time": "2018-08-27T19:02:02.025717Z"
    }
   },
   "outputs": [],
   "source": [
    "1 in my_set_a, 5 in my_set_b"
   ]
  },
  {
   "cell_type": "code",
   "execution_count": null,
   "metadata": {
    "ExecuteTime": {
     "end_time": "2018-08-27T19:02:02.035060Z",
     "start_time": "2018-08-27T19:02:02.031147Z"
    }
   },
   "outputs": [],
   "source": [
    "{1, 2, 3}.union({3, 4, 5})"
   ]
  },
  {
   "cell_type": "code",
   "execution_count": null,
   "metadata": {
    "ExecuteTime": {
     "end_time": "2018-08-27T19:02:02.040584Z",
     "start_time": "2018-08-27T19:02:02.036561Z"
    }
   },
   "outputs": [],
   "source": [
    "{1, 2, 3}.intersection({3, 4, 5})"
   ]
  },
  {
   "cell_type": "code",
   "execution_count": null,
   "metadata": {
    "ExecuteTime": {
     "end_time": "2018-08-27T19:02:02.045723Z",
     "start_time": "2018-08-27T19:02:02.042280Z"
    }
   },
   "outputs": [],
   "source": [
    "my_set_a.difference(my_set_b)"
   ]
  },
  {
   "cell_type": "markdown",
   "metadata": {},
   "source": [
    "### Dictionaries"
   ]
  },
  {
   "cell_type": "code",
   "execution_count": null,
   "metadata": {
    "ExecuteTime": {
     "end_time": "2018-09-23T16:34:40.433767Z",
     "start_time": "2018-09-23T16:34:40.427719Z"
    }
   },
   "outputs": [],
   "source": [
    "my_dict = {\"one\": 1, \"two\": 2}\n",
    "my_dict"
   ]
  },
  {
   "cell_type": "code",
   "execution_count": null,
   "metadata": {
    "ExecuteTime": {
     "end_time": "2018-09-23T16:34:47.826786Z",
     "start_time": "2018-09-23T16:34:47.821424Z"
    }
   },
   "outputs": [],
   "source": [
    "type(my_dict)"
   ]
  },
  {
   "cell_type": "code",
   "execution_count": null,
   "metadata": {
    "ExecuteTime": {
     "end_time": "2018-09-23T16:35:12.147168Z",
     "start_time": "2018-09-23T16:35:12.142717Z"
    }
   },
   "outputs": [],
   "source": [
    "my_dict[\"two\"]"
   ]
  },
  {
   "cell_type": "code",
   "execution_count": null,
   "metadata": {
    "ExecuteTime": {
     "end_time": "2018-09-23T16:35:12.856021Z",
     "start_time": "2018-09-23T16:35:12.851388Z"
    }
   },
   "outputs": [],
   "source": [
    "\"one\" in my_dict"
   ]
  },
  {
   "cell_type": "code",
   "execution_count": null,
   "metadata": {
    "ExecuteTime": {
     "end_time": "2018-09-23T16:35:14.543162Z",
     "start_time": "2018-09-23T16:35:14.538169Z"
    }
   },
   "outputs": [],
   "source": [
    "1 in my_dict"
   ]
  },
  {
   "cell_type": "code",
   "execution_count": null,
   "metadata": {
    "ExecuteTime": {
     "end_time": "2018-09-23T16:35:26.570166Z",
     "start_time": "2018-09-23T16:35:26.565697Z"
    }
   },
   "outputs": [],
   "source": [
    "my_dict.keys()"
   ]
  },
  {
   "cell_type": "code",
   "execution_count": null,
   "metadata": {
    "ExecuteTime": {
     "end_time": "2018-09-23T16:37:49.590474Z",
     "start_time": "2018-09-23T16:37:49.586152Z"
    }
   },
   "outputs": [],
   "source": [
    "my_dict.values()"
   ]
  },
  {
   "cell_type": "code",
   "execution_count": null,
   "metadata": {
    "ExecuteTime": {
     "end_time": "2018-09-23T16:37:50.478479Z",
     "start_time": "2018-09-23T16:37:50.474015Z"
    }
   },
   "outputs": [],
   "source": [
    "my_dict.items()"
   ]
  },
  {
   "cell_type": "code",
   "execution_count": null,
   "metadata": {
    "ExecuteTime": {
     "end_time": "2018-09-23T16:37:51.788764Z",
     "start_time": "2018-09-23T16:37:51.783567Z"
    }
   },
   "outputs": [],
   "source": [
    "dict(one=1, two=2)"
   ]
  },
  {
   "cell_type": "code",
   "execution_count": null,
   "metadata": {
    "ExecuteTime": {
     "end_time": "2018-09-23T16:37:55.038331Z",
     "start_time": "2018-09-23T16:37:55.032608Z"
    }
   },
   "outputs": [],
   "source": [
    "new_dict = dict(my_dict.items())\n",
    "new_dict"
   ]
  },
  {
   "cell_type": "code",
   "execution_count": null,
   "metadata": {
    "ExecuteTime": {
     "end_time": "2018-09-23T16:37:56.454837Z",
     "start_time": "2018-09-23T16:37:56.449926Z"
    }
   },
   "outputs": [],
   "source": [
    "new_dict == my_dict"
   ]
  },
  {
   "cell_type": "code",
   "execution_count": null,
   "metadata": {
    "ExecuteTime": {
     "end_time": "2018-09-23T16:38:05.367426Z",
     "start_time": "2018-09-23T16:38:05.362214Z"
    }
   },
   "outputs": [],
   "source": [
    "new_dict is my_dict"
   ]
  },
  {
   "cell_type": "code",
   "execution_count": null,
   "metadata": {
    "ExecuteTime": {
     "end_time": "2018-09-23T16:38:05.863081Z",
     "start_time": "2018-09-23T16:38:05.854380Z"
    }
   },
   "outputs": [],
   "source": [
    "id(new_dict),  id(my_dict)"
   ]
  },
  {
   "cell_type": "markdown",
   "metadata": {},
   "source": [
    "# Exercises\n",
    "Using the slice operator, invert the elements of the list below, then remove the first and the last elements."
   ]
  },
  {
   "cell_type": "code",
   "execution_count": null,
   "metadata": {
    "ExecuteTime": {
     "end_time": "2018-08-27T19:02:02.106395Z",
     "start_time": "2018-08-27T19:02:02.103088Z"
    }
   },
   "outputs": [],
   "source": [
    "[1, 2, 3, 4, 5]"
   ]
  },
  {
   "cell_type": "markdown",
   "metadata": {},
   "source": [
    "Execute the cell below, then:\n",
    "1. remove all the duplicates in the list refered by __sequence__\n",
    "2. sort the results in descending order\n",
    "3. store the results in a variable __result__ as a list"
   ]
  },
  {
   "cell_type": "code",
   "execution_count": null,
   "metadata": {
    "ExecuteTime": {
     "end_time": "2018-09-23T16:41:08.984446Z",
     "start_time": "2018-09-23T16:41:08.981309Z"
    }
   },
   "outputs": [],
   "source": [
    "import random\n",
    "sequence = []\n",
    "for i in range(20):\n",
    "    sequence.append(random.choice(range(100)))"
   ]
  },
  {
   "cell_type": "code",
   "execution_count": null,
   "metadata": {
    "ExecuteTime": {
     "end_time": "2018-09-23T16:41:10.494462Z",
     "start_time": "2018-09-23T16:41:10.489229Z"
    }
   },
   "outputs": [],
   "source": [
    "sequence"
   ]
  },
  {
   "cell_type": "code",
   "execution_count": null,
   "metadata": {},
   "outputs": [],
   "source": []
  }
 ],
 "metadata": {
  "hide_input": false,
  "kernelspec": {
   "display_name": "Python 3",
   "language": "python",
   "name": "python3"
  },
  "language_info": {
   "codemirror_mode": {
    "name": "ipython",
    "version": 3
   },
   "file_extension": ".py",
   "mimetype": "text/x-python",
   "name": "python",
   "nbconvert_exporter": "python",
   "pygments_lexer": "ipython3",
   "version": "3.6.5"
  },
  "toc": {
   "colors": {
    "hover_highlight": "#DAA520",
    "navigate_num": "#000000",
    "navigate_text": "#333333",
    "running_highlight": "#FF0000",
    "selected_highlight": "#FFD700",
    "sidebar_border": "#EEEEEE",
    "wrapper_background": "#FFFFFF"
   },
   "moveMenuLeft": true,
   "nav_menu": {
    "height": "164px",
    "width": "252px"
   },
   "navigate_menu": true,
   "number_sections": true,
   "sideBar": true,
   "threshold": 4,
   "toc_cell": false,
   "toc_section_display": "block",
   "toc_window_display": false,
   "widenNotebook": false
  }
 },
 "nbformat": 4,
 "nbformat_minor": 2
}
