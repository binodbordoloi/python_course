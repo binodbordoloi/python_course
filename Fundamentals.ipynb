{
 "cells": [
  {
   "cell_type": "markdown",
   "metadata": {},
   "source": [
    "# Python Programming Fundamentals\n",
    "\n",
    "This webinar is split into 4 parts:\n",
    "* Part 1 - Fundamentals: Scalar and Compound Types\n",
    "* Part 2 - Namespaces: Functions, Classes, Modules and Packages\n",
    "* Part 3 - Object Orientation\n",
    "* Part 4 - Functional Programming\n",
    "\n",
    "\n",
    "# Fundamentals\n",
    "\n",
    "In this first part, we will visit first the main scalar and compound types in Python, and then explore the statements that allow us to manipulate those types to build programs.\n",
    "We are going to use the REPL (Read-Eval-Print-Loop) as the main tool to explore the language."
   ]
  },
  {
   "cell_type": "markdown",
   "metadata": {},
   "source": [
    "We start by exploring Python scalar native types at the REPL.\n",
    "We will use some builtin functions to explain the connection between scalar types and Python's Object Oriented nature."
   ]
  },
  {
   "cell_type": "markdown",
   "metadata": {},
   "source": [
    "## Numbers and using Python as a calculator"
   ]
  },
  {
   "cell_type": "code",
   "execution_count": 313,
   "metadata": {
    "ExecuteTime": {
     "end_time": "2018-08-27T19:02:01.588675Z",
     "start_time": "2018-08-27T19:02:01.584992Z"
    }
   },
   "outputs": [
    {
     "data": {
      "text/plain": [
       "1"
      ]
     },
     "execution_count": 313,
     "metadata": {},
     "output_type": "execute_result"
    }
   ],
   "source": [
    "1"
   ]
  },
  {
   "cell_type": "code",
   "execution_count": 314,
   "metadata": {
    "ExecuteTime": {
     "end_time": "2018-08-27T19:02:01.596707Z",
     "start_time": "2018-08-27T19:02:01.592985Z"
    }
   },
   "outputs": [
    {
     "data": {
      "text/plain": [
       "int"
      ]
     },
     "execution_count": 314,
     "metadata": {},
     "output_type": "execute_result"
    }
   ],
   "source": [
    "type(1)"
   ]
  },
  {
   "cell_type": "code",
   "execution_count": 315,
   "metadata": {
    "ExecuteTime": {
     "end_time": "2018-08-27T19:02:01.602552Z",
     "start_time": "2018-08-27T19:02:01.598895Z"
    }
   },
   "outputs": [
    {
     "data": {
      "text/plain": [
       "1.0"
      ]
     },
     "execution_count": 315,
     "metadata": {},
     "output_type": "execute_result"
    }
   ],
   "source": [
    "1.0"
   ]
  },
  {
   "cell_type": "code",
   "execution_count": 316,
   "metadata": {
    "ExecuteTime": {
     "end_time": "2018-08-27T19:02:01.608359Z",
     "start_time": "2018-08-27T19:02:01.604399Z"
    }
   },
   "outputs": [
    {
     "data": {
      "text/plain": [
       "float"
      ]
     },
     "execution_count": 316,
     "metadata": {},
     "output_type": "execute_result"
    }
   ],
   "source": [
    "type(1.0)"
   ]
  },
  {
   "cell_type": "markdown",
   "metadata": {},
   "source": [
    "We even have complex numbers as native scalar types!"
   ]
  },
  {
   "cell_type": "code",
   "execution_count": 317,
   "metadata": {
    "ExecuteTime": {
     "end_time": "2018-08-27T19:02:01.613507Z",
     "start_time": "2018-08-27T19:02:01.610122Z"
    }
   },
   "outputs": [
    {
     "data": {
      "text/plain": [
       "(1+0j)"
      ]
     },
     "execution_count": 317,
     "metadata": {},
     "output_type": "execute_result"
    }
   ],
   "source": [
    "1 + 0j"
   ]
  },
  {
   "cell_type": "code",
   "execution_count": 318,
   "metadata": {
    "ExecuteTime": {
     "end_time": "2018-08-27T19:02:01.619060Z",
     "start_time": "2018-08-27T19:02:01.614941Z"
    }
   },
   "outputs": [
    {
     "data": {
      "text/plain": [
       "complex"
      ]
     },
     "execution_count": 318,
     "metadata": {},
     "output_type": "execute_result"
    }
   ],
   "source": [
    "type(1 + 0j)"
   ]
  },
  {
   "cell_type": "code",
   "execution_count": 319,
   "metadata": {
    "ExecuteTime": {
     "end_time": "2018-08-27T19:02:01.624406Z",
     "start_time": "2018-08-27T19:02:01.620890Z"
    }
   },
   "outputs": [
    {
     "data": {
      "text/plain": [
       "True"
      ]
     },
     "execution_count": 319,
     "metadata": {},
     "output_type": "execute_result"
    }
   ],
   "source": [
    "1.0 == 1"
   ]
  },
  {
   "cell_type": "code",
   "execution_count": 320,
   "metadata": {
    "ExecuteTime": {
     "end_time": "2018-08-27T19:02:01.629684Z",
     "start_time": "2018-08-27T19:02:01.626228Z"
    }
   },
   "outputs": [
    {
     "data": {
      "text/plain": [
       "True"
      ]
     },
     "execution_count": 320,
     "metadata": {},
     "output_type": "execute_result"
    }
   ],
   "source": [
    "1 + 0j == 1"
   ]
  },
  {
   "cell_type": "code",
   "execution_count": 321,
   "metadata": {
    "ExecuteTime": {
     "end_time": "2018-08-27T19:02:01.635051Z",
     "start_time": "2018-08-27T19:02:01.631397Z"
    }
   },
   "outputs": [
    {
     "data": {
      "text/plain": [
       "False"
      ]
     },
     "execution_count": 321,
     "metadata": {},
     "output_type": "execute_result"
    }
   ],
   "source": [
    "type(1 + 0j) == type(1)"
   ]
  },
  {
   "cell_type": "code",
   "execution_count": 322,
   "metadata": {
    "ExecuteTime": {
     "end_time": "2018-08-27T19:02:01.640287Z",
     "start_time": "2018-08-27T19:02:01.636718Z"
    }
   },
   "outputs": [
    {
     "data": {
      "text/plain": [
       "1.5"
      ]
     },
     "execution_count": 322,
     "metadata": {},
     "output_type": "execute_result"
    }
   ],
   "source": [
    "3 / 2"
   ]
  },
  {
   "cell_type": "code",
   "execution_count": 323,
   "metadata": {
    "ExecuteTime": {
     "end_time": "2018-08-27T19:02:01.646066Z",
     "start_time": "2018-08-27T19:02:01.641771Z"
    }
   },
   "outputs": [
    {
     "data": {
      "text/plain": [
       "1"
      ]
     },
     "execution_count": 323,
     "metadata": {},
     "output_type": "execute_result"
    }
   ],
   "source": [
    "3 // 2"
   ]
  },
  {
   "cell_type": "code",
   "execution_count": 324,
   "metadata": {
    "ExecuteTime": {
     "end_time": "2018-08-27T19:02:01.654169Z",
     "start_time": "2018-08-27T19:02:01.647906Z"
    }
   },
   "outputs": [
    {
     "ename": "ZeroDivisionError",
     "evalue": "division by zero",
     "output_type": "error",
     "traceback": [
      "\u001b[0;31m---------------------------------------------------------------------------\u001b[0m",
      "\u001b[0;31mZeroDivisionError\u001b[0m                         Traceback (most recent call last)",
      "\u001b[0;32m<ipython-input-324-bc757c3fda29>\u001b[0m in \u001b[0;36m<module>\u001b[0;34m()\u001b[0m\n\u001b[0;32m----> 1\u001b[0;31m \u001b[0;36m1\u001b[0m \u001b[0;34m/\u001b[0m \u001b[0;36m0\u001b[0m\u001b[0;34m\u001b[0m\u001b[0m\n\u001b[0m",
      "\u001b[0;31mZeroDivisionError\u001b[0m: division by zero"
     ]
    }
   ],
   "source": [
    "1 / 0"
   ]
  },
  {
   "cell_type": "code",
   "execution_count": null,
   "metadata": {
    "ExecuteTime": {
     "end_time": "2018-08-27T19:02:01.654965Z",
     "start_time": "2018-08-27T19:02:01.623Z"
    }
   },
   "outputs": [],
   "source": [
    "2*2*2"
   ]
  },
  {
   "cell_type": "code",
   "execution_count": null,
   "metadata": {
    "ExecuteTime": {
     "end_time": "2018-08-27T19:02:01.656833Z",
     "start_time": "2018-08-27T19:02:01.625Z"
    }
   },
   "outputs": [],
   "source": [
    "2**3"
   ]
  },
  {
   "cell_type": "code",
   "execution_count": null,
   "metadata": {
    "ExecuteTime": {
     "end_time": "2018-08-27T19:02:01.658059Z",
     "start_time": "2018-08-27T19:02:01.628Z"
    }
   },
   "outputs": [],
   "source": [
    "2**1024"
   ]
  },
  {
   "cell_type": "code",
   "execution_count": null,
   "metadata": {
    "ExecuteTime": {
     "end_time": "2018-08-27T19:02:01.658955Z",
     "start_time": "2018-08-27T19:02:01.630Z"
    }
   },
   "outputs": [],
   "source": [
    "2**4096"
   ]
  },
  {
   "cell_type": "code",
   "execution_count": null,
   "metadata": {
    "ExecuteTime": {
     "end_time": "2018-08-27T19:02:01.659735Z",
     "start_time": "2018-08-27T19:02:01.633Z"
    }
   },
   "outputs": [],
   "source": [
    "_"
   ]
  },
  {
   "cell_type": "code",
   "execution_count": null,
   "metadata": {
    "ExecuteTime": {
     "end_time": "2018-08-27T19:02:01.660687Z",
     "start_time": "2018-08-27T19:02:01.635Z"
    }
   },
   "outputs": [],
   "source": [
    "_ + 1"
   ]
  },
  {
   "cell_type": "code",
   "execution_count": null,
   "metadata": {
    "ExecuteTime": {
     "end_time": "2018-08-27T19:02:01.661617Z",
     "start_time": "2018-08-27T19:02:01.638Z"
    }
   },
   "outputs": [],
   "source": [
    "2**4096 / 2"
   ]
  },
  {
   "cell_type": "markdown",
   "metadata": {},
   "source": [
    "Advanced topic, for those who want to go further after the webinar ..."
   ]
  },
  {
   "cell_type": "code",
   "execution_count": null,
   "metadata": {
    "ExecuteTime": {
     "end_time": "2018-08-27T19:02:01.662406Z",
     "start_time": "2018-08-27T19:02:01.642Z"
    }
   },
   "outputs": [],
   "source": [
    "from decimal import Decimal\n",
    "Decimal(2**4096) / 2"
   ]
  },
  {
   "cell_type": "markdown",
   "metadata": {},
   "source": [
    "## The Assignment Statement\n",
    "We use the assignment statement to bind names to values"
   ]
  },
  {
   "cell_type": "code",
   "execution_count": null,
   "metadata": {
    "ExecuteTime": {
     "end_time": "2018-08-27T19:02:01.666125Z",
     "start_time": "2018-08-27T19:02:01.646Z"
    }
   },
   "outputs": [],
   "source": [
    "x = 12"
   ]
  },
  {
   "cell_type": "code",
   "execution_count": null,
   "metadata": {
    "ExecuteTime": {
     "end_time": "2018-08-27T19:02:01.669948Z",
     "start_time": "2018-08-27T19:02:01.650Z"
    }
   },
   "outputs": [],
   "source": [
    "x"
   ]
  },
  {
   "cell_type": "code",
   "execution_count": null,
   "metadata": {
    "ExecuteTime": {
     "end_time": "2018-08-27T19:02:01.674506Z",
     "start_time": "2018-08-27T19:02:01.654Z"
    }
   },
   "outputs": [],
   "source": [
    "type(x)"
   ]
  },
  {
   "cell_type": "code",
   "execution_count": null,
   "metadata": {
    "ExecuteTime": {
     "end_time": "2018-08-27T19:02:01.678530Z",
     "start_time": "2018-08-27T19:02:01.657Z"
    }
   },
   "outputs": [],
   "source": [
    "x**2"
   ]
  },
  {
   "cell_type": "markdown",
   "metadata": {},
   "source": [
    "There is destructuring "
   ]
  },
  {
   "cell_type": "code",
   "execution_count": null,
   "metadata": {},
   "outputs": [],
   "source": []
  },
  {
   "cell_type": "markdown",
   "metadata": {},
   "source": [
    "## Strings"
   ]
  },
  {
   "cell_type": "code",
   "execution_count": null,
   "metadata": {
    "ExecuteTime": {
     "end_time": "2018-08-27T19:02:01.725233Z",
     "start_time": "2018-08-27T19:02:01.723Z"
    }
   },
   "outputs": [],
   "source": [
    "'single quotes'"
   ]
  },
  {
   "cell_type": "code",
   "execution_count": null,
   "metadata": {
    "ExecuteTime": {
     "end_time": "2018-08-27T19:02:01.728510Z",
     "start_time": "2018-08-27T19:02:01.726Z"
    }
   },
   "outputs": [],
   "source": [
    "\"double quotes\""
   ]
  },
  {
   "cell_type": "code",
   "execution_count": null,
   "metadata": {
    "ExecuteTime": {
     "end_time": "2018-08-27T19:02:01.732590Z",
     "start_time": "2018-08-27T19:02:01.730Z"
    }
   },
   "outputs": [],
   "source": [
    "'''triple\n",
    "single\n",
    "quotes\n",
    "'''"
   ]
  },
  {
   "cell_type": "code",
   "execution_count": null,
   "metadata": {
    "ExecuteTime": {
     "end_time": "2018-08-27T19:02:01.737699Z",
     "start_time": "2018-08-27T19:02:01.735Z"
    }
   },
   "outputs": [],
   "source": [
    "\"\"\"triple\n",
    "'double'\n",
    "quotes\n",
    "\"\"\""
   ]
  },
  {
   "cell_type": "code",
   "execution_count": null,
   "metadata": {
    "ExecuteTime": {
     "end_time": "2018-08-27T19:02:01.741472Z",
     "start_time": "2018-08-27T19:02:01.739Z"
    }
   },
   "outputs": [],
   "source": [
    "type(\"some string\")"
   ]
  },
  {
   "cell_type": "code",
   "execution_count": null,
   "metadata": {
    "ExecuteTime": {
     "end_time": "2018-08-27T19:02:01.745353Z",
     "start_time": "2018-08-27T19:02:01.744Z"
    }
   },
   "outputs": [],
   "source": [
    "\" one two three \".strip()"
   ]
  },
  {
   "cell_type": "markdown",
   "metadata": {},
   "source": [
    "Understanding the slice operator indexing\n",
    "```\n",
    " +---+---+---+---+---+---+\n",
    " | P | y | t | h | o | n |\n",
    " +---+---+---+---+---+---+\n",
    " 0   1   2   3   4   5   6\n",
    "-6  -5  -4  -3  -2  -1\n",
    "```\n",
    "From: https://docs.python.org/3/tutorial/introduction.html"
   ]
  },
  {
   "cell_type": "code",
   "execution_count": null,
   "metadata": {
    "ExecuteTime": {
     "end_time": "2018-08-27T19:02:01.749102Z",
     "start_time": "2018-08-27T19:02:01.748Z"
    }
   },
   "outputs": [],
   "source": [
    "\"strings are sequence of chars indexed by 0\"[0]"
   ]
  },
  {
   "cell_type": "code",
   "execution_count": null,
   "metadata": {
    "ExecuteTime": {
     "end_time": "2018-08-27T19:02:01.752289Z",
     "start_time": "2018-08-27T19:02:01.751Z"
    }
   },
   "outputs": [],
   "source": [
    "\"the slice operator allows us to cut strings\"[4:9]"
   ]
  },
  {
   "cell_type": "code",
   "execution_count": null,
   "metadata": {
    "ExecuteTime": {
     "end_time": "2018-08-27T19:02:01.755664Z",
     "start_time": "2018-08-27T19:02:01.754Z"
    }
   },
   "outputs": [],
   "source": [
    "\"the index also comes from the end with negative values\"[-1]"
   ]
  },
  {
   "cell_type": "code",
   "execution_count": null,
   "metadata": {
    "ExecuteTime": {
     "end_time": "2018-08-27T19:02:01.759334Z",
     "start_time": "2018-08-27T19:02:01.756Z"
    }
   },
   "outputs": [],
   "source": [
    "\"you can cut just the value from the end\"[-7:]"
   ]
  },
  {
   "cell_type": "code",
   "execution_count": null,
   "metadata": {
    "ExecuteTime": {
     "end_time": "2018-08-27T19:02:01.762899Z",
     "start_time": "2018-08-27T19:02:01.759Z"
    }
   },
   "outputs": [],
   "source": [
    "\"y o u   c a n   s k i p\"[::2]"
   ]
  },
  {
   "cell_type": "code",
   "execution_count": null,
   "metadata": {
    "ExecuteTime": {
     "end_time": "2018-08-27T19:02:01.766276Z",
     "start_time": "2018-08-27T19:02:01.763Z"
    }
   },
   "outputs": [],
   "source": [
    "\"you can also reverse: 1 2 3\"[-1:-6:-1]"
   ]
  },
  {
   "cell_type": "code",
   "execution_count": null,
   "metadata": {
    "ExecuteTime": {
     "end_time": "2018-08-27T19:02:01.769901Z",
     "start_time": "2018-08-27T19:02:01.766Z"
    }
   },
   "outputs": [],
   "source": [
    "\"super_useful.txt\"[6:-4]"
   ]
  },
  {
   "cell_type": "markdown",
   "metadata": {},
   "source": [
    "## Convert one type into another"
   ]
  },
  {
   "cell_type": "markdown",
   "metadata": {},
   "source": [
    "The type names can be used as \"casting\" functions, to convert values between types (i.e. create new objects)"
   ]
  },
  {
   "cell_type": "code",
   "execution_count": null,
   "metadata": {
    "ExecuteTime": {
     "end_time": "2018-08-27T19:02:01.774458Z",
     "start_time": "2018-08-27T19:02:01.774Z"
    }
   },
   "outputs": [],
   "source": [
    "type(\"1\")"
   ]
  },
  {
   "cell_type": "code",
   "execution_count": null,
   "metadata": {
    "ExecuteTime": {
     "end_time": "2018-08-27T19:02:01.778020Z",
     "start_time": "2018-08-27T19:02:01.776Z"
    }
   },
   "outputs": [],
   "source": [
    "type(1)"
   ]
  },
  {
   "cell_type": "code",
   "execution_count": null,
   "metadata": {
    "ExecuteTime": {
     "end_time": "2018-08-27T19:02:01.782636Z",
     "start_time": "2018-08-27T19:02:01.781Z"
    }
   },
   "outputs": [],
   "source": [
    "int(\"1\")==1"
   ]
  },
  {
   "cell_type": "code",
   "execution_count": null,
   "metadata": {
    "ExecuteTime": {
     "end_time": "2018-08-27T19:02:01.785892Z",
     "start_time": "2018-08-27T19:02:01.784Z"
    }
   },
   "outputs": [],
   "source": [
    "str(1)=='1'"
   ]
  },
  {
   "cell_type": "markdown",
   "metadata": {
    "ExecuteTime": {
     "end_time": "2018-08-11T11:46:06.603915Z",
     "start_time": "2018-08-11T11:46:06.600104Z"
    }
   },
   "source": [
    "There is **no implicit casting** in the language. We do a comparisom with javascript to illustrate the different approach between to dynamically typed languages, but one is loosely typed (Javascript) and the other strongly typed (Python)."
   ]
  },
  {
   "cell_type": "code",
   "execution_count": null,
   "metadata": {
    "ExecuteTime": {
     "end_time": "2018-08-27T19:02:01.791298Z",
     "start_time": "2018-08-27T19:02:01.788Z"
    }
   },
   "outputs": [],
   "source": [
    "%%javascript\n",
    "console.log(1==\"1\")\n",
    "console.log(1+\"1\")\n",
    "console.log(2*\"2\")"
   ]
  },
  {
   "cell_type": "markdown",
   "metadata": {},
   "source": [
    "In Python, operators between different types do not perform explicit type casting"
   ]
  },
  {
   "cell_type": "code",
   "execution_count": null,
   "metadata": {
    "ExecuteTime": {
     "end_time": "2018-08-27T19:02:01.795550Z",
     "start_time": "2018-08-27T19:02:01.793Z"
    }
   },
   "outputs": [],
   "source": [
    "1 + \"1\""
   ]
  },
  {
   "cell_type": "markdown",
   "metadata": {},
   "source": [
    "But, because everything is an object, operator overloading is supported in the language"
   ]
  },
  {
   "cell_type": "code",
   "execution_count": null,
   "metadata": {
    "ExecuteTime": {
     "end_time": "2018-08-27T19:02:01.799280Z",
     "start_time": "2018-08-27T19:02:01.797Z"
    }
   },
   "outputs": [],
   "source": [
    "\"Blah \"*3"
   ]
  },
  {
   "cell_type": "markdown",
   "metadata": {},
   "source": [
    "## Compound Data Structures\n",
    "\n",
    "There are 4 native compound types: List, Tuple, Dict and Set."
   ]
  },
  {
   "cell_type": "code",
   "execution_count": null,
   "metadata": {
    "ExecuteTime": {
     "end_time": "2018-08-27T19:02:01.803078Z",
     "start_time": "2018-08-27T19:02:01.802Z"
    }
   },
   "outputs": [],
   "source": [
    "my_list = [1, 2, 3]\n",
    "my_list"
   ]
  },
  {
   "cell_type": "code",
   "execution_count": null,
   "metadata": {
    "ExecuteTime": {
     "end_time": "2018-08-27T19:02:01.806507Z",
     "start_time": "2018-08-27T19:02:01.805Z"
    }
   },
   "outputs": [],
   "source": [
    "type(my_list)"
   ]
  },
  {
   "cell_type": "code",
   "execution_count": null,
   "metadata": {
    "ExecuteTime": {
     "end_time": "2018-08-27T19:02:01.810061Z",
     "start_time": "2018-08-27T19:02:01.808Z"
    }
   },
   "outputs": [],
   "source": [
    "my_tuple = (1, 2, 3, 4, 5)\n",
    "my_tuple"
   ]
  },
  {
   "cell_type": "code",
   "execution_count": null,
   "metadata": {
    "ExecuteTime": {
     "end_time": "2018-08-27T19:02:01.813543Z",
     "start_time": "2018-08-27T19:02:01.811Z"
    }
   },
   "outputs": [],
   "source": [
    "type(my_tuple)"
   ]
  },
  {
   "cell_type": "code",
   "execution_count": null,
   "metadata": {
    "ExecuteTime": {
     "end_time": "2018-08-27T19:02:01.817007Z",
     "start_time": "2018-08-27T19:02:01.815Z"
    }
   },
   "outputs": [],
   "source": [
    "my_set = {1, 2, 3}\n",
    "my_set"
   ]
  },
  {
   "cell_type": "code",
   "execution_count": null,
   "metadata": {
    "ExecuteTime": {
     "end_time": "2018-08-27T19:02:01.820303Z",
     "start_time": "2018-08-27T19:02:01.819Z"
    }
   },
   "outputs": [],
   "source": [
    "type(my_set)"
   ]
  },
  {
   "cell_type": "code",
   "execution_count": null,
   "metadata": {
    "ExecuteTime": {
     "end_time": "2018-08-27T19:02:01.823866Z",
     "start_time": "2018-08-27T19:02:01.821Z"
    }
   },
   "outputs": [],
   "source": [
    "my_dict = {\"one\": 1, \"two\": 2}\n",
    "my_dict"
   ]
  },
  {
   "cell_type": "code",
   "execution_count": null,
   "metadata": {
    "ExecuteTime": {
     "end_time": "2018-08-27T19:02:01.827229Z",
     "start_time": "2018-08-27T19:02:01.824Z"
    }
   },
   "outputs": [],
   "source": [
    "type(my_dict)"
   ]
  },
  {
   "cell_type": "markdown",
   "metadata": {},
   "source": [
    "Tuples (immutable) and Lists (mutable) are both sequences (like strings), thus \"sliceable\""
   ]
  },
  {
   "cell_type": "code",
   "execution_count": null,
   "metadata": {
    "ExecuteTime": {
     "end_time": "2018-08-27T19:02:01.832382Z",
     "start_time": "2018-08-27T19:02:01.828Z"
    }
   },
   "outputs": [],
   "source": [
    "my_tuple[2]"
   ]
  },
  {
   "cell_type": "code",
   "execution_count": null,
   "metadata": {
    "ExecuteTime": {
     "end_time": "2018-08-27T19:02:01.833306Z",
     "start_time": "2018-08-27T19:02:01.831Z"
    }
   },
   "outputs": [],
   "source": [
    "my_tuple[2:-1]"
   ]
  },
  {
   "cell_type": "markdown",
   "metadata": {},
   "source": [
    "Lists and Tuples can be easily combined"
   ]
  },
  {
   "cell_type": "code",
   "execution_count": null,
   "metadata": {
    "ExecuteTime": {
     "end_time": "2018-08-27T19:02:01.837870Z",
     "start_time": "2018-08-27T19:02:01.836Z"
    }
   },
   "outputs": [],
   "source": [
    "[1, 2, 3] + [1, 2, 3]"
   ]
  },
  {
   "cell_type": "code",
   "execution_count": null,
   "metadata": {
    "ExecuteTime": {
     "end_time": "2018-08-27T19:02:01.841286Z",
     "start_time": "2018-08-27T19:02:01.839Z"
    }
   },
   "outputs": [],
   "source": [
    "(1, 2, 3) + (1, 2, 3)"
   ]
  },
  {
   "cell_type": "markdown",
   "metadata": {},
   "source": [
    "But between only between themselves."
   ]
  },
  {
   "cell_type": "code",
   "execution_count": null,
   "metadata": {
    "ExecuteTime": {
     "end_time": "2018-08-27T19:02:01.845240Z",
     "start_time": "2018-08-27T19:02:01.843Z"
    }
   },
   "outputs": [],
   "source": [
    "(1, 2, 3) + [1, 2, 3]"
   ]
  },
  {
   "cell_type": "markdown",
   "metadata": {},
   "source": [
    "But we can easily transform one into the other"
   ]
  },
  {
   "cell_type": "code",
   "execution_count": 325,
   "metadata": {
    "ExecuteTime": {
     "end_time": "2018-08-27T19:02:01.905280Z",
     "start_time": "2018-08-27T19:02:01.901314Z"
    }
   },
   "outputs": [
    {
     "data": {
      "text/plain": [
       "[1, 2, 3, 1, 2, 3]"
      ]
     },
     "execution_count": 325,
     "metadata": {},
     "output_type": "execute_result"
    }
   ],
   "source": [
    "list((1, 2, 3)) + [1, 2, 3]"
   ]
  },
  {
   "cell_type": "code",
   "execution_count": 326,
   "metadata": {
    "ExecuteTime": {
     "end_time": "2018-08-27T19:02:01.917381Z",
     "start_time": "2018-08-27T19:02:01.912957Z"
    }
   },
   "outputs": [
    {
     "data": {
      "text/plain": [
       "(1, 2, 3, 1, 2, 3)"
      ]
     },
     "execution_count": 326,
     "metadata": {},
     "output_type": "execute_result"
    }
   ],
   "source": [
    "(1, 2, 3) + tuple([1, 2, 3])"
   ]
  },
  {
   "cell_type": "markdown",
   "metadata": {
    "ExecuteTime": {
     "end_time": "2018-08-27T18:45:55.351841Z",
     "start_time": "2018-08-27T18:45:55.348439Z"
    }
   },
   "source": [
    "List can work as stacks (First-in, Last-out)"
   ]
  },
  {
   "cell_type": "code",
   "execution_count": 327,
   "metadata": {
    "ExecuteTime": {
     "end_time": "2018-08-27T19:02:01.921347Z",
     "start_time": "2018-08-27T19:02:01.919026Z"
    }
   },
   "outputs": [],
   "source": [
    "my_list = []"
   ]
  },
  {
   "cell_type": "code",
   "execution_count": 328,
   "metadata": {
    "ExecuteTime": {
     "end_time": "2018-08-27T19:02:01.932631Z",
     "start_time": "2018-08-27T19:02:01.929712Z"
    }
   },
   "outputs": [],
   "source": [
    "my_list.append(1)\n",
    "my_list.append(2)\n",
    "my_list.append(3)"
   ]
  },
  {
   "cell_type": "code",
   "execution_count": 329,
   "metadata": {
    "ExecuteTime": {
     "end_time": "2018-08-27T19:02:01.946230Z",
     "start_time": "2018-08-27T19:02:01.942607Z"
    }
   },
   "outputs": [
    {
     "data": {
      "text/plain": [
       "[1, 2, 3]"
      ]
     },
     "execution_count": 329,
     "metadata": {},
     "output_type": "execute_result"
    }
   ],
   "source": [
    "my_list"
   ]
  },
  {
   "cell_type": "code",
   "execution_count": 330,
   "metadata": {
    "ExecuteTime": {
     "end_time": "2018-08-27T19:02:01.957808Z",
     "start_time": "2018-08-27T19:02:01.954610Z"
    }
   },
   "outputs": [
    {
     "data": {
      "text/plain": [
       "3"
      ]
     },
     "execution_count": 330,
     "metadata": {},
     "output_type": "execute_result"
    }
   ],
   "source": [
    "my_list.pop()"
   ]
  },
  {
   "cell_type": "code",
   "execution_count": 331,
   "metadata": {
    "ExecuteTime": {
     "end_time": "2018-08-27T19:02:01.963139Z",
     "start_time": "2018-08-27T19:02:01.959432Z"
    }
   },
   "outputs": [
    {
     "data": {
      "text/plain": [
       "[1, 2]"
      ]
     },
     "execution_count": 331,
     "metadata": {},
     "output_type": "execute_result"
    }
   ],
   "source": [
    "my_list"
   ]
  },
  {
   "cell_type": "markdown",
   "metadata": {},
   "source": [
    "List can work as queues (First-in, First-out)"
   ]
  },
  {
   "cell_type": "code",
   "execution_count": 332,
   "metadata": {
    "ExecuteTime": {
     "end_time": "2018-08-27T19:02:01.984542Z",
     "start_time": "2018-08-27T19:02:01.982147Z"
    }
   },
   "outputs": [],
   "source": [
    "my_queue = []"
   ]
  },
  {
   "cell_type": "code",
   "execution_count": 333,
   "metadata": {
    "ExecuteTime": {
     "end_time": "2018-08-27T19:02:01.992065Z",
     "start_time": "2018-08-27T19:02:01.988827Z"
    }
   },
   "outputs": [],
   "source": [
    "my_queue.insert(0, 1)\n",
    "my_queue.insert(0, 2)\n",
    "my_queue.insert(0, 3)"
   ]
  },
  {
   "cell_type": "code",
   "execution_count": 334,
   "metadata": {
    "ExecuteTime": {
     "end_time": "2018-08-27T19:02:01.997362Z",
     "start_time": "2018-08-27T19:02:01.993945Z"
    }
   },
   "outputs": [
    {
     "data": {
      "text/plain": [
       "[3, 2, 1]"
      ]
     },
     "execution_count": 334,
     "metadata": {},
     "output_type": "execute_result"
    }
   ],
   "source": [
    "my_queue"
   ]
  },
  {
   "cell_type": "code",
   "execution_count": 335,
   "metadata": {
    "ExecuteTime": {
     "end_time": "2018-08-27T19:02:02.002718Z",
     "start_time": "2018-08-27T19:02:01.999307Z"
    }
   },
   "outputs": [
    {
     "data": {
      "text/plain": [
       "1"
      ]
     },
     "execution_count": 335,
     "metadata": {},
     "output_type": "execute_result"
    }
   ],
   "source": [
    "my_queue.pop()"
   ]
  },
  {
   "cell_type": "code",
   "execution_count": 336,
   "metadata": {
    "ExecuteTime": {
     "end_time": "2018-08-27T19:02:02.009386Z",
     "start_time": "2018-08-27T19:02:02.005718Z"
    }
   },
   "outputs": [
    {
     "data": {
      "text/plain": [
       "[3, 2]"
      ]
     },
     "execution_count": 336,
     "metadata": {},
     "output_type": "execute_result"
    }
   ],
   "source": [
    "my_queue"
   ]
  },
  {
   "cell_type": "markdown",
   "metadata": {},
   "source": [
    "You can also pop from the front"
   ]
  },
  {
   "cell_type": "code",
   "execution_count": 337,
   "metadata": {
    "ExecuteTime": {
     "end_time": "2018-08-27T19:02:02.014902Z",
     "start_time": "2018-08-27T19:02:02.010955Z"
    }
   },
   "outputs": [
    {
     "data": {
      "text/plain": [
       "3"
      ]
     },
     "execution_count": 337,
     "metadata": {},
     "output_type": "execute_result"
    }
   ],
   "source": [
    "my_queue.pop(0)"
   ]
  },
  {
   "cell_type": "markdown",
   "metadata": {},
   "source": [
    "Set Operations"
   ]
  },
  {
   "cell_type": "code",
   "execution_count": 338,
   "metadata": {
    "ExecuteTime": {
     "end_time": "2018-08-27T19:02:02.018995Z",
     "start_time": "2018-08-27T19:02:02.016587Z"
    }
   },
   "outputs": [],
   "source": [
    "my_set_a  = set()\n",
    "my_set_b = {1, 2, 3}"
   ]
  },
  {
   "cell_type": "code",
   "execution_count": 339,
   "metadata": {
    "ExecuteTime": {
     "end_time": "2018-08-27T19:02:02.024398Z",
     "start_time": "2018-08-27T19:02:02.021763Z"
    }
   },
   "outputs": [],
   "source": [
    "my_set_a.add(1)\n",
    "my_set_a.add(5)"
   ]
  },
  {
   "cell_type": "code",
   "execution_count": 340,
   "metadata": {
    "ExecuteTime": {
     "end_time": "2018-08-27T19:02:02.029418Z",
     "start_time": "2018-08-27T19:02:02.025717Z"
    }
   },
   "outputs": [
    {
     "data": {
      "text/plain": [
       "(True, False)"
      ]
     },
     "execution_count": 340,
     "metadata": {},
     "output_type": "execute_result"
    }
   ],
   "source": [
    "1 in my_set_a, 5 in my_set_b"
   ]
  },
  {
   "cell_type": "code",
   "execution_count": 341,
   "metadata": {
    "ExecuteTime": {
     "end_time": "2018-08-27T19:02:02.035060Z",
     "start_time": "2018-08-27T19:02:02.031147Z"
    }
   },
   "outputs": [
    {
     "data": {
      "text/plain": [
       "{1, 2, 3, 4, 5}"
      ]
     },
     "execution_count": 341,
     "metadata": {},
     "output_type": "execute_result"
    }
   ],
   "source": [
    "{1, 2, 3}.union({3, 4, 5})"
   ]
  },
  {
   "cell_type": "code",
   "execution_count": 342,
   "metadata": {
    "ExecuteTime": {
     "end_time": "2018-08-27T19:02:02.040584Z",
     "start_time": "2018-08-27T19:02:02.036561Z"
    }
   },
   "outputs": [
    {
     "data": {
      "text/plain": [
       "{3}"
      ]
     },
     "execution_count": 342,
     "metadata": {},
     "output_type": "execute_result"
    }
   ],
   "source": [
    "{1, 2, 3}.intersection({3, 4, 5})"
   ]
  },
  {
   "cell_type": "code",
   "execution_count": 343,
   "metadata": {
    "ExecuteTime": {
     "end_time": "2018-08-27T19:02:02.045723Z",
     "start_time": "2018-08-27T19:02:02.042280Z"
    }
   },
   "outputs": [
    {
     "data": {
      "text/plain": [
       "{5}"
      ]
     },
     "execution_count": 343,
     "metadata": {},
     "output_type": "execute_result"
    }
   ],
   "source": [
    "my_set_a.difference(my_set_b)"
   ]
  },
  {
   "cell_type": "markdown",
   "metadata": {},
   "source": [
    "Dict Operations"
   ]
  },
  {
   "cell_type": "code",
   "execution_count": 344,
   "metadata": {
    "ExecuteTime": {
     "end_time": "2018-08-27T19:02:02.051348Z",
     "start_time": "2018-08-27T19:02:02.047394Z"
    }
   },
   "outputs": [
    {
     "data": {
      "text/plain": [
       "dict_keys(['one', 'two'])"
      ]
     },
     "execution_count": 344,
     "metadata": {},
     "output_type": "execute_result"
    }
   ],
   "source": [
    "my_dict  = {\"one\": 1, \"two\": 2}\n",
    "my_dict.keys()"
   ]
  },
  {
   "cell_type": "code",
   "execution_count": 345,
   "metadata": {
    "ExecuteTime": {
     "end_time": "2018-08-27T19:02:02.056731Z",
     "start_time": "2018-08-27T19:02:02.053090Z"
    }
   },
   "outputs": [
    {
     "data": {
      "text/plain": [
       "dict_values([1, 2])"
      ]
     },
     "execution_count": 345,
     "metadata": {},
     "output_type": "execute_result"
    }
   ],
   "source": [
    "my_dict.values()"
   ]
  },
  {
   "cell_type": "code",
   "execution_count": 346,
   "metadata": {
    "ExecuteTime": {
     "end_time": "2018-08-27T19:02:02.061580Z",
     "start_time": "2018-08-27T19:02:02.058101Z"
    }
   },
   "outputs": [
    {
     "data": {
      "text/plain": [
       "dict_items([('one', 1), ('two', 2)])"
      ]
     },
     "execution_count": 346,
     "metadata": {},
     "output_type": "execute_result"
    }
   ],
   "source": [
    "my_dict.items()"
   ]
  },
  {
   "cell_type": "code",
   "execution_count": 347,
   "metadata": {
    "ExecuteTime": {
     "end_time": "2018-08-27T19:02:02.066743Z",
     "start_time": "2018-08-27T19:02:02.063137Z"
    }
   },
   "outputs": [
    {
     "data": {
      "text/plain": [
       "2"
      ]
     },
     "execution_count": 347,
     "metadata": {},
     "output_type": "execute_result"
    }
   ],
   "source": [
    "my_dict[\"two\"]"
   ]
  },
  {
   "cell_type": "code",
   "execution_count": 348,
   "metadata": {
    "ExecuteTime": {
     "end_time": "2018-08-27T19:02:02.071302Z",
     "start_time": "2018-08-27T19:02:02.068194Z"
    }
   },
   "outputs": [
    {
     "data": {
      "text/plain": [
       "True"
      ]
     },
     "execution_count": 348,
     "metadata": {},
     "output_type": "execute_result"
    }
   ],
   "source": [
    "\"one\" in my_dict"
   ]
  },
  {
   "cell_type": "code",
   "execution_count": 349,
   "metadata": {
    "ExecuteTime": {
     "end_time": "2018-08-27T19:02:02.076156Z",
     "start_time": "2018-08-27T19:02:02.072719Z"
    }
   },
   "outputs": [
    {
     "data": {
      "text/plain": [
       "False"
      ]
     },
     "execution_count": 349,
     "metadata": {},
     "output_type": "execute_result"
    }
   ],
   "source": [
    "1 in my_dict"
   ]
  },
  {
   "cell_type": "code",
   "execution_count": 350,
   "metadata": {
    "ExecuteTime": {
     "end_time": "2018-08-27T19:02:02.081236Z",
     "start_time": "2018-08-27T19:02:02.077867Z"
    }
   },
   "outputs": [
    {
     "data": {
      "text/plain": [
       "{'one': 1, 'two': 2}"
      ]
     },
     "execution_count": 350,
     "metadata": {},
     "output_type": "execute_result"
    }
   ],
   "source": [
    "dict(one=1, two=2)"
   ]
  },
  {
   "cell_type": "code",
   "execution_count": 351,
   "metadata": {
    "ExecuteTime": {
     "end_time": "2018-08-27T19:02:02.086300Z",
     "start_time": "2018-08-27T19:02:02.082660Z"
    }
   },
   "outputs": [
    {
     "data": {
      "text/plain": [
       "{'one': 1, 'two': 2}"
      ]
     },
     "execution_count": 351,
     "metadata": {},
     "output_type": "execute_result"
    }
   ],
   "source": [
    "new_dict = dict(my_dict.items())\n",
    "new_dict"
   ]
  },
  {
   "cell_type": "code",
   "execution_count": 352,
   "metadata": {
    "ExecuteTime": {
     "end_time": "2018-08-27T19:02:02.091603Z",
     "start_time": "2018-08-27T19:02:02.088256Z"
    }
   },
   "outputs": [
    {
     "data": {
      "text/plain": [
       "True"
      ]
     },
     "execution_count": 352,
     "metadata": {},
     "output_type": "execute_result"
    }
   ],
   "source": [
    "new_dict == my_dict"
   ]
  },
  {
   "cell_type": "code",
   "execution_count": 353,
   "metadata": {
    "ExecuteTime": {
     "end_time": "2018-08-27T19:02:02.096617Z",
     "start_time": "2018-08-27T19:02:02.093438Z"
    }
   },
   "outputs": [
    {
     "data": {
      "text/plain": [
       "False"
      ]
     },
     "execution_count": 353,
     "metadata": {},
     "output_type": "execute_result"
    }
   ],
   "source": [
    "new_dict is my_dict"
   ]
  },
  {
   "cell_type": "code",
   "execution_count": 354,
   "metadata": {
    "ExecuteTime": {
     "end_time": "2018-08-27T19:02:02.101465Z",
     "start_time": "2018-08-27T19:02:02.098167Z"
    }
   },
   "outputs": [
    {
     "data": {
      "text/plain": [
       "(4583609256, 4583599848)"
      ]
     },
     "execution_count": 354,
     "metadata": {},
     "output_type": "execute_result"
    }
   ],
   "source": [
    "id(new_dict),  id(my_dict)"
   ]
  },
  {
   "cell_type": "markdown",
   "metadata": {},
   "source": [
    "# Exercises\n",
    "Using the slice operator, invert the elements of the list below, then remove the first and the last elements."
   ]
  },
  {
   "cell_type": "code",
   "execution_count": 355,
   "metadata": {
    "ExecuteTime": {
     "end_time": "2018-08-27T19:02:02.106395Z",
     "start_time": "2018-08-27T19:02:02.103088Z"
    }
   },
   "outputs": [
    {
     "data": {
      "text/plain": [
       "[1, 2, 3, 4, 5]"
      ]
     },
     "execution_count": 355,
     "metadata": {},
     "output_type": "execute_result"
    }
   ],
   "source": [
    "[1, 2, 3, 4, 5]"
   ]
  },
  {
   "cell_type": "markdown",
   "metadata": {},
   "source": [
    "Execute the cell below, then remove all the duplicates in the list given by the sequence list"
   ]
  },
  {
   "cell_type": "code",
   "execution_count": 356,
   "metadata": {
    "ExecuteTime": {
     "end_time": "2018-08-27T19:02:02.111204Z",
     "start_time": "2018-08-27T19:02:02.107852Z"
    }
   },
   "outputs": [],
   "source": [
    "import random\n",
    "sequence = []\n",
    "for i in range(20):\n",
    "    sequence.append(random.choice(range(100)))"
   ]
  },
  {
   "cell_type": "code",
   "execution_count": 357,
   "metadata": {
    "ExecuteTime": {
     "end_time": "2018-08-27T19:02:02.116617Z",
     "start_time": "2018-08-27T19:02:02.113021Z"
    }
   },
   "outputs": [
    {
     "data": {
      "text/plain": [
       "[14, 40, 22, 1, 30, 24, 99, 22, 42, 99, 41, 82, 46, 32, 51, 15, 94, 53, 53, 30]"
      ]
     },
     "execution_count": 357,
     "metadata": {},
     "output_type": "execute_result"
    }
   ],
   "source": [
    "sequence"
   ]
  }
 ],
 "metadata": {
  "hide_input": false,
  "kernelspec": {
   "display_name": "Python 3",
   "language": "python",
   "name": "python3"
  },
  "language_info": {
   "codemirror_mode": {
    "name": "ipython",
    "version": 3
   },
   "file_extension": ".py",
   "mimetype": "text/x-python",
   "name": "python",
   "nbconvert_exporter": "python",
   "pygments_lexer": "ipython3",
   "version": "3.6.5"
  },
  "toc": {
   "colors": {
    "hover_highlight": "#DAA520",
    "navigate_num": "#000000",
    "navigate_text": "#333333",
    "running_highlight": "#FF0000",
    "selected_highlight": "#FFD700",
    "sidebar_border": "#EEEEEE",
    "wrapper_background": "#FFFFFF"
   },
   "moveMenuLeft": true,
   "nav_menu": {
    "height": "164px",
    "width": "252px"
   },
   "navigate_menu": true,
   "number_sections": true,
   "sideBar": true,
   "threshold": 4,
   "toc_cell": false,
   "toc_section_display": "block",
   "toc_window_display": false,
   "widenNotebook": false
  }
 },
 "nbformat": 4,
 "nbformat_minor": 2
}
