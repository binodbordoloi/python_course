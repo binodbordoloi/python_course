{
 "cells": [
  {
   "cell_type": "markdown",
   "metadata": {},
   "source": [
    "# Python Programming Fundamentals\n",
    "\n",
    "This webinar is split into 4 parts:\n",
    "* Part 1 - Fundamentals: Scalar and Composite Types\n",
    "* Part 2 - Namespaces: Functions, Classes, Modules and Packages\n",
    "* Part 3 - Object Orientation\n",
    "* Part 4 - Functional Programming\n",
    "\n",
    "\n",
    "# Fundamentals\n",
    "\n",
    "In this first part, we will visit first the main scalar and composite types in Python, and then explore the statements that allow us to manipulate those types to build programs.\n",
    "We are going to use the REPL (Read-Eval-Print-Loop) as the main tool to explore the language."
   ]
  },
  {
   "cell_type": "markdown",
   "metadata": {},
   "source": [
    "We start by exploring Python scalar native types at the REPL.\n",
    "We will use some builtin functions to explain the connection between scalar types and Python's Object Oriented nature."
   ]
  },
  {
   "cell_type": "markdown",
   "metadata": {},
   "source": [
    "## Numbers and using Python as a calculator"
   ]
  },
  {
   "cell_type": "code",
   "execution_count": null,
   "metadata": {
    "ExecuteTime": {
     "end_time": "2018-08-26T20:23:05.988914Z",
     "start_time": "2018-08-26T20:23:05.984981Z"
    }
   },
   "outputs": [],
   "source": [
    "1"
   ]
  },
  {
   "cell_type": "code",
   "execution_count": null,
   "metadata": {
    "ExecuteTime": {
     "end_time": "2018-08-26T16:52:05.777178Z",
     "start_time": "2018-08-26T16:52:05.773127Z"
    }
   },
   "outputs": [],
   "source": [
    "type(1)"
   ]
  },
  {
   "cell_type": "code",
   "execution_count": null,
   "metadata": {
    "ExecuteTime": {
     "end_time": "2018-08-26T16:53:16.798038Z",
     "start_time": "2018-08-26T16:53:16.794581Z"
    }
   },
   "outputs": [],
   "source": [
    "1.0"
   ]
  },
  {
   "cell_type": "code",
   "execution_count": null,
   "metadata": {
    "ExecuteTime": {
     "end_time": "2018-08-26T16:52:07.167749Z",
     "start_time": "2018-08-26T16:52:07.164158Z"
    }
   },
   "outputs": [],
   "source": [
    "type(1.0)"
   ]
  },
  {
   "cell_type": "code",
   "execution_count": null,
   "metadata": {
    "ExecuteTime": {
     "end_time": "2018-08-26T16:53:27.265737Z",
     "start_time": "2018-08-26T16:53:27.262175Z"
    }
   },
   "outputs": [],
   "source": [
    "1 + 0j"
   ]
  },
  {
   "cell_type": "code",
   "execution_count": null,
   "metadata": {
    "ExecuteTime": {
     "end_time": "2018-08-26T16:52:13.532728Z",
     "start_time": "2018-08-26T16:52:13.527233Z"
    }
   },
   "outputs": [],
   "source": [
    "type(1 + 0j)"
   ]
  },
  {
   "cell_type": "code",
   "execution_count": null,
   "metadata": {
    "ExecuteTime": {
     "end_time": "2018-08-26T16:54:29.679707Z",
     "start_time": "2018-08-26T16:54:29.676299Z"
    }
   },
   "outputs": [],
   "source": [
    "1.0 == 1"
   ]
  },
  {
   "cell_type": "code",
   "execution_count": null,
   "metadata": {
    "ExecuteTime": {
     "end_time": "2018-08-26T16:52:30.906586Z",
     "start_time": "2018-08-26T16:52:30.901674Z"
    }
   },
   "outputs": [],
   "source": [
    "1 + 0j == 1"
   ]
  },
  {
   "cell_type": "code",
   "execution_count": null,
   "metadata": {
    "ExecuteTime": {
     "end_time": "2018-08-26T16:52:54.100808Z",
     "start_time": "2018-08-26T16:52:54.096424Z"
    }
   },
   "outputs": [],
   "source": [
    "type(1 + 0j) == type(1)"
   ]
  },
  {
   "cell_type": "code",
   "execution_count": null,
   "metadata": {
    "ExecuteTime": {
     "end_time": "2018-08-26T16:47:34.419195Z",
     "start_time": "2018-08-26T16:47:34.415230Z"
    }
   },
   "outputs": [],
   "source": [
    "3 / 2"
   ]
  },
  {
   "cell_type": "code",
   "execution_count": null,
   "metadata": {
    "ExecuteTime": {
     "end_time": "2018-08-26T16:47:37.356624Z",
     "start_time": "2018-08-26T16:47:37.352697Z"
    }
   },
   "outputs": [],
   "source": [
    "3 // 2"
   ]
  },
  {
   "cell_type": "code",
   "execution_count": null,
   "metadata": {
    "ExecuteTime": {
     "end_time": "2018-08-26T17:07:27.871074Z",
     "start_time": "2018-08-26T17:07:27.864274Z"
    }
   },
   "outputs": [],
   "source": [
    "1 / 0"
   ]
  },
  {
   "cell_type": "code",
   "execution_count": null,
   "metadata": {
    "ExecuteTime": {
     "end_time": "2018-08-26T17:01:40.306125Z",
     "start_time": "2018-08-26T17:01:40.302027Z"
    }
   },
   "outputs": [],
   "source": [
    "2*2*2"
   ]
  },
  {
   "cell_type": "code",
   "execution_count": null,
   "metadata": {
    "ExecuteTime": {
     "end_time": "2018-08-26T17:01:45.115160Z",
     "start_time": "2018-08-26T17:01:45.110567Z"
    }
   },
   "outputs": [],
   "source": [
    "2**3"
   ]
  },
  {
   "cell_type": "code",
   "execution_count": null,
   "metadata": {
    "ExecuteTime": {
     "end_time": "2018-08-26T17:01:46.682445Z",
     "start_time": "2018-08-26T17:01:46.678048Z"
    }
   },
   "outputs": [],
   "source": [
    "2**1024"
   ]
  },
  {
   "cell_type": "code",
   "execution_count": null,
   "metadata": {
    "ExecuteTime": {
     "end_time": "2018-08-26T17:02:59.152458Z",
     "start_time": "2018-08-26T17:02:59.148433Z"
    }
   },
   "outputs": [],
   "source": [
    "2**4096"
   ]
  },
  {
   "cell_type": "code",
   "execution_count": null,
   "metadata": {
    "ExecuteTime": {
     "end_time": "2018-08-26T17:03:01.611258Z",
     "start_time": "2018-08-26T17:03:01.605900Z"
    }
   },
   "outputs": [],
   "source": [
    "_"
   ]
  },
  {
   "cell_type": "code",
   "execution_count": null,
   "metadata": {
    "ExecuteTime": {
     "end_time": "2018-08-26T17:02:59.822793Z",
     "start_time": "2018-08-26T17:02:59.819076Z"
    }
   },
   "outputs": [],
   "source": [
    "_ + 1"
   ]
  },
  {
   "cell_type": "code",
   "execution_count": null,
   "metadata": {
    "ExecuteTime": {
     "end_time": "2018-08-26T17:08:17.921621Z",
     "start_time": "2018-08-26T17:08:17.914183Z"
    }
   },
   "outputs": [],
   "source": [
    "2**4096 / 2"
   ]
  },
  {
   "cell_type": "markdown",
   "metadata": {},
   "source": [
    "Advanced topic, for those who want to go further after the webminar ..."
   ]
  },
  {
   "cell_type": "code",
   "execution_count": null,
   "metadata": {
    "ExecuteTime": {
     "end_time": "2018-08-26T17:08:43.341001Z",
     "start_time": "2018-08-26T17:08:43.337082Z"
    }
   },
   "outputs": [],
   "source": [
    "from decimal import Decimal\n",
    "Decimal(2**4096) / 2"
   ]
  },
  {
   "cell_type": "markdown",
   "metadata": {},
   "source": [
    "## Strings"
   ]
  },
  {
   "cell_type": "code",
   "execution_count": null,
   "metadata": {
    "ExecuteTime": {
     "end_time": "2018-08-26T19:14:39.632403Z",
     "start_time": "2018-08-26T19:14:39.628460Z"
    }
   },
   "outputs": [],
   "source": [
    "'single quotes'"
   ]
  },
  {
   "cell_type": "code",
   "execution_count": null,
   "metadata": {
    "ExecuteTime": {
     "end_time": "2018-08-26T19:14:49.496256Z",
     "start_time": "2018-08-26T19:14:49.492512Z"
    }
   },
   "outputs": [],
   "source": [
    "\"double quotes\""
   ]
  },
  {
   "cell_type": "code",
   "execution_count": null,
   "metadata": {
    "ExecuteTime": {
     "end_time": "2018-08-26T19:15:14.773850Z",
     "start_time": "2018-08-26T19:15:14.768505Z"
    }
   },
   "outputs": [],
   "source": [
    "'''triple\n",
    "single\n",
    "quotes\n",
    "'''"
   ]
  },
  {
   "cell_type": "code",
   "execution_count": null,
   "metadata": {
    "ExecuteTime": {
     "end_time": "2018-08-26T19:15:43.659966Z",
     "start_time": "2018-08-26T19:15:43.655953Z"
    }
   },
   "outputs": [],
   "source": [
    "\"\"\"triple\n",
    "'double'\n",
    "quotes\n",
    "\"\"\""
   ]
  },
  {
   "cell_type": "code",
   "execution_count": null,
   "metadata": {
    "ExecuteTime": {
     "end_time": "2018-08-26T19:16:30.208605Z",
     "start_time": "2018-08-26T19:16:30.204116Z"
    }
   },
   "outputs": [],
   "source": [
    "type(\"some string\")"
   ]
  },
  {
   "cell_type": "code",
   "execution_count": null,
   "metadata": {
    "ExecuteTime": {
     "end_time": "2018-08-26T19:19:01.991729Z",
     "start_time": "2018-08-26T19:19:01.988116Z"
    }
   },
   "outputs": [],
   "source": [
    "\" one two three \".strip()"
   ]
  },
  {
   "cell_type": "code",
   "execution_count": null,
   "metadata": {
    "ExecuteTime": {
     "end_time": "2018-08-26T19:20:35.658710Z",
     "start_time": "2018-08-26T19:20:35.654407Z"
    }
   },
   "outputs": [],
   "source": [
    "\"strings are sequence of chars indexed by 0\"[0]"
   ]
  },
  {
   "cell_type": "code",
   "execution_count": null,
   "metadata": {
    "ExecuteTime": {
     "end_time": "2018-08-26T19:21:13.473198Z",
     "start_time": "2018-08-26T19:21:13.468959Z"
    }
   },
   "outputs": [],
   "source": [
    "\"the slice operator allows us to cut strings\"[4:9]"
   ]
  },
  {
   "cell_type": "code",
   "execution_count": null,
   "metadata": {
    "ExecuteTime": {
     "end_time": "2018-08-26T19:22:12.156914Z",
     "start_time": "2018-08-26T19:22:12.152747Z"
    }
   },
   "outputs": [],
   "source": [
    "\"the index also comes from the end with negative values\"[-1]"
   ]
  },
  {
   "cell_type": "code",
   "execution_count": null,
   "metadata": {
    "ExecuteTime": {
     "end_time": "2018-08-26T19:27:30.676424Z",
     "start_time": "2018-08-26T19:27:30.672017Z"
    }
   },
   "outputs": [],
   "source": [
    "\"you can cut just the value from the end\"[-7:]"
   ]
  },
  {
   "cell_type": "code",
   "execution_count": null,
   "metadata": {
    "ExecuteTime": {
     "end_time": "2018-08-26T19:28:31.716546Z",
     "start_time": "2018-08-26T19:28:31.712318Z"
    }
   },
   "outputs": [],
   "source": [
    "\"y o u   c a n   s k i p\"[::2]"
   ]
  },
  {
   "cell_type": "code",
   "execution_count": null,
   "metadata": {
    "ExecuteTime": {
     "end_time": "2018-08-26T19:29:04.405195Z",
     "start_time": "2018-08-26T19:29:04.401400Z"
    }
   },
   "outputs": [],
   "source": [
    "\"you can also reverse: 1 2 3\"[-1:-6:-1]"
   ]
  },
  {
   "cell_type": "code",
   "execution_count": null,
   "metadata": {
    "ExecuteTime": {
     "end_time": "2018-08-26T19:30:04.345177Z",
     "start_time": "2018-08-26T19:30:04.340798Z"
    }
   },
   "outputs": [],
   "source": [
    "\"super_useful.txt\"[6:-4]"
   ]
  },
  {
   "cell_type": "markdown",
   "metadata": {},
   "source": [
    "## Convert one type into another"
   ]
  },
  {
   "cell_type": "markdown",
   "metadata": {},
   "source": [
    "The type names can be used as \"casting\" functions, to convert values between types (i.e. create new objects)"
   ]
  },
  {
   "cell_type": "code",
   "execution_count": null,
   "metadata": {
    "ExecuteTime": {
     "end_time": "2018-08-26T19:31:48.707442Z",
     "start_time": "2018-08-26T19:31:48.704284Z"
    }
   },
   "outputs": [],
   "source": [
    "type(\"1\")"
   ]
  },
  {
   "cell_type": "code",
   "execution_count": null,
   "metadata": {
    "ExecuteTime": {
     "end_time": "2018-08-26T19:31:49.286399Z",
     "start_time": "2018-08-26T19:31:49.282354Z"
    }
   },
   "outputs": [],
   "source": [
    "type(1)"
   ]
  },
  {
   "cell_type": "code",
   "execution_count": null,
   "metadata": {
    "ExecuteTime": {
     "end_time": "2018-08-26T19:31:49.837317Z",
     "start_time": "2018-08-26T19:31:49.833347Z"
    }
   },
   "outputs": [],
   "source": [
    "int(\"1\")==1"
   ]
  },
  {
   "cell_type": "code",
   "execution_count": null,
   "metadata": {
    "ExecuteTime": {
     "end_time": "2018-08-26T19:31:50.428657Z",
     "start_time": "2018-08-26T19:31:50.424845Z"
    }
   },
   "outputs": [],
   "source": [
    "str(1)=='1'"
   ]
  },
  {
   "cell_type": "markdown",
   "metadata": {
    "ExecuteTime": {
     "end_time": "2018-08-11T11:46:06.603915Z",
     "start_time": "2018-08-11T11:46:06.600104Z"
    }
   },
   "source": [
    "There is **no implicit casting** in the language. We do a comparisom with javascript to illustrate the different approach between to dynamically typed languages, but one is loosely typed (Javascript) and the other strongly typed (Python)."
   ]
  },
  {
   "cell_type": "code",
   "execution_count": null,
   "metadata": {
    "ExecuteTime": {
     "end_time": "2018-08-26T19:32:12.133554Z",
     "start_time": "2018-08-26T19:32:12.130138Z"
    }
   },
   "outputs": [],
   "source": [
    "%%javascript\n",
    "console.log(1==\"1\")\n",
    "console.log(1+\"1\")\n",
    "console.log(2*\"2\")"
   ]
  },
  {
   "cell_type": "markdown",
   "metadata": {},
   "source": [
    "In Python, operators between different types do not perform explicit type casting"
   ]
  },
  {
   "cell_type": "code",
   "execution_count": null,
   "metadata": {
    "ExecuteTime": {
     "end_time": "2018-08-26T19:33:16.259837Z",
     "start_time": "2018-08-26T19:33:16.253007Z"
    }
   },
   "outputs": [],
   "source": [
    "1 + \"1\""
   ]
  },
  {
   "cell_type": "markdown",
   "metadata": {},
   "source": [
    "But, because everything is an object, operator overloading is supported in the language"
   ]
  },
  {
   "cell_type": "code",
   "execution_count": null,
   "metadata": {
    "ExecuteTime": {
     "end_time": "2018-08-26T19:33:36.129420Z",
     "start_time": "2018-08-26T19:33:36.126154Z"
    }
   },
   "outputs": [],
   "source": [
    "\"Blah \"*3"
   ]
  },
  {
   "cell_type": "markdown",
   "metadata": {},
   "source": [
    "## Composite Data Structures\n",
    "\n",
    "There are 4 basic composite types: List, Tuple, Dict and Set."
   ]
  },
  {
   "cell_type": "code",
   "execution_count": null,
   "metadata": {
    "ExecuteTime": {
     "end_time": "2018-08-26T19:36:12.536264Z",
     "start_time": "2018-08-26T19:36:12.532408Z"
    }
   },
   "outputs": [],
   "source": [
    "[1, 2, 3]"
   ]
  },
  {
   "cell_type": "code",
   "execution_count": null,
   "metadata": {
    "ExecuteTime": {
     "end_time": "2018-08-26T19:36:19.758664Z",
     "start_time": "2018-08-26T19:36:19.754097Z"
    }
   },
   "outputs": [],
   "source": [
    "type([1, 2, 3])"
   ]
  },
  {
   "cell_type": "code",
   "execution_count": null,
   "metadata": {
    "ExecuteTime": {
     "end_time": "2018-08-26T19:36:29.465239Z",
     "start_time": "2018-08-26T19:36:29.461295Z"
    }
   },
   "outputs": [],
   "source": [
    "(1, 2, 3)"
   ]
  },
  {
   "cell_type": "code",
   "execution_count": null,
   "metadata": {
    "ExecuteTime": {
     "end_time": "2018-08-26T19:36:35.953075Z",
     "start_time": "2018-08-26T19:36:35.949267Z"
    }
   },
   "outputs": [],
   "source": [
    "type((1, 2, 3))"
   ]
  },
  {
   "cell_type": "code",
   "execution_count": null,
   "metadata": {
    "ExecuteTime": {
     "end_time": "2018-08-26T19:38:07.516515Z",
     "start_time": "2018-08-26T19:38:07.512200Z"
    }
   },
   "outputs": [],
   "source": [
    "{1, 2, 3}"
   ]
  },
  {
   "cell_type": "code",
   "execution_count": null,
   "metadata": {
    "ExecuteTime": {
     "end_time": "2018-08-26T19:38:15.612920Z",
     "start_time": "2018-08-26T19:38:15.608697Z"
    }
   },
   "outputs": [],
   "source": [
    "type({1, 2, 3})"
   ]
  },
  {
   "cell_type": "code",
   "execution_count": null,
   "metadata": {
    "ExecuteTime": {
     "end_time": "2018-08-26T19:37:28.197984Z",
     "start_time": "2018-08-26T19:37:28.193963Z"
    }
   },
   "outputs": [],
   "source": [
    "{\"one\": 1, \"two\": 2}"
   ]
  },
  {
   "cell_type": "code",
   "execution_count": null,
   "metadata": {
    "ExecuteTime": {
     "end_time": "2018-08-26T19:37:36.796184Z",
     "start_time": "2018-08-26T19:37:36.790142Z"
    }
   },
   "outputs": [],
   "source": [
    "type({\"one\": 1, \"two\": 2})"
   ]
  },
  {
   "cell_type": "markdown",
   "metadata": {},
   "source": [
    "Tuples (immutable) and Lists (mutable) are both sequences (like strings), thus \"sliceable\""
   ]
  },
  {
   "cell_type": "code",
   "execution_count": null,
   "metadata": {
    "ExecuteTime": {
     "end_time": "2018-08-26T20:08:44.954058Z",
     "start_time": "2018-08-26T20:08:44.950260Z"
    }
   },
   "outputs": [],
   "source": [
    "(1, 2, 3, 4, 5)[2]"
   ]
  },
  {
   "cell_type": "code",
   "execution_count": null,
   "metadata": {
    "ExecuteTime": {
     "end_time": "2018-08-26T19:45:24.037392Z",
     "start_time": "2018-08-26T19:45:24.033048Z"
    }
   },
   "outputs": [],
   "source": [
    "(1, 2, 3, 4, 5)[2:-1]"
   ]
  },
  {
   "cell_type": "markdown",
   "metadata": {},
   "source": [
    "Lists and Tuples can be easily combined"
   ]
  },
  {
   "cell_type": "code",
   "execution_count": null,
   "metadata": {
    "ExecuteTime": {
     "end_time": "2018-08-26T19:55:12.338776Z",
     "start_time": "2018-08-26T19:55:12.334829Z"
    }
   },
   "outputs": [],
   "source": [
    "[1, 2, 3] + [1, 2, 3]"
   ]
  },
  {
   "cell_type": "code",
   "execution_count": null,
   "metadata": {
    "ExecuteTime": {
     "end_time": "2018-08-26T19:55:13.159343Z",
     "start_time": "2018-08-26T19:55:13.155237Z"
    }
   },
   "outputs": [],
   "source": [
    "(1, 2, 3) + (1, 2, 3)"
   ]
  },
  {
   "cell_type": "markdown",
   "metadata": {},
   "source": [
    "But between only between themselves."
   ]
  },
  {
   "cell_type": "code",
   "execution_count": null,
   "metadata": {
    "ExecuteTime": {
     "end_time": "2018-08-26T19:57:49.456963Z",
     "start_time": "2018-08-26T19:57:49.449643Z"
    }
   },
   "outputs": [],
   "source": [
    "(1, 2, 3) + [1, 2, 3]"
   ]
  },
  {
   "cell_type": "markdown",
   "metadata": {},
   "source": [
    "But we can easily transform one into the other"
   ]
  },
  {
   "cell_type": "code",
   "execution_count": null,
   "metadata": {
    "ExecuteTime": {
     "end_time": "2018-08-26T20:13:33.068633Z",
     "start_time": "2018-08-26T20:13:33.064758Z"
    }
   },
   "outputs": [],
   "source": [
    "list((1, 2, 3)) + [1, 2, 3]"
   ]
  },
  {
   "cell_type": "code",
   "execution_count": null,
   "metadata": {
    "ExecuteTime": {
     "end_time": "2018-08-26T20:13:52.691187Z",
     "start_time": "2018-08-26T20:13:52.687308Z"
    }
   },
   "outputs": [],
   "source": [
    "(1, 2, 3) + tuple([1, 2, 3])"
   ]
  },
  {
   "cell_type": "markdown",
   "metadata": {
    "ExecuteTime": {
     "end_time": "2018-08-26T19:54:06.816263Z",
     "start_time": "2018-08-26T19:54:06.812735Z"
    }
   },
   "source": [
    "Sets and Dicts have their own supported operations"
   ]
  },
  {
   "cell_type": "code",
   "execution_count": null,
   "metadata": {
    "ExecuteTime": {
     "end_time": "2018-08-26T20:14:10.402539Z",
     "start_time": "2018-08-26T20:14:10.395395Z"
    }
   },
   "outputs": [],
   "source": [
    "{\"one\": 1} + {\"two\": 2}"
   ]
  },
  {
   "cell_type": "code",
   "execution_count": null,
   "metadata": {
    "ExecuteTime": {
     "end_time": "2018-08-26T20:14:17.682671Z",
     "start_time": "2018-08-26T20:14:17.674591Z"
    }
   },
   "outputs": [],
   "source": [
    "{1, 2, 3} + {4, 5, 6}"
   ]
  },
  {
   "cell_type": "markdown",
   "metadata": {},
   "source": [
    "Set Operations"
   ]
  },
  {
   "cell_type": "code",
   "execution_count": null,
   "metadata": {
    "ExecuteTime": {
     "end_time": "2018-08-26T20:07:36.408399Z",
     "start_time": "2018-08-26T20:07:36.404472Z"
    }
   },
   "outputs": [],
   "source": [
    "1 in {1, 2, 3}, 5 in {1, 2, 3}"
   ]
  },
  {
   "cell_type": "code",
   "execution_count": null,
   "metadata": {
    "ExecuteTime": {
     "end_time": "2018-08-26T19:54:39.264578Z",
     "start_time": "2018-08-26T19:54:39.260235Z"
    }
   },
   "outputs": [],
   "source": [
    "{1, 2, 3}.union({3, 4, 5})"
   ]
  },
  {
   "cell_type": "code",
   "execution_count": null,
   "metadata": {
    "ExecuteTime": {
     "end_time": "2018-08-26T20:00:52.640672Z",
     "start_time": "2018-08-26T20:00:52.636939Z"
    }
   },
   "outputs": [],
   "source": [
    "{1, 2, 3}.intersection({3, 4, 5})"
   ]
  },
  {
   "cell_type": "code",
   "execution_count": null,
   "metadata": {
    "ExecuteTime": {
     "end_time": "2018-08-26T20:12:23.577101Z",
     "start_time": "2018-08-26T20:12:23.573457Z"
    }
   },
   "outputs": [],
   "source": [
    "{1, 2, 3}.difference({1, 3})"
   ]
  },
  {
   "cell_type": "markdown",
   "metadata": {},
   "source": [
    "Dict Operations"
   ]
  },
  {
   "cell_type": "code",
   "execution_count": null,
   "metadata": {
    "ExecuteTime": {
     "end_time": "2018-08-26T20:02:22.995150Z",
     "start_time": "2018-08-26T20:02:22.991685Z"
    }
   },
   "outputs": [],
   "source": [
    "{\"one\": 1, \"two\": 2}.keys()"
   ]
  },
  {
   "cell_type": "code",
   "execution_count": null,
   "metadata": {
    "ExecuteTime": {
     "end_time": "2018-08-26T20:02:51.538116Z",
     "start_time": "2018-08-26T20:02:51.534331Z"
    }
   },
   "outputs": [],
   "source": [
    "{\"one\": 1, \"two\": 2}.values()"
   ]
  },
  {
   "cell_type": "code",
   "execution_count": null,
   "metadata": {
    "ExecuteTime": {
     "end_time": "2018-08-26T20:02:36.506929Z",
     "start_time": "2018-08-26T20:02:36.503558Z"
    }
   },
   "outputs": [],
   "source": [
    "{\"one\": 1, \"two\": 2}.items()"
   ]
  },
  {
   "cell_type": "code",
   "execution_count": null,
   "metadata": {
    "ExecuteTime": {
     "end_time": "2018-08-26T20:06:33.046125Z",
     "start_time": "2018-08-26T20:06:33.042189Z"
    }
   },
   "outputs": [],
   "source": [
    "{\"one\": 1, \"two\": 2}[\"two\"]"
   ]
  },
  {
   "cell_type": "code",
   "execution_count": null,
   "metadata": {
    "ExecuteTime": {
     "end_time": "2018-08-26T20:10:03.760810Z",
     "start_time": "2018-08-26T20:10:03.757338Z"
    }
   },
   "outputs": [],
   "source": [
    "\"one\" in {\"one\": 1, \"two\": 2}"
   ]
  },
  {
   "cell_type": "code",
   "execution_count": null,
   "metadata": {
    "ExecuteTime": {
     "end_time": "2018-08-26T20:10:12.792712Z",
     "start_time": "2018-08-26T20:10:12.789081Z"
    }
   },
   "outputs": [],
   "source": [
    "1 in {\"one\": 1, \"two\": 2}"
   ]
  },
  {
   "cell_type": "code",
   "execution_count": null,
   "metadata": {
    "ExecuteTime": {
     "end_time": "2018-08-26T20:18:14.065817Z",
     "start_time": "2018-08-26T20:18:14.061763Z"
    }
   },
   "outputs": [],
   "source": [
    "dict(one=1, two=2)"
   ]
  },
  {
   "cell_type": "markdown",
   "metadata": {},
   "source": [
    "# Exercises\n",
    "Using the slice operator, invert the elements of the list below, then remove the first and the last elements."
   ]
  },
  {
   "cell_type": "code",
   "execution_count": null,
   "metadata": {},
   "outputs": [],
   "source": [
    "[1, 2, 3, 4, 5]"
   ]
  },
  {
   "cell_type": "markdown",
   "metadata": {},
   "source": [
    "Create a dictionary from a list of tuples, you can use the help() function to explore options."
   ]
  },
  {
   "cell_type": "code",
   "execution_count": null,
   "metadata": {
    "ExecuteTime": {
     "end_time": "2018-08-26T20:17:04.333137Z",
     "start_time": "2018-08-26T20:17:04.325493Z"
    }
   },
   "outputs": [],
   "source": []
  },
  {
   "cell_type": "code",
   "execution_count": null,
   "metadata": {},
   "outputs": [],
   "source": []
  }
 ],
 "metadata": {
  "hide_input": false,
  "kernelspec": {
   "display_name": "Python 3",
   "language": "python",
   "name": "python3"
  },
  "language_info": {
   "codemirror_mode": {
    "name": "ipython",
    "version": 3
   },
   "file_extension": ".py",
   "mimetype": "text/x-python",
   "name": "python",
   "nbconvert_exporter": "python",
   "pygments_lexer": "ipython3",
   "version": "3.6.5"
  },
  "toc": {
   "colors": {
    "hover_highlight": "#DAA520",
    "navigate_num": "#000000",
    "navigate_text": "#333333",
    "running_highlight": "#FF0000",
    "selected_highlight": "#FFD700",
    "sidebar_border": "#EEEEEE",
    "wrapper_background": "#FFFFFF"
   },
   "moveMenuLeft": true,
   "nav_menu": {
    "height": "164px",
    "width": "252px"
   },
   "navigate_menu": true,
   "number_sections": true,
   "sideBar": true,
   "threshold": 4,
   "toc_cell": false,
   "toc_section_display": "block",
   "toc_window_display": false,
   "widenNotebook": false
  }
 },
 "nbformat": 4,
 "nbformat_minor": 2
}
